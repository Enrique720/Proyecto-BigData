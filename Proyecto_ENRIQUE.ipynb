{
  "nbformat": 4,
  "nbformat_minor": 0,
  "metadata": {
    "colab": {
      "name": "Proyecto_ENRIQUE.ipynb",
      "provenance": [],
      "include_colab_link": true
    },
    "kernelspec": {
      "name": "python3",
      "display_name": "Python 3"
    },
    "language_info": {
      "name": "python"
    },
    "accelerator": "GPU"
  },
  "cells": [
    {
      "cell_type": "markdown",
      "metadata": {
        "id": "view-in-github",
        "colab_type": "text"
      },
      "source": [
        "<a href=\"https://colab.research.google.com/github/Enrique720/Proyecto-BigData/blob/main/Proyecto_ENRIQUE.ipynb\" target=\"_parent\"><img src=\"https://colab.research.google.com/assets/colab-badge.svg\" alt=\"Open In Colab\"/></a>"
      ]
    },
    {
      "cell_type": "markdown",
      "metadata": {
        "id": "7tAMhU_OPUtz"
      },
      "source": [
        "##Preprocesamiento -- keras\n",
        "\n",
        "\n",
        "\n",
        "\n"
      ]
    },
    {
      "cell_type": "code",
      "metadata": {
        "colab": {
          "base_uri": "https://localhost:8080/"
        },
        "id": "v-7uRrt5PS61",
        "outputId": "245c492a-c0d5-4ba4-e833-94678e28b34d"
      },
      "source": [
        "from google.colab import drive\n",
        "drive.mount('/content/drive')"
      ],
      "execution_count": 6,
      "outputs": [
        {
          "output_type": "stream",
          "name": "stdout",
          "text": [
            "Mounted at /content/drive\n"
          ]
        }
      ]
    },
    {
      "cell_type": "code",
      "metadata": {
        "id": "86Qvihs4PtQ-"
      },
      "source": [
        "from pathlib import Path\n",
        "import os\n",
        "import pandas as pd\n",
        "\n",
        "path = '/content/drive/MyDrive/Colab Notebooks/BigData/BigDataProject/RAW_FISH_DATASET' #URL Enrique\n",
        "\n",
        "dataset_path = Path(path)\n",
        "\n",
        "file_path = list(dataset_path.glob(r'**/*.png'))\n",
        "file_path_jpg = list(dataset_path.glob(r'**/*.JPG'))\n",
        "\n",
        "file_path = [*file_path, *file_path_jpg]\n",
        "\n",
        "# create labels from the folder name\n",
        "labels = list(map(lambda x: os.path.split(os.path.split(x)[0])[1], file_path))"
      ],
      "execution_count": 7,
      "outputs": []
    },
    {
      "cell_type": "code",
      "metadata": {
        "colab": {
          "base_uri": "https://localhost:8080/",
          "height": 204
        },
        "id": "I7EHn9oHdUMc",
        "outputId": "a2b8c59d-aa4d-417c-aec4-cb57a31b7e46"
      },
      "source": [
        "file_path = pd.Series(file_path).astype(str)\n",
        "labels = pd.Series(labels)\n",
        "\n",
        "df = pd.concat([file_path, labels], axis=1)\n",
        "\n",
        "df.columns = ['image', 'label']\n",
        "\n",
        "df.head()"
      ],
      "execution_count": 20,
      "outputs": [
        {
          "output_type": "execute_result",
          "data": {
            "text/html": [
              "<div>\n",
              "<style scoped>\n",
              "    .dataframe tbody tr th:only-of-type {\n",
              "        vertical-align: middle;\n",
              "    }\n",
              "\n",
              "    .dataframe tbody tr th {\n",
              "        vertical-align: top;\n",
              "    }\n",
              "\n",
              "    .dataframe thead th {\n",
              "        text-align: right;\n",
              "    }\n",
              "</style>\n",
              "<table border=\"1\" class=\"dataframe\">\n",
              "  <thead>\n",
              "    <tr style=\"text-align: right;\">\n",
              "      <th></th>\n",
              "      <th>image</th>\n",
              "      <th>label</th>\n",
              "    </tr>\n",
              "  </thead>\n",
              "  <tbody>\n",
              "    <tr>\n",
              "      <th>0</th>\n",
              "      <td>/content/drive/MyDrive/Colab Notebooks/BigData...</td>\n",
              "      <td>Horse Mackerel</td>\n",
              "    </tr>\n",
              "    <tr>\n",
              "      <th>1</th>\n",
              "      <td>/content/drive/MyDrive/Colab Notebooks/BigData...</td>\n",
              "      <td>Horse Mackerel</td>\n",
              "    </tr>\n",
              "    <tr>\n",
              "      <th>2</th>\n",
              "      <td>/content/drive/MyDrive/Colab Notebooks/BigData...</td>\n",
              "      <td>Horse Mackerel</td>\n",
              "    </tr>\n",
              "    <tr>\n",
              "      <th>3</th>\n",
              "      <td>/content/drive/MyDrive/Colab Notebooks/BigData...</td>\n",
              "      <td>Horse Mackerel</td>\n",
              "    </tr>\n",
              "    <tr>\n",
              "      <th>4</th>\n",
              "      <td>/content/drive/MyDrive/Colab Notebooks/BigData...</td>\n",
              "      <td>Horse Mackerel</td>\n",
              "    </tr>\n",
              "  </tbody>\n",
              "</table>\n",
              "</div>"
            ],
            "text/plain": [
              "                                               image           label\n",
              "0  /content/drive/MyDrive/Colab Notebooks/BigData...  Horse Mackerel\n",
              "1  /content/drive/MyDrive/Colab Notebooks/BigData...  Horse Mackerel\n",
              "2  /content/drive/MyDrive/Colab Notebooks/BigData...  Horse Mackerel\n",
              "3  /content/drive/MyDrive/Colab Notebooks/BigData...  Horse Mackerel\n",
              "4  /content/drive/MyDrive/Colab Notebooks/BigData...  Horse Mackerel"
            ]
          },
          "metadata": {},
          "execution_count": 20
        }
      ]
    },
    {
      "cell_type": "code",
      "metadata": {
        "id": "Gm7Rua1hprPT"
      },
      "source": [
        "df_1 = df[df['label'] == 'Horse Mackerel']\n",
        "df_2 = df[df['label'] == 'Gilt Head Bream']\n",
        "df_3 = df[df['label'] == 'Red Mullet']\n",
        "df_4 = df[df['label'] == 'Black Sea Sprat']\n",
        "df_5 = df[df['label'] == 'Striped Red Mullet']\n",
        "df_6 = df[df['label'] == 'Trout']\n",
        "df_7 = df[df['label'] == 'Shrimp']\n",
        "df_8 = df[df['label'] == 'Sea Bass']\n",
        "df_9 = df[df['label'] == 'Red Sea Bream']\n",
        "names= ['Horse Mackerel','Gilt Head Bream','Red Mullet','Black Sea Sprat','Striped Red Mullet','Trout','Shrimp','Sea Bass','Red Sea Bream']\n",
        "dataframes = [df_1, df_2, df_3, df_4, df_5, df_6, df_7, df_8, df_9]"
      ],
      "execution_count": 21,
      "outputs": []
    },
    {
      "cell_type": "code",
      "metadata": {
        "id": "auf5Z_-4fHVh"
      },
      "source": [
        "from numpy import expand_dims\n",
        "from keras.preprocessing.image import load_img\n",
        "from keras.preprocessing.image import img_to_array\n",
        "from keras.preprocessing.image import ImageDataGenerator\n",
        "from matplotlib import pyplot"
      ],
      "execution_count": 5,
      "outputs": []
    },
    {
      "cell_type": "code",
      "metadata": {
        "colab": {
          "base_uri": "https://localhost:8080/"
        },
        "id": "GJMxCKwubiTZ",
        "outputId": "dbdd777d-6afc-42c9-d4e7-1916e2d0651a"
      },
      "source": [
        "type(file_path[0])"
      ],
      "execution_count": null,
      "outputs": [
        {
          "output_type": "execute_result",
          "data": {
            "text/plain": [
              "str"
            ]
          },
          "metadata": {},
          "execution_count": 15
        }
      ]
    },
    {
      "cell_type": "code",
      "metadata": {
        "id": "tjI0DsGvWrWS"
      },
      "source": [
        "datagen = ImageDataGenerator(rescale = 1./255,\n",
        "      rotation_range=40,\n",
        "      width_shift_range=0.2,\n",
        "      height_shift_range=0.2,\n",
        "      shear_range=0.2,\n",
        "      zoom_range=0.2,\n",
        "      horizontal_flip=True,\n",
        "      fill_mode='nearest')"
      ],
      "execution_count": 22,
      "outputs": []
    },
    {
      "cell_type": "code",
      "metadata": {
        "colab": {
          "base_uri": "https://localhost:8080/"
        },
        "id": "21fwZ7PbuWfB",
        "outputId": "5d6ae228-b2a8-436a-c9ad-196e079106bd"
      },
      "source": [
        "#EJECUTAR EL AUGMENTATION\n",
        "%%time\n",
        "inicio = time.time()\n",
        "for dataframe_, name in zip(dataframes, names):\n",
        "  s_path = \"/content/drive/MyDrive/Colab Notebooks/BigData/BigDataProject/AUGMENTED DATASET/KERAS/RAY/\" + name + \"/\"\n",
        "  print(s_path)\n",
        "  i = 0\n",
        "  for batch in datagen.flow_from_dataframe(dataframe=dataframe_, x_col=\"image\", y_col=\"label\", target_size=(445,590) #(590,445) \n",
        "   , save_to_dir=s_path, batch_size=25):\n",
        "    i += 1\n",
        "    if i == 40:\n",
        "      break\n",
        "final = time.time()"
      ],
      "execution_count": 23,
      "outputs": [
        {
          "output_type": "stream",
          "name": "stdout",
          "text": [
            "/content/drive/MyDrive/Colab Notebooks/BigData/BigDataProject/AUGMENTED DATASET/KERAS/RAY/Horse Mackerel/\n",
            "Found 50 validated image filenames belonging to 1 classes.\n",
            "/content/drive/MyDrive/Colab Notebooks/BigData/BigDataProject/AUGMENTED DATASET/KERAS/RAY/Gilt Head Bream/\n",
            "Found 50 validated image filenames belonging to 1 classes.\n",
            "/content/drive/MyDrive/Colab Notebooks/BigData/BigDataProject/AUGMENTED DATASET/KERAS/RAY/Red Mullet/\n",
            "Found 50 validated image filenames belonging to 1 classes.\n",
            "/content/drive/MyDrive/Colab Notebooks/BigData/BigDataProject/AUGMENTED DATASET/KERAS/RAY/Black Sea Sprat/\n",
            "Found 50 validated image filenames belonging to 1 classes.\n",
            "/content/drive/MyDrive/Colab Notebooks/BigData/BigDataProject/AUGMENTED DATASET/KERAS/RAY/Striped Red Mullet/\n",
            "Found 50 validated image filenames belonging to 1 classes.\n",
            "/content/drive/MyDrive/Colab Notebooks/BigData/BigDataProject/AUGMENTED DATASET/KERAS/RAY/Trout/\n",
            "Found 50 validated image filenames belonging to 1 classes.\n",
            "/content/drive/MyDrive/Colab Notebooks/BigData/BigDataProject/AUGMENTED DATASET/KERAS/RAY/Shrimp/\n",
            "Found 50 validated image filenames belonging to 1 classes.\n",
            "/content/drive/MyDrive/Colab Notebooks/BigData/BigDataProject/AUGMENTED DATASET/KERAS/RAY/Sea Bass/\n",
            "Found 50 validated image filenames belonging to 1 classes.\n",
            "/content/drive/MyDrive/Colab Notebooks/BigData/BigDataProject/AUGMENTED DATASET/KERAS/RAY/Red Sea Bream/\n",
            "Found 49 validated image filenames belonging to 1 classes.\n",
            "CPU times: user 33min 32s, sys: 33.8 s, total: 34min 6s\n",
            "Wall time: 36min 40s\n"
          ]
        }
      ]
    },
    {
      "cell_type": "code",
      "source": [
        "print(final-inicio)"
      ],
      "metadata": {
        "colab": {
          "base_uri": "https://localhost:8080/"
        },
        "id": "YbFAW4rv5mHU",
        "outputId": "6c4bfce6-45b4-481a-f2ad-b9cf674584f9"
      },
      "execution_count": 24,
      "outputs": [
        {
          "output_type": "stream",
          "name": "stdout",
          "text": [
            "2200.915762901306\n"
          ]
        }
      ]
    },
    {
      "cell_type": "markdown",
      "metadata": {
        "id": "zMgew0bQBaTq"
      },
      "source": [
        "# Preprocesamiento KERAS RAY"
      ]
    },
    {
      "cell_type": "code",
      "metadata": {
        "colab": {
          "base_uri": "https://localhost:8080/"
        },
        "id": "ippribF-BdeC",
        "outputId": "a76f812e-6cbe-44f6-e3ee-008e9183e0fc"
      },
      "source": [
        "!pip install --user --ignore-installed funcsigs\n",
        "!pip install ray "
      ],
      "execution_count": 7,
      "outputs": [
        {
          "output_type": "stream",
          "name": "stdout",
          "text": [
            "Collecting funcsigs\n",
            "  Using cached funcsigs-1.0.2-py2.py3-none-any.whl (17 kB)\n",
            "Installing collected packages: funcsigs\n",
            "Successfully installed funcsigs-1.0.2\n",
            "Requirement already satisfied: ray in /usr/local/lib/python3.7/dist-packages (1.9.0)\n",
            "Requirement already satisfied: filelock in /usr/local/lib/python3.7/dist-packages (from ray) (3.4.0)\n",
            "Requirement already satisfied: msgpack<2.0.0,>=1.0.0 in /usr/local/lib/python3.7/dist-packages (from ray) (1.0.3)\n",
            "Requirement already satisfied: redis>=3.5.0 in /usr/local/lib/python3.7/dist-packages (from ray) (4.0.2)\n",
            "Requirement already satisfied: numpy>=1.16 in /usr/local/lib/python3.7/dist-packages (from ray) (1.19.5)\n",
            "Requirement already satisfied: protobuf>=3.15.3 in /usr/local/lib/python3.7/dist-packages (from ray) (3.17.3)\n",
            "Requirement already satisfied: attrs in /usr/local/lib/python3.7/dist-packages (from ray) (21.2.0)\n",
            "Requirement already satisfied: pyyaml in /usr/local/lib/python3.7/dist-packages (from ray) (3.13)\n",
            "Requirement already satisfied: grpcio>=1.28.1 in /usr/local/lib/python3.7/dist-packages (from ray) (1.42.0)\n",
            "Requirement already satisfied: jsonschema in /usr/local/lib/python3.7/dist-packages (from ray) (2.6.0)\n",
            "Requirement already satisfied: click>=7.0 in /usr/local/lib/python3.7/dist-packages (from ray) (7.1.2)\n",
            "Requirement already satisfied: six>=1.5.2 in /usr/local/lib/python3.7/dist-packages (from grpcio>=1.28.1->ray) (1.15.0)\n",
            "Requirement already satisfied: deprecated in /usr/local/lib/python3.7/dist-packages (from redis>=3.5.0->ray) (1.2.13)\n",
            "Requirement already satisfied: wrapt<2,>=1.10 in /usr/local/lib/python3.7/dist-packages (from deprecated->redis>=3.5.0->ray) (1.13.3)\n"
          ]
        }
      ]
    },
    {
      "cell_type": "code",
      "metadata": {
        "id": "NM1vvJmeBfzS",
        "colab": {
          "base_uri": "https://localhost:8080/",
          "height": 370
        },
        "outputId": "c5cf5661-7f3c-4b55-a48c-ee99d18c611b"
      },
      "source": [
        "from pathlib import Path\n",
        "import os\n",
        "import pandas as pd\n",
        "from numpy import expand_dims\n",
        "from keras.preprocessing.image import load_img\n",
        "from keras.preprocessing.image import img_to_array\n",
        "from keras.preprocessing.image import ImageDataGenerator\n",
        "from matplotlib import pyplot\n",
        "import ray\n",
        "import time"
      ],
      "execution_count": 2,
      "outputs": [
        {
          "output_type": "error",
          "ename": "ModuleNotFoundError",
          "evalue": "ignored",
          "traceback": [
            "\u001b[0;31m---------------------------------------------------------------------------\u001b[0m",
            "\u001b[0;31mModuleNotFoundError\u001b[0m                       Traceback (most recent call last)",
            "\u001b[0;32m<ipython-input-2-9fb02dcf93d4>\u001b[0m in \u001b[0;36m<module>\u001b[0;34m()\u001b[0m\n\u001b[1;32m      7\u001b[0m \u001b[0;32mfrom\u001b[0m \u001b[0mkeras\u001b[0m\u001b[0;34m.\u001b[0m\u001b[0mpreprocessing\u001b[0m\u001b[0;34m.\u001b[0m\u001b[0mimage\u001b[0m \u001b[0;32mimport\u001b[0m \u001b[0mImageDataGenerator\u001b[0m\u001b[0;34m\u001b[0m\u001b[0;34m\u001b[0m\u001b[0m\n\u001b[1;32m      8\u001b[0m \u001b[0;32mfrom\u001b[0m \u001b[0mmatplotlib\u001b[0m \u001b[0;32mimport\u001b[0m \u001b[0mpyplot\u001b[0m\u001b[0;34m\u001b[0m\u001b[0;34m\u001b[0m\u001b[0m\n\u001b[0;32m----> 9\u001b[0;31m \u001b[0;32mimport\u001b[0m \u001b[0mray\u001b[0m\u001b[0;34m\u001b[0m\u001b[0;34m\u001b[0m\u001b[0m\n\u001b[0m\u001b[1;32m     10\u001b[0m \u001b[0;32mimport\u001b[0m \u001b[0mtime\u001b[0m\u001b[0;34m\u001b[0m\u001b[0;34m\u001b[0m\u001b[0m\n",
            "\u001b[0;31mModuleNotFoundError\u001b[0m: No module named 'ray'",
            "",
            "\u001b[0;31m---------------------------------------------------------------------------\u001b[0;32m\nNOTE: If your import is failing due to a missing package, you can\nmanually install dependencies using either !pip or !apt.\n\nTo view examples of installing some common dependencies, click the\n\"Open Examples\" button below.\n\u001b[0;31m---------------------------------------------------------------------------\u001b[0m\n"
          ],
          "errorDetails": {
            "actions": [
              {
                "action": "open_url",
                "actionText": "Open Examples",
                "url": "/notebooks/snippets/importing_libraries.ipynb"
              }
            ]
          }
        }
      ]
    },
    {
      "cell_type": "code",
      "metadata": {
        "colab": {
          "base_uri": "https://localhost:8080/"
        },
        "id": "NuoFCQ9_CQNr",
        "outputId": "cae6a155-fd78-47cf-b753-f730008e6de8"
      },
      "source": [
        "num_workers = 4\n",
        "ray.init(num_cpus=num_workers, ignore_reinit_error=True)"
      ],
      "execution_count": 9,
      "outputs": [
        {
          "output_type": "execute_result",
          "data": {
            "text/plain": [
              "{'metrics_export_port': 57646,\n",
              " 'node_id': '50a4968d43edde9a25e3715d7030ccef7c7dc683bcfbdd540e790324',\n",
              " 'node_ip_address': '172.28.0.2',\n",
              " 'object_store_address': '/tmp/ray/session_2021-12-08_02-01-42_586340_1051/sockets/plasma_store',\n",
              " 'raylet_ip_address': '172.28.0.2',\n",
              " 'raylet_socket_name': '/tmp/ray/session_2021-12-08_02-01-42_586340_1051/sockets/raylet',\n",
              " 'redis_address': '172.28.0.2:6379',\n",
              " 'session_dir': '/tmp/ray/session_2021-12-08_02-01-42_586340_1051',\n",
              " 'webui_url': None}"
            ]
          },
          "metadata": {},
          "execution_count": 9
        }
      ]
    },
    {
      "cell_type": "code",
      "metadata": {
        "id": "ZxQBosPMBxSd"
      },
      "source": [
        "# RAY MAIN FUNCTION\n",
        "\n",
        "@ray.remote\n",
        "def data_augmentation_ray(dataframe_, name):\n",
        "  #for dataframe_, name in zip(dataframes, names):\n",
        "  s_path = \"/content/drive/MyDrive/Colab Notebooks/BigData/BigDataProject/AUGMENTED DATASET/KERAS/RAY2/\" + name + \"/\"\n",
        "  print(s_path)\n",
        "  i = 0\n",
        "  for batch in datagen.flow_from_dataframe(dataframe=dataframe_, x_col=\"image\", y_col=\"label\", target_size=(445,590) #(590,445) \n",
        "  , save_to_dir=s_path, batch_size=25):\n",
        "    i += 1\n",
        "    if i == 40:\n",
        "      break\n"
      ],
      "execution_count": 10,
      "outputs": []
    },
    {
      "cell_type": "code",
      "metadata": {
        "id": "LuIAa-g9DH9i",
        "colab": {
          "base_uri": "https://localhost:8080/"
        },
        "outputId": "d39cbf22-0712-455b-f1a6-bf44f9bce9bd"
      },
      "source": [
        "%%time\n",
        "inicio = time.time()\n",
        "ray.get([data_augmentation_ray.remote(dataframe_, name) for dataframe_, name in zip(dataframes, names)])\n",
        "final = time.time()"
      ],
      "execution_count": 11,
      "outputs": [
        {
          "output_type": "stream",
          "name": "stdout",
          "text": [
            "\u001b[2m\u001b[36m(data_augmentation_ray pid=1221)\u001b[0m /content/drive/MyDrive/Colab Notebooks/BigData/BigDataProject/AUGMENTED DATASET/KERAS/RAY2/Horse Mackerel/\n",
            "\u001b[2m\u001b[36m(data_augmentation_ray pid=1221)\u001b[0m Found 50 validated image filenames belonging to 1 classes.\n",
            "\u001b[2m\u001b[36m(data_augmentation_ray pid=1220)\u001b[0m /content/drive/MyDrive/Colab Notebooks/BigData/BigDataProject/AUGMENTED DATASET/KERAS/RAY2/Gilt Head Bream/\n",
            "\u001b[2m\u001b[36m(data_augmentation_ray pid=1220)\u001b[0m Found 50 validated image filenames belonging to 1 classes.\n",
            "\u001b[2m\u001b[36m(data_augmentation_ray pid=1290)\u001b[0m /content/drive/MyDrive/Colab Notebooks/BigData/BigDataProject/AUGMENTED DATASET/KERAS/RAY2/Red Mullet/\n",
            "\u001b[2m\u001b[36m(data_augmentation_ray pid=1290)\u001b[0m Found 50 validated image filenames belonging to 1 classes.\n",
            "\u001b[2m\u001b[36m(data_augmentation_ray pid=1289)\u001b[0m /content/drive/MyDrive/Colab Notebooks/BigData/BigDataProject/AUGMENTED DATASET/KERAS/RAY2/Black Sea Sprat/\n",
            "\u001b[2m\u001b[36m(data_augmentation_ray pid=1289)\u001b[0m Found 50 validated image filenames belonging to 1 classes.\n",
            "\u001b[2m\u001b[36m(data_augmentation_ray pid=1289)\u001b[0m /content/drive/MyDrive/Colab Notebooks/BigData/BigDataProject/AUGMENTED DATASET/KERAS/RAY2/Striped Red Mullet/\n",
            "\u001b[2m\u001b[36m(data_augmentation_ray pid=1289)\u001b[0m Found 50 validated image filenames belonging to 1 classes.\n",
            "\u001b[2m\u001b[36m(data_augmentation_ray pid=1290)\u001b[0m /content/drive/MyDrive/Colab Notebooks/BigData/BigDataProject/AUGMENTED DATASET/KERAS/RAY2/Trout/\n",
            "\u001b[2m\u001b[36m(data_augmentation_ray pid=1290)\u001b[0m Found 50 validated image filenames belonging to 1 classes.\n",
            "\u001b[2m\u001b[36m(data_augmentation_ray pid=1220)\u001b[0m /content/drive/MyDrive/Colab Notebooks/BigData/BigDataProject/AUGMENTED DATASET/KERAS/RAY2/Shrimp/\n",
            "\u001b[2m\u001b[36m(data_augmentation_ray pid=1220)\u001b[0m Found 50 validated image filenames belonging to 1 classes.\n",
            "\u001b[2m\u001b[36m(data_augmentation_ray pid=1221)\u001b[0m /content/drive/MyDrive/Colab Notebooks/BigData/BigDataProject/AUGMENTED DATASET/KERAS/RAY2/Sea Bass/\n",
            "\u001b[2m\u001b[36m(data_augmentation_ray pid=1221)\u001b[0m Found 50 validated image filenames belonging to 1 classes.\n",
            "\u001b[2m\u001b[36m(data_augmentation_ray pid=1290)\u001b[0m /content/drive/MyDrive/Colab Notebooks/BigData/BigDataProject/AUGMENTED DATASET/KERAS/RAY2/Red Sea Bream/\n",
            "\u001b[2m\u001b[36m(data_augmentation_ray pid=1290)\u001b[0m Found 49 validated image filenames belonging to 1 classes.\n",
            "CPU times: user 32.8 s, sys: 5.17 s, total: 38 s\n",
            "Wall time: 27min 41s\n"
          ]
        }
      ]
    },
    {
      "cell_type": "code",
      "metadata": {
        "colab": {
          "base_uri": "https://localhost:8080/"
        },
        "id": "IWZOtLvsDpoC",
        "outputId": "d6d14690-ea66-4a01-e16a-c5db98d98a2a"
      },
      "source": [
        "print(\"tiempo de ejecucion: \"  + str(final - inicio) )"
      ],
      "execution_count": 12,
      "outputs": [
        {
          "output_type": "stream",
          "name": "stdout",
          "text": [
            "tiempo de ejecucion: 1661.2959208488464\n"
          ]
        }
      ]
    },
    {
      "cell_type": "markdown",
      "metadata": {
        "id": "5P2KJEotCbR0"
      },
      "source": [
        "#Model Training"
      ]
    },
    {
      "cell_type": "code",
      "metadata": {
        "id": "s0GCPTJxBEDa"
      },
      "source": [
        "from sklearn.model_selection import train_test_split\n"
      ],
      "execution_count": 2,
      "outputs": []
    },
    {
      "cell_type": "code",
      "metadata": {
        "id": "3sqoitX_9y7P"
      },
      "source": [
        "input_shape = (445, 590, 3) # 200, 200, 3"
      ],
      "execution_count": 3,
      "outputs": []
    },
    {
      "cell_type": "markdown",
      "metadata": {
        "id": "wDFWCo3M-zY5"
      },
      "source": [
        "#### Read Data Augmented:"
      ]
    },
    {
      "cell_type": "code",
      "metadata": {
        "colab": {
          "base_uri": "https://localhost:8080/",
          "height": 204
        },
        "id": "DGPLww13_bAd",
        "outputId": "7b7985f3-e411-4beb-efeb-1c445bbc1c9e"
      },
      "source": [
        "dataset_path = Path(r'/content/drive/MyDrive/Colab Notebooks/BigData/BigDataProject/AUGMENTED DATASET/KERAS/RAY2')\n",
        "\n",
        "file_path = list(dataset_path.glob(r'**/*.png'))\n",
        "\n",
        "# create labels from the folder name\n",
        "labels = list(map(lambda x: os.path.split(os.path.split(x)[0])[1], file_path))\n",
        "file_path = pd.Series(file_path).astype(str)\n",
        "labels = pd.Series(labels)\n",
        "\n",
        "df = pd.concat([file_path, labels], axis=1)\n",
        "\n",
        "df.columns = ['image', 'label']\n",
        "\n",
        "df.head()"
      ],
      "execution_count": 8,
      "outputs": [
        {
          "output_type": "execute_result",
          "data": {
            "text/html": [
              "<div>\n",
              "<style scoped>\n",
              "    .dataframe tbody tr th:only-of-type {\n",
              "        vertical-align: middle;\n",
              "    }\n",
              "\n",
              "    .dataframe tbody tr th {\n",
              "        vertical-align: top;\n",
              "    }\n",
              "\n",
              "    .dataframe thead th {\n",
              "        text-align: right;\n",
              "    }\n",
              "</style>\n",
              "<table border=\"1\" class=\"dataframe\">\n",
              "  <thead>\n",
              "    <tr style=\"text-align: right;\">\n",
              "      <th></th>\n",
              "      <th>image</th>\n",
              "      <th>label</th>\n",
              "    </tr>\n",
              "  </thead>\n",
              "  <tbody>\n",
              "    <tr>\n",
              "      <th>0</th>\n",
              "      <td>/content/drive/MyDrive/Colab Notebooks/BigData...</td>\n",
              "      <td>Horse Mackerel</td>\n",
              "    </tr>\n",
              "    <tr>\n",
              "      <th>1</th>\n",
              "      <td>/content/drive/MyDrive/Colab Notebooks/BigData...</td>\n",
              "      <td>Horse Mackerel</td>\n",
              "    </tr>\n",
              "    <tr>\n",
              "      <th>2</th>\n",
              "      <td>/content/drive/MyDrive/Colab Notebooks/BigData...</td>\n",
              "      <td>Horse Mackerel</td>\n",
              "    </tr>\n",
              "    <tr>\n",
              "      <th>3</th>\n",
              "      <td>/content/drive/MyDrive/Colab Notebooks/BigData...</td>\n",
              "      <td>Horse Mackerel</td>\n",
              "    </tr>\n",
              "    <tr>\n",
              "      <th>4</th>\n",
              "      <td>/content/drive/MyDrive/Colab Notebooks/BigData...</td>\n",
              "      <td>Horse Mackerel</td>\n",
              "    </tr>\n",
              "  </tbody>\n",
              "</table>\n",
              "</div>"
            ],
            "text/plain": [
              "                                               image           label\n",
              "0  /content/drive/MyDrive/Colab Notebooks/BigData...  Horse Mackerel\n",
              "1  /content/drive/MyDrive/Colab Notebooks/BigData...  Horse Mackerel\n",
              "2  /content/drive/MyDrive/Colab Notebooks/BigData...  Horse Mackerel\n",
              "3  /content/drive/MyDrive/Colab Notebooks/BigData...  Horse Mackerel\n",
              "4  /content/drive/MyDrive/Colab Notebooks/BigData...  Horse Mackerel"
            ]
          },
          "metadata": {},
          "execution_count": 8
        }
      ]
    },
    {
      "cell_type": "code",
      "metadata": {
        "id": "ZCXbFkmnBAEK"
      },
      "source": [
        "x_train, x_test = train_test_split(df, test_size=0.3,random_state=30)\n"
      ],
      "execution_count": 9,
      "outputs": []
    },
    {
      "cell_type": "code",
      "metadata": {
        "colab": {
          "base_uri": "https://localhost:8080/"
        },
        "id": "f0tnHrxuBLCV",
        "outputId": "5f5dfd4d-9355-4781-91bb-fcaad6a6a079"
      },
      "source": [
        "print(\"Shape of training data\", x_train.shape)\n",
        "print(\"Shape of test data\", x_test.shape)\n"
      ],
      "execution_count": 10,
      "outputs": [
        {
          "output_type": "stream",
          "name": "stdout",
          "text": [
            "Shape of training data (6286, 2)\n",
            "Shape of test data (2694, 2)\n"
          ]
        }
      ]
    },
    {
      "cell_type": "code",
      "metadata": {
        "id": "yZtNp0ja-lRE"
      },
      "source": [
        "import tensorflow as tf\n",
        "from keras.preprocessing.image import ImageDataGenerator\n",
        "from keras.models import Sequential, Model\n",
        "from keras.layers import Dense, Flatten, Dropout, GlobalAveragePooling2D\n",
        "from keras.models import load_model"
      ],
      "execution_count": 16,
      "outputs": []
    },
    {
      "cell_type": "code",
      "metadata": {
        "colab": {
          "base_uri": "https://localhost:8080/"
        },
        "id": "JvaD2h8Olrvv",
        "outputId": "20599a79-e5da-4e48-b1e9-05445f58c59b"
      },
      "source": [
        "image_data_generator = ImageDataGenerator(rescale = 1./255,\n",
        "    rotation_range=40,\n",
        "      width_shift_range=0.2,\n",
        "      height_shift_range=0.2,\n",
        "      shear_range=0.2,\n",
        "      zoom_range=0.2,\n",
        "      horizontal_flip=True,\n",
        "      fill_mode='nearest')\n",
        "\n",
        "train = image_data_generator.flow_from_dataframe(dataframe=x_train, x_col='image', y_col='label', target_size=(445, 590), color_mode='rgb', class_mode='categorical', shuffle=False)\n",
        "test = image_data_generator.flow_from_dataframe(dataframe=x_test, x_col='image', y_col='label', target_size=(445, 590), color_mode='rgb', class_mode='categorical', shuffle=False)\n",
        "#val = image_data_generator.flow_from_dataframe(dataframe=x_val, x_col='image', y_col='label', target_size=(200,200), color_mode='rgb', class_mode='categorical',shuffle=False)"
      ],
      "execution_count": 21,
      "outputs": [
        {
          "output_type": "stream",
          "name": "stdout",
          "text": [
            "Found 6286 validated image filenames belonging to 9 classes.\n",
            "Found 2694 validated image filenames belonging to 9 classes.\n"
          ]
        }
      ]
    },
    {
      "cell_type": "code",
      "metadata": {
        "colab": {
          "base_uri": "https://localhost:8080/"
        },
        "id": "9COqBsAS-LXp",
        "outputId": "1602694f-19e0-4767-c32a-ff2f3f02b76c"
      },
      "source": [
        "model = tf.keras.models.Sequential([\n",
        "    tf.keras.layers.Conv2D(64, (3,3), activation='relu', input_shape=input_shape ),\n",
        "    tf.keras.layers.MaxPool2D(pool_size = (2,2)),\n",
        "    tf.keras.layers.Conv2D(64, (3,3), activation='relu'),\n",
        "    tf.keras.layers.MaxPool2D(pool_size = (2,2)),\n",
        "    tf.keras.layers.Conv2D(32, (3,3), activation='relu'),\n",
        "    tf.keras.layers.MaxPool2D(pool_size = (2,2)),\n",
        "    tf.keras.layers.Conv2D(32, (3,3), activation='relu'),\n",
        "    tf.keras.layers.MaxPool2D(pool_size = (2,2)),\n",
        "    tf.keras.layers.Flatten(),\n",
        "    tf.keras.layers.Dense(512, activation='relu'),\n",
        "    tf.keras.layers.Dense(128, activation='relu'),\n",
        "    tf.keras.layers.Dropout(0.2),\n",
        "    tf.keras.layers.Dense(128, activation='relu'),\n",
        "    tf.keras.layers.Dropout(0.2),\n",
        "    tf.keras.layers.Dense(9, activation='softmax')\n",
        "])\n",
        "\n",
        "model.summary()"
      ],
      "execution_count": 13,
      "outputs": [
        {
          "output_type": "stream",
          "name": "stdout",
          "text": [
            "Model: \"sequential\"\n",
            "_________________________________________________________________\n",
            " Layer (type)                Output Shape              Param #   \n",
            "=================================================================\n",
            " conv2d (Conv2D)             (None, 443, 588, 64)      1792      \n",
            "                                                                 \n",
            " max_pooling2d (MaxPooling2D  (None, 221, 294, 64)     0         \n",
            " )                                                               \n",
            "                                                                 \n",
            " conv2d_1 (Conv2D)           (None, 219, 292, 64)      36928     \n",
            "                                                                 \n",
            " max_pooling2d_1 (MaxPooling  (None, 109, 146, 64)     0         \n",
            " 2D)                                                             \n",
            "                                                                 \n",
            " conv2d_2 (Conv2D)           (None, 107, 144, 32)      18464     \n",
            "                                                                 \n",
            " max_pooling2d_2 (MaxPooling  (None, 53, 72, 32)       0         \n",
            " 2D)                                                             \n",
            "                                                                 \n",
            " conv2d_3 (Conv2D)           (None, 51, 70, 32)        9248      \n",
            "                                                                 \n",
            " max_pooling2d_3 (MaxPooling  (None, 25, 35, 32)       0         \n",
            " 2D)                                                             \n",
            "                                                                 \n",
            " flatten (Flatten)           (None, 28000)             0         \n",
            "                                                                 \n",
            " dense (Dense)               (None, 512)               14336512  \n",
            "                                                                 \n",
            " dense_1 (Dense)             (None, 128)               65664     \n",
            "                                                                 \n",
            " dropout (Dropout)           (None, 128)               0         \n",
            "                                                                 \n",
            " dense_2 (Dense)             (None, 128)               16512     \n",
            "                                                                 \n",
            " dropout_1 (Dropout)         (None, 128)               0         \n",
            "                                                                 \n",
            " dense_3 (Dense)             (None, 9)                 1161      \n",
            "                                                                 \n",
            "=================================================================\n",
            "Total params: 14,486,281\n",
            "Trainable params: 14,486,281\n",
            "Non-trainable params: 0\n",
            "_________________________________________________________________\n"
          ]
        }
      ]
    },
    {
      "cell_type": "code",
      "metadata": {
        "id": "bdydueh9iClV"
      },
      "source": [
        "from tensorflow.keras.optimizers import Adam\n"
      ],
      "execution_count": 12,
      "outputs": []
    },
    {
      "cell_type": "code",
      "metadata": {
        "colab": {
          "base_uri": "https://localhost:8080/"
        },
        "id": "YsEV56Syf5fk",
        "outputId": "e51824b4-95bc-4a6c-f9f4-55450ba59c63"
      },
      "source": [
        "model.compile(optimizer=\"adam\", loss='categorical_crossentropy', metrics=[\"accuracy\"])\n",
        "\n",
        "callback = tf.keras.callbacks.EarlyStopping(monitor='accuracy', patience=4)\n",
        "\n",
        "history = model.fit(train, epochs=20, callbacks=callback)"
      ],
      "execution_count": 13,
      "outputs": [
        {
          "output_type": "stream",
          "name": "stdout",
          "text": [
            "Epoch 1/20\n",
            "197/197 [==============================] - 1760s 9s/step - loss: 1.9035 - accuracy: 0.2429\n",
            "Epoch 2/20\n",
            "197/197 [==============================] - 473s 2s/step - loss: 1.3021 - accuracy: 0.4914\n",
            "Epoch 3/20\n",
            "197/197 [==============================] - 468s 2s/step - loss: 1.0838 - accuracy: 0.5907\n",
            "Epoch 4/20\n",
            "197/197 [==============================] - 469s 2s/step - loss: 0.7887 - accuracy: 0.6954\n",
            "Epoch 5/20\n",
            "197/197 [==============================] - 459s 2s/step - loss: 0.6623 - accuracy: 0.7436\n",
            "Epoch 6/20\n",
            "197/197 [==============================] - 465s 2s/step - loss: 0.5498 - accuracy: 0.7884\n",
            "Epoch 7/20\n",
            "197/197 [==============================] - 480s 2s/step - loss: 0.4953 - accuracy: 0.8110\n",
            "Epoch 8/20\n",
            "197/197 [==============================] - 448s 2s/step - loss: 0.3885 - accuracy: 0.8521\n",
            "Epoch 9/20\n",
            "197/197 [==============================] - 451s 2s/step - loss: 0.4106 - accuracy: 0.8505\n",
            "Epoch 10/20\n",
            "197/197 [==============================] - 456s 2s/step - loss: 0.3246 - accuracy: 0.8831\n",
            "Epoch 11/20\n",
            "197/197 [==============================] - 463s 2s/step - loss: 0.3349 - accuracy: 0.8845\n",
            "Epoch 12/20\n",
            "197/197 [==============================] - 469s 2s/step - loss: 0.2821 - accuracy: 0.8966\n",
            "Epoch 13/20\n",
            "197/197 [==============================] - 458s 2s/step - loss: 0.2564 - accuracy: 0.9109\n",
            "Epoch 14/20\n",
            "197/197 [==============================] - 470s 2s/step - loss: 0.2473 - accuracy: 0.9150\n",
            "Epoch 15/20\n",
            "197/197 [==============================] - 476s 2s/step - loss: 0.2385 - accuracy: 0.9200\n",
            "Epoch 16/20\n",
            "197/197 [==============================] - 472s 2s/step - loss: 0.2263 - accuracy: 0.9228\n",
            "Epoch 17/20\n",
            "197/197 [==============================] - 475s 2s/step - loss: 0.1643 - accuracy: 0.9429\n",
            "Epoch 18/20\n",
            "197/197 [==============================] - 475s 2s/step - loss: 0.2001 - accuracy: 0.9300\n",
            "Epoch 19/20\n",
            "197/197 [==============================] - 473s 2s/step - loss: 0.1886 - accuracy: 0.9349\n",
            "Epoch 20/20\n",
            "197/197 [==============================] - 469s 2s/step - loss: 0.1419 - accuracy: 0.9513\n"
          ]
        }
      ]
    },
    {
      "cell_type": "code",
      "metadata": {
        "id": "gjNeqr8O9Afi"
      },
      "source": [
        "#model.save('/content/drive/MyDrive/Colab Notebooks/BigData/BigDataProject/AUGMENTED DATASET/KERAS/model_1000images.h5')\n",
        "model = load_model('/content/drive/MyDrive/Colab Notebooks/BigData/BigDataProject/AUGMENTED DATASET/KERAS/model_1000images.h5')"
      ],
      "execution_count": 17,
      "outputs": []
    },
    {
      "cell_type": "code",
      "source": [
        "accuracy = [0.2425, 0.4914, 0.5907, 0.6954, 0.7436, 0.7884, 0.8110, 0.8521, 0.8505, 0.8831, 0.8845, 0.8966, 0.9109, 0.9150, 0.9200, 0.9429, 0.9300, 0.9349, 0.9513]\n",
        "loss = [1.9035, 1.3021, 1.0838, 0.7887, 0.6623, 0.5498, 0.3885, 0.4106, 0.3246, 0.3349, 0.2821, 0.2564, 0.2473, 0.2385, 0.2263, 0.1643, 0.2001, 0.1886, 0.1419]"
      ],
      "metadata": {
        "id": "MoV55egf-exv"
      },
      "execution_count": 18,
      "outputs": []
    },
    {
      "cell_type": "code",
      "metadata": {
        "id": "Y5ClEsE89qBK",
        "colab": {
          "base_uri": "https://localhost:8080/",
          "height": 186
        },
        "outputId": "ed85a221-6255-42fd-a776-c0b99a749ee0"
      },
      "source": [
        "accuracy = history.history['accuracy']\n",
        "loss = history.history['loss']"
      ],
      "execution_count": 3,
      "outputs": [
        {
          "output_type": "error",
          "ename": "NameError",
          "evalue": "ignored",
          "traceback": [
            "\u001b[0;31m---------------------------------------------------------------------------\u001b[0m",
            "\u001b[0;31mNameError\u001b[0m                                 Traceback (most recent call last)",
            "\u001b[0;32m<ipython-input-3-c067529e46d1>\u001b[0m in \u001b[0;36m<module>\u001b[0;34m()\u001b[0m\n\u001b[0;32m----> 1\u001b[0;31m \u001b[0maccuracy\u001b[0m \u001b[0;34m=\u001b[0m \u001b[0mhistory\u001b[0m\u001b[0;34m.\u001b[0m\u001b[0mhistory\u001b[0m\u001b[0;34m[\u001b[0m\u001b[0;34m'accuracy'\u001b[0m\u001b[0;34m]\u001b[0m\u001b[0;34m\u001b[0m\u001b[0;34m\u001b[0m\u001b[0m\n\u001b[0m\u001b[1;32m      2\u001b[0m \u001b[0mloss\u001b[0m \u001b[0;34m=\u001b[0m \u001b[0mhistory\u001b[0m\u001b[0;34m.\u001b[0m\u001b[0mhistory\u001b[0m\u001b[0;34m[\u001b[0m\u001b[0;34m'loss'\u001b[0m\u001b[0;34m]\u001b[0m\u001b[0;34m\u001b[0m\u001b[0;34m\u001b[0m\u001b[0m\n",
            "\u001b[0;31mNameError\u001b[0m: name 'history' is not defined"
          ]
        }
      ]
    },
    {
      "cell_type": "code",
      "metadata": {
        "colab": {
          "base_uri": "https://localhost:8080/",
          "height": 324
        },
        "id": "vM8U1rgC9vQs",
        "outputId": "f617b8aa-8198-4576-f0e5-29b230b9c185"
      },
      "source": [
        "import matplotlib.pyplot as plt\n",
        "\n",
        "plt.figure(figsize=(15,10))\n",
        "\n",
        "plt.subplot(2, 2, 1)\n",
        "plt.plot(accuracy, label = \"Training accuracy\")\n",
        "plt.xlabel(\"epochs\")\n",
        "plt.ylabel(\"Accuracy\")\n",
        "plt.legend()\n",
        "plt.title(\"Training accuracy\")\n",
        "\n",
        "\n",
        "plt.subplot(2,2,2)\n",
        "plt.plot(loss, label = \"Training loss\")\n",
        "plt.xlabel(\"epochs\")\n",
        "plt.ylabel(\"Loss\")\n",
        "plt.legend()\n",
        "plt.title(\"Training loss\")\n",
        "\n",
        "plt.show()"
      ],
      "execution_count": 19,
      "outputs": [
        {
          "output_type": "display_data",
          "data": {
            "image/png": "[encoded data removed]",
            "text/plain": [
              "<Figure size 1080x720 with 2 Axes>"
            ]
          },
          "metadata": {
            "needs_background": "light"
          }
        }
      ]
    },
    {
      "cell_type": "code",
      "metadata": {
        "colab": {
          "base_uri": "https://localhost:8080/"
        },
        "id": "y8OY9PrpODnw",
        "outputId": "555129b3-7a90-4eae-d706-be1ca9e0ec9b"
      },
      "source": [
        "test_accuracy = model.evaluate(test)[1]"
      ],
      "execution_count": 22,
      "outputs": [
        {
          "output_type": "stream",
          "name": "stdout",
          "text": [
            "85/85 [==============================] - 746s 9s/step - loss: 0.1609 - accuracy: 0.9480\n"
          ]
        }
      ]
    }
  ]
}