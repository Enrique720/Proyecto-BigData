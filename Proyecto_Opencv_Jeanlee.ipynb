{
  "nbformat": 4,
  "nbformat_minor": 0,
  "metadata": {
    "colab": {
      "name": "Proyecto_Opencv_Jeanlee.ipynb",
      "provenance": [],
      "collapsed_sections": [],
      "toc_visible": true,
      "authorship_tag": "ABX9TyNt4UqCmS4gfukEjsGT995Z",
      "include_colab_link": true
    },
    "kernelspec": {
      "display_name": "Python 3",
      "name": "python3"
    },
    "language_info": {
      "name": "python"
    }
  },
  "cells": [
    {
      "cell_type": "markdown",
      "metadata": {
        "id": "view-in-github",
        "colab_type": "text"
      },
      "source": [
        "<a href=\"https://colab.research.google.com/github/Enrique720/Proyecto-BigData/blob/main/Proyecto_Opencv_Jeanlee.ipynb\" target=\"_parent\"><img src=\"https://colab.research.google.com/assets/colab-badge.svg\" alt=\"Open In Colab\"/></a>"
      ]
    },
    {
      "cell_type": "markdown",
      "metadata": {
        "id": "sM0k1YPmYEdq"
      },
      "source": [
        "# Preprocessing"
      ]
    },
    {
      "cell_type": "code",
      "metadata": {
        "id": "gMS8MENuo8zd"
      },
      "source": [
        "import cv2\n",
        "import random\n",
        "from google.colab.patches import cv2_imshow"
      ],
      "execution_count": null,
      "outputs": []
    },
    {
      "cell_type": "code",
      "metadata": {
        "id": "yBoSeHAyq2el"
      },
      "source": [
        "def horizontal_flip(img, flag=True):\n",
        "    if flag: return cv2.flip(img, 1)\n",
        "    else: return img\n"
      ],
      "execution_count": 31,
      "outputs": []
    },
    {
      "cell_type": "code",
      "metadata": {
        "id": "2Vc_wipVqj3g"
      },
      "source": [
        "def vertical_flip(img, flag=True):\n",
        "    if flag: return cv2.flip(img, 0)\n",
        "    else: return img\n"
      ],
      "execution_count": 32,
      "outputs": []
    },
    {
      "cell_type": "code",
      "metadata": {
        "id": "jwBAjjbmrRAw"
      },
      "source": [
        "def rotation(img, angle):\n",
        "    angle = int(random.uniform(-angle, angle))\n",
        "    h, w = img.shape[:2]\n",
        "    M = cv2.getRotationMatrix2D((int(w/2), int(h/2)), angle, 1)\n",
        "    img = cv2.warpAffine(img, M, (w, h))\n",
        "    return img\n"
      ],
      "execution_count": 49,
      "outputs": []
    },
    {
      "cell_type": "code",
      "metadata": {
        "id": "d_p8GZf0r-tC"
      },
      "source": [
        "def resize(img, width, height):\n",
        "  dim = (width, height)\n",
        "  resized = cv2.resize(img, dim, interpolation = cv2.INTER_AREA)\n",
        "  return resized\n",
        " "
      ],
      "execution_count": null,
      "outputs": []
    },
    {
      "cell_type": "markdown",
      "metadata": {
        "id": "zf1yDTg1jNXH"
      },
      "source": [
        "## Augmentated data"
      ]
    },
    {
      "cell_type": "code",
      "metadata": {
        "colab": {
          "base_uri": "https://localhost:8080/"
        },
        "id": "D033hlWrjN5H",
        "outputId": "4bd69736-01e2-4959-d49d-18bba016582c"
      },
      "source": [
        "from google.colab import drive\n",
        "drive.mount('/content/drive')"
      ],
      "execution_count": null,
      "outputs": [
        {
          "name": "stdout",
          "output_type": "stream",
          "text": [
            "Mounted at /content/drive\n"
          ]
        }
      ]
    },
    {
      "cell_type": "code",
      "metadata": {
        "id": "N0YB2cXr5NQZ"
      },
      "source": [
        "import os\n",
        "import os.path\n",
        "from os import path\n",
        "import shutil"
      ],
      "execution_count": 50,
      "outputs": []
    },
    {
      "cell_type": "code",
      "metadata": {
        "colab": {
          "base_uri": "https://localhost:8080/"
        },
        "id": "3BkoC1czkIY5",
        "outputId": "9ab2ca1f-6641-495c-9623-0159a8f99ed4"
      },
      "source": [
        "%%time\n",
        "\n",
        "n_final = 1000\n",
        "\n",
        "base_folder = '/content/drive/MyDrive/BIG_DATA/RAW_FISH_DATASET/'\n",
        "final_folder = '/content/drive/MyDrive/BIG_DATA/OPENCV1000/'\n",
        "\n",
        "if path.isdir(final_folder):\n",
        "  shutil.rmtree(final_folder)\n",
        "os.mkdir(final_folder)\n",
        "\n",
        "dirs = next(os.walk(base_folder))[1]\n",
        "\n",
        "for species in dirs:\n",
        "  raw_folder = base_folder + species + '/'\n",
        "  out_folder = final_folder + species + '/'\n",
        "  os.mkdir(out_folder)\n",
        "\n",
        "  files = next(os.walk(raw_folder))[2]\n",
        "  proportion = n_final // len(files)\n",
        "\n",
        "  for cont, img_name in enumerate(files):\n",
        "    f_name = os.path.splitext(img_name)[0]\n",
        "    img = cv2.imread(raw_folder + img_name)\n",
        "    img = resize(img, 590, 445)\n",
        "    for i in range(proportion):\n",
        "      if (i/2): img = horizontal_flip(img)\n",
        "      if (i%2): img = vertical_flip(img)\n",
        "      img = rotation(img, 30+i+cont)\n",
        "      cv2.imwrite(out_folder+f_name+'_'+str(i)+'.png',img)\n"
      ],
      "execution_count": 69,
      "outputs": [
        {
          "output_type": "stream",
          "name": "stdout",
          "text": [
            "CPU times: user 3min 10s, sys: 12.1 s, total: 3min 22s\n",
            "Wall time: 4min 41s\n"
          ]
        }
      ]
    },
    {
      "cell_type": "markdown",
      "metadata": {
        "id": "VCo5eiT97cOg"
      },
      "source": [
        "Para 1000 imagenes por clase:\n",
        "\n",
        "CPU times: user 3min 9s, sys: 12.2 s, total: 3min 21s\n",
        "Wall time: 4min 43s"
      ]
    },
    {
      "cell_type": "markdown",
      "metadata": {
        "id": "tqlzsS1AXzkw"
      },
      "source": [
        "# CNN Model"
      ]
    },
    {
      "cell_type": "markdown",
      "metadata": {
        "id": "z49bFllkX6yw"
      },
      "source": [
        "## Read data"
      ]
    },
    {
      "cell_type": "code",
      "metadata": {
        "id": "VQSqHHg57x0d"
      },
      "source": [
        "import numpy as np # linear algebra\n",
        "import pandas as pd\n",
        "from pathlib import Path"
      ],
      "execution_count": 52,
      "outputs": []
    },
    {
      "cell_type": "code",
      "metadata": {
        "id": "_7_przXe76fS"
      },
      "source": [
        "dataset_path = Path(r'/content/OPENCV')\n",
        "\n",
        "file_path = list(dataset_path.glob(r'**/*.png'))\n",
        "\n",
        "# create labels from the folder name\n",
        "labels = list(map(lambda x: os.path.split(os.path.split(x)[0])[1], file_path))"
      ],
      "execution_count": 53,
      "outputs": []
    },
    {
      "cell_type": "code",
      "metadata": {
        "colab": {
          "base_uri": "https://localhost:8080/",
          "height": 206
        },
        "id": "wYMtB16G8KJQ",
        "outputId": "c827ec31-26e2-4247-bf92-376fe8531b8a"
      },
      "source": [
        "file_path = pd.Series(file_path).astype(str)\n",
        "labels = pd.Series(labels)\n",
        "\n",
        "df = pd.concat([file_path, labels], axis=1)\n",
        "\n",
        "df.columns = ['image', 'label']\n",
        "\n",
        "df.head()"
      ],
      "execution_count": 54,
      "outputs": [
        {
          "output_type": "execute_result",
          "data": {
            "text/html": [
              "<div>\n",
              "<style scoped>\n",
              "    .dataframe tbody tr th:only-of-type {\n",
              "        vertical-align: middle;\n",
              "    }\n",
              "\n",
              "    .dataframe tbody tr th {\n",
              "        vertical-align: top;\n",
              "    }\n",
              "\n",
              "    .dataframe thead th {\n",
              "        text-align: right;\n",
              "    }\n",
              "</style>\n",
              "<table border=\"1\" class=\"dataframe\">\n",
              "  <thead>\n",
              "    <tr style=\"text-align: right;\">\n",
              "      <th></th>\n",
              "      <th>image</th>\n",
              "      <th>label</th>\n",
              "    </tr>\n",
              "  </thead>\n",
              "  <tbody>\n",
              "    <tr>\n",
              "      <th>0</th>\n",
              "      <td>/content/OPENCV/Shrimp/00033_4.png</td>\n",
              "      <td>Shrimp</td>\n",
              "    </tr>\n",
              "    <tr>\n",
              "      <th>1</th>\n",
              "      <td>/content/OPENCV/Shrimp/00014_3.png</td>\n",
              "      <td>Shrimp</td>\n",
              "    </tr>\n",
              "    <tr>\n",
              "      <th>2</th>\n",
              "      <td>/content/OPENCV/Shrimp/00008_3.png</td>\n",
              "      <td>Shrimp</td>\n",
              "    </tr>\n",
              "    <tr>\n",
              "      <th>3</th>\n",
              "      <td>/content/OPENCV/Shrimp/00029_0.png</td>\n",
              "      <td>Shrimp</td>\n",
              "    </tr>\n",
              "    <tr>\n",
              "      <th>4</th>\n",
              "      <td>/content/OPENCV/Shrimp/00002_1.png</td>\n",
              "      <td>Shrimp</td>\n",
              "    </tr>\n",
              "  </tbody>\n",
              "</table>\n",
              "</div>"
            ],
            "text/plain": [
              "                                image   label\n",
              "0  /content/OPENCV/Shrimp/00033_4.png  Shrimp\n",
              "1  /content/OPENCV/Shrimp/00014_3.png  Shrimp\n",
              "2  /content/OPENCV/Shrimp/00008_3.png  Shrimp\n",
              "3  /content/OPENCV/Shrimp/00029_0.png  Shrimp\n",
              "4  /content/OPENCV/Shrimp/00002_1.png  Shrimp"
            ]
          },
          "metadata": {},
          "execution_count": 54
        }
      ]
    },
    {
      "cell_type": "code",
      "metadata": {
        "colab": {
          "base_uri": "https://localhost:8080/"
        },
        "id": "mMrR-Son8ZeD",
        "outputId": "3d598d0f-4447-4a45-9382-f2d56c3954db"
      },
      "source": [
        "df.label.value_counts()"
      ],
      "execution_count": 55,
      "outputs": [
        {
          "output_type": "execute_result",
          "data": {
            "text/plain": [
              "Gilt Head Bream       300\n",
              "Shrimp                300\n",
              "Sea Bass              300\n",
              "Horse Mackerel        300\n",
              "Trout                 300\n",
              "Red Sea Bream         300\n",
              "Striped Red Mullet    300\n",
              "Black Sea Sprat       300\n",
              "Red Mullet            300\n",
              "Name: label, dtype: int64"
            ]
          },
          "metadata": {},
          "execution_count": 55
        }
      ]
    },
    {
      "cell_type": "markdown",
      "metadata": {
        "id": "UcbzwcLo8qTb"
      },
      "source": [
        "## Create train, test and validation dataset"
      ]
    },
    {
      "cell_type": "code",
      "metadata": {
        "id": "kQk4e8vq8u55"
      },
      "source": [
        "from sklearn.model_selection import train_test_split"
      ],
      "execution_count": 56,
      "outputs": []
    },
    {
      "cell_type": "code",
      "metadata": {
        "id": "FwmZsx198wCI"
      },
      "source": [
        "x_train, x_test = train_test_split(df, test_size=0.3,random_state=30)\n",
        "x_train, x_val = train_test_split(x_train, test_size=0.2, random_state=30)"
      ],
      "execution_count": 57,
      "outputs": []
    },
    {
      "cell_type": "code",
      "metadata": {
        "colab": {
          "base_uri": "https://localhost:8080/"
        },
        "id": "W-z-Ijam8z-e",
        "outputId": "117c4d3f-03ef-4647-9933-ab426c28f4b6"
      },
      "source": [
        "print(\"Shape of training data\", x_train.shape)\n",
        "print(\"Shape of test data\", x_test.shape)\n",
        "print(\"Shape of validation data\", x_val.shape)"
      ],
      "execution_count": 58,
      "outputs": [
        {
          "output_type": "stream",
          "name": "stdout",
          "text": [
            "Shape of training data (1512, 2)\n",
            "Shape of test data (810, 2)\n",
            "Shape of validation data (378, 2)\n"
          ]
        }
      ]
    },
    {
      "cell_type": "code",
      "metadata": {
        "id": "lvhmlw8086nd"
      },
      "source": [
        "import tensorflow as tf\n",
        "from keras.preprocessing.image import ImageDataGenerator\n",
        "from keras.models import Sequential, Model\n",
        "from keras.layers import Dense, Flatten, Dropout, GlobalAveragePooling2D"
      ],
      "execution_count": 59,
      "outputs": []
    },
    {
      "cell_type": "code",
      "metadata": {
        "colab": {
          "base_uri": "https://localhost:8080/"
        },
        "id": "LM3b_K4t8_Jx",
        "outputId": "42c39fc3-cde5-47db-d4ee-34b0f714db9c"
      },
      "source": [
        "image_data_generator = ImageDataGenerator(rescale = 1./255,\n",
        "    rotation_range=40,\n",
        "      width_shift_range=0.2,\n",
        "      height_shift_range=0.2,\n",
        "      shear_range=0.2,\n",
        "      zoom_range=0.2,\n",
        "      horizontal_flip=True,\n",
        "      fill_mode='nearest')\n",
        "\n",
        "train = image_data_generator.flow_from_dataframe(dataframe=x_train, x_col='image', y_col='label', target_size=(200,200), color_mode='rgb', class_mode='categorical', shuffle=False)\n",
        "test = image_data_generator.flow_from_dataframe(dataframe=x_test, x_col='image', y_col='label', target_size=(200,200), color_mode='rgb', class_mode='categorical', shuffle=False)\n",
        "val = image_data_generator.flow_from_dataframe(dataframe=x_val, x_col='image', y_col='label', target_size=(200,200), color_mode='rgb', class_mode='categorical',shuffle=False)"
      ],
      "execution_count": 60,
      "outputs": [
        {
          "output_type": "stream",
          "name": "stdout",
          "text": [
            "Found 1512 validated image filenames belonging to 9 classes.\n",
            "Found 810 validated image filenames belonging to 9 classes.\n",
            "Found 378 validated image filenames belonging to 9 classes.\n"
          ]
        }
      ]
    },
    {
      "cell_type": "markdown",
      "metadata": {
        "id": "4lfihWIk9ScH"
      },
      "source": [
        "Define the model"
      ]
    },
    {
      "cell_type": "code",
      "metadata": {
        "colab": {
          "base_uri": "https://localhost:8080/"
        },
        "id": "481Hyy0e9NA5",
        "outputId": "6da46d2a-33b2-4d36-a02f-ba8e10017690"
      },
      "source": [
        "input_shape = (200, 200, 3)\n",
        "\n",
        "\n",
        "model = tf.keras.models.Sequential([\n",
        "    tf.keras.layers.Conv2D(64, (3,3), activation='relu', input_shape=input_shape ),\n",
        "    tf.keras.layers.MaxPool2D(pool_size = (2,2)),\n",
        "    tf.keras.layers.Conv2D(64, (3,3), activation='relu'),\n",
        "    tf.keras.layers.MaxPool2D(pool_size = (2,2)),\n",
        "    tf.keras.layers.Conv2D(32, (3,3), activation='relu'),\n",
        "    tf.keras.layers.MaxPool2D(pool_size = (2,2)),\n",
        "    tf.keras.layers.Conv2D(32, (3,3), activation='relu'),\n",
        "    tf.keras.layers.MaxPool2D(pool_size = (2,2)),\n",
        "    tf.keras.layers.Flatten(),\n",
        "    tf.keras.layers.Dense(512, activation='relu'),\n",
        "    tf.keras.layers.Dense(128, activation='relu'),\n",
        "    tf.keras.layers.Dropout(0.2),\n",
        "    tf.keras.layers.Dense(128, activation='relu'),\n",
        "    tf.keras.layers.Dropout(0.2),\n",
        "    tf.keras.layers.Dense(9, activation='softmax')\n",
        "])\n",
        "\n",
        "model.summary()\n"
      ],
      "execution_count": 61,
      "outputs": [
        {
          "output_type": "stream",
          "name": "stdout",
          "text": [
            "Model: \"sequential\"\n",
            "_________________________________________________________________\n",
            " Layer (type)                Output Shape              Param #   \n",
            "=================================================================\n",
            " conv2d (Conv2D)             (None, 198, 198, 64)      1792      \n",
            "                                                                 \n",
            " max_pooling2d (MaxPooling2D  (None, 99, 99, 64)       0         \n",
            " )                                                               \n",
            "                                                                 \n",
            " conv2d_1 (Conv2D)           (None, 97, 97, 64)        36928     \n",
            "                                                                 \n",
            " max_pooling2d_1 (MaxPooling  (None, 48, 48, 64)       0         \n",
            " 2D)                                                             \n",
            "                                                                 \n",
            " conv2d_2 (Conv2D)           (None, 46, 46, 32)        18464     \n",
            "                                                                 \n",
            " max_pooling2d_2 (MaxPooling  (None, 23, 23, 32)       0         \n",
            " 2D)                                                             \n",
            "                                                                 \n",
            " conv2d_3 (Conv2D)           (None, 21, 21, 32)        9248      \n",
            "                                                                 \n",
            " max_pooling2d_3 (MaxPooling  (None, 10, 10, 32)       0         \n",
            " 2D)                                                             \n",
            "                                                                 \n",
            " flatten (Flatten)           (None, 3200)              0         \n",
            "                                                                 \n",
            " dense (Dense)               (None, 512)               1638912   \n",
            "                                                                 \n",
            " dense_1 (Dense)             (None, 128)               65664     \n",
            "                                                                 \n",
            " dropout (Dropout)           (None, 128)               0         \n",
            "                                                                 \n",
            " dense_2 (Dense)             (None, 128)               16512     \n",
            "                                                                 \n",
            " dropout_1 (Dropout)         (None, 128)               0         \n",
            "                                                                 \n",
            " dense_3 (Dense)             (None, 9)                 1161      \n",
            "                                                                 \n",
            "=================================================================\n",
            "Total params: 1,788,681\n",
            "Trainable params: 1,788,681\n",
            "Non-trainable params: 0\n",
            "_________________________________________________________________\n"
          ]
        }
      ]
    },
    {
      "cell_type": "code",
      "metadata": {
        "id": "tPSdTAw59oXK"
      },
      "source": [
        "from tensorflow.keras.optimizers import Adam"
      ],
      "execution_count": 62,
      "outputs": []
    },
    {
      "cell_type": "markdown",
      "metadata": {
        "id": "rq-bJjPt9rDN"
      },
      "source": [
        "## Train the model"
      ]
    },
    {
      "cell_type": "code",
      "metadata": {
        "colab": {
          "base_uri": "https://localhost:8080/"
        },
        "id": "aDCZv3lk9s9c",
        "outputId": "af208c57-aca9-48e6-de12-34bd32fa0ed4"
      },
      "source": [
        "model.compile(optimizer=\"adam\", loss='categorical_crossentropy', metrics=[\"accuracy\"])\n",
        "\n",
        "callback = tf.keras.callbacks.EarlyStopping(monitor='accuracy', patience=4)\n",
        "\n",
        "history = model.fit(train, validation_data=val, epochs=20, callbacks=callback)"
      ],
      "execution_count": 63,
      "outputs": [
        {
          "output_type": "stream",
          "name": "stdout",
          "text": [
            "Epoch 1/20\n",
            "48/48 [==============================] - 175s 4s/step - loss: 2.1233 - accuracy: 0.1495 - val_loss: 1.9436 - val_accuracy: 0.2116\n",
            "Epoch 2/20\n",
            "48/48 [==============================] - 171s 4s/step - loss: 1.8843 - accuracy: 0.2480 - val_loss: 1.7726 - val_accuracy: 0.2275\n",
            "Epoch 3/20\n",
            "48/48 [==============================] - 172s 4s/step - loss: 1.6926 - accuracy: 0.2685 - val_loss: 1.7345 - val_accuracy: 0.2804\n",
            "Epoch 4/20\n",
            "48/48 [==============================] - 172s 4s/step - loss: 1.6316 - accuracy: 0.3069 - val_loss: 1.5671 - val_accuracy: 0.3228\n",
            "Epoch 5/20\n",
            "48/48 [==============================] - 172s 4s/step - loss: 1.5550 - accuracy: 0.3380 - val_loss: 1.4824 - val_accuracy: 0.3519\n",
            "Epoch 6/20\n",
            "48/48 [==============================] - 172s 4s/step - loss: 1.5140 - accuracy: 0.3353 - val_loss: 1.5304 - val_accuracy: 0.3333\n",
            "Epoch 7/20\n",
            "48/48 [==============================] - 171s 4s/step - loss: 1.4939 - accuracy: 0.3512 - val_loss: 1.5513 - val_accuracy: 0.3122\n",
            "Epoch 8/20\n",
            "48/48 [==============================] - 171s 4s/step - loss: 1.4638 - accuracy: 0.3485 - val_loss: 1.4494 - val_accuracy: 0.3492\n",
            "Epoch 9/20\n",
            "48/48 [==============================] - 170s 4s/step - loss: 1.5469 - accuracy: 0.3399 - val_loss: 1.5548 - val_accuracy: 0.3307\n",
            "Epoch 10/20\n",
            "48/48 [==============================] - 169s 4s/step - loss: 1.4228 - accuracy: 0.3836 - val_loss: 1.4070 - val_accuracy: 0.3889\n",
            "Epoch 11/20\n",
            "48/48 [==============================] - 167s 3s/step - loss: 1.4627 - accuracy: 0.3538 - val_loss: 1.4886 - val_accuracy: 0.3386\n",
            "Epoch 12/20\n",
            "48/48 [==============================] - 169s 4s/step - loss: 1.4407 - accuracy: 0.3737 - val_loss: 1.4484 - val_accuracy: 0.3598\n",
            "Epoch 13/20\n",
            "48/48 [==============================] - 170s 4s/step - loss: 1.4263 - accuracy: 0.3862 - val_loss: 1.4002 - val_accuracy: 0.3995\n",
            "Epoch 14/20\n",
            "48/48 [==============================] - 170s 4s/step - loss: 1.3762 - accuracy: 0.3962 - val_loss: 1.3543 - val_accuracy: 0.4259\n",
            "Epoch 15/20\n",
            "48/48 [==============================] - 170s 4s/step - loss: 1.4091 - accuracy: 0.3968 - val_loss: 1.2990 - val_accuracy: 0.4206\n",
            "Epoch 16/20\n",
            "48/48 [==============================] - 169s 4s/step - loss: 1.3582 - accuracy: 0.4213 - val_loss: 1.2752 - val_accuracy: 0.4524\n",
            "Epoch 17/20\n",
            "48/48 [==============================] - 169s 4s/step - loss: 1.2556 - accuracy: 0.4709 - val_loss: 1.3170 - val_accuracy: 0.5026\n",
            "Epoch 18/20\n",
            "48/48 [==============================] - 167s 3s/step - loss: 1.1996 - accuracy: 0.5086 - val_loss: 1.1668 - val_accuracy: 0.5238\n",
            "Epoch 19/20\n",
            "48/48 [==============================] - 167s 4s/step - loss: 1.1666 - accuracy: 0.5278 - val_loss: 1.2187 - val_accuracy: 0.5370\n",
            "Epoch 20/20\n",
            "48/48 [==============================] - 167s 3s/step - loss: 1.0470 - accuracy: 0.5615 - val_loss: 1.0353 - val_accuracy: 0.5608\n"
          ]
        }
      ]
    },
    {
      "cell_type": "markdown",
      "metadata": {
        "id": "-bSwF9BHNBHQ"
      },
      "source": [
        "Tiempo: 1h\n",
        "(3658.069s)"
      ]
    },
    {
      "cell_type": "code",
      "metadata": {
        "id": "M2HZEqQPThCP"
      },
      "source": [
        "model.save('model-opencv.h5')"
      ],
      "execution_count": 66,
      "outputs": []
    },
    {
      "cell_type": "markdown",
      "metadata": {
        "id": "K6kvp2PGTPiw"
      },
      "source": [
        "## Verify model's performance"
      ]
    },
    {
      "cell_type": "code",
      "metadata": {
        "id": "h5m2i5AkTpbN"
      },
      "source": [
        "accuracy = history.history['accuracy']\n",
        "val_accuracy  = history.history['val_accuracy']\n",
        "\n",
        "loss = history.history['loss']\n",
        "val_loss = history.history['val_loss']"
      ],
      "execution_count": 67,
      "outputs": []
    },
    {
      "cell_type": "code",
      "metadata": {
        "colab": {
          "base_uri": "https://localhost:8080/",
          "height": 311
        },
        "id": "RwO3_OpcTxOo",
        "outputId": "6c11248a-920d-4f9d-ae01-01ec21834200"
      },
      "source": [
        "import matplotlib.pyplot as plt\n",
        "\n",
        "plt.figure(figsize=(15,10))\n",
        "\n",
        "plt.subplot(2, 2, 1)\n",
        "plt.plot(accuracy, label = \"Training accuracy\")\n",
        "plt.plot(val_accuracy, label=\"Validation accuracy\")\n",
        "plt.legend()\n",
        "plt.title(\"Training vs validation accuracy\")\n",
        "\n",
        "\n",
        "plt.subplot(2,2,2)\n",
        "plt.plot(loss, label = \"Training loss\")\n",
        "plt.plot(val_loss, label=\"Validation loss\")\n",
        "plt.legend()\n",
        "plt.title(\"Training vs validation loss\")\n",
        "\n",
        "plt.show()"
      ],
      "execution_count": 68,
      "outputs": [
        {
          "output_type": "display_data",
          "data": {
            "image/png": "[encoded data removed]",
            "text/plain": [
              "<Figure size 1080x720 with 2 Axes>"
            ]
          },
          "metadata": {
            "needs_background": "light"
          }
        }
      ]
    }
  ]
}