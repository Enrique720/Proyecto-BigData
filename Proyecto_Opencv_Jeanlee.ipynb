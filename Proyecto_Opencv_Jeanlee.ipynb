{
  "nbformat": 4,
  "nbformat_minor": 0,
  "metadata": {
    "colab": {
      "name": "Proyecto_Opencv_Jeanlee.ipynb",
      "provenance": [],
      "collapsed_sections": [],
      "authorship_tag": "ABX9TyMrUQ8TN8RG02drSxZyimT4",
      "include_colab_link": true
    },
    "kernelspec": {
      "display_name": "Python 3",
      "name": "python3"
    },
    "language_info": {
      "name": "python"
    }
  },
  "cells": [
    {
      "cell_type": "markdown",
      "metadata": {
        "id": "view-in-github",
        "colab_type": "text"
      },
      "source": [
        "<a href=\"https://colab.research.google.com/github/Enrique720/Proyecto-BigData/blob/main/Proyecto_Opencv_Jeanlee.ipynb\" target=\"_parent\"><img src=\"https://colab.research.google.com/assets/colab-badge.svg\" alt=\"Open In Colab\"/></a>"
      ]
    },
    {
      "cell_type": "markdown",
      "metadata": {
        "id": "sM0k1YPmYEdq"
      },
      "source": [
        "# Preprocessing"
      ]
    },
    {
      "cell_type": "code",
      "source": [
        "!pip install ray"
      ],
      "metadata": {
        "id": "2zIBYObV9ehE"
      },
      "execution_count": null,
      "outputs": []
    },
    {
      "cell_type": "code",
      "metadata": {
        "id": "gMS8MENuo8zd"
      },
      "source": [
        "import cv2\n",
        "import random\n",
        "from google.colab.patches import cv2_imshow"
      ],
      "execution_count": 3,
      "outputs": []
    },
    {
      "cell_type": "code",
      "metadata": {
        "id": "yBoSeHAyq2el"
      },
      "source": [
        "def horizontal_flip(img, flag=True):\n",
        "    if flag: return cv2.flip(img, 1)\n",
        "    else: return img\n"
      ],
      "execution_count": 4,
      "outputs": []
    },
    {
      "cell_type": "code",
      "metadata": {
        "id": "2Vc_wipVqj3g"
      },
      "source": [
        "def vertical_flip(img, flag=True):\n",
        "    if flag: return cv2.flip(img, 0)\n",
        "    else: return img\n"
      ],
      "execution_count": 5,
      "outputs": []
    },
    {
      "cell_type": "code",
      "metadata": {
        "id": "jwBAjjbmrRAw"
      },
      "source": [
        "def rotation(img, angle):\n",
        "    angle = int(random.uniform(-angle, angle))\n",
        "    h, w = img.shape[:2]\n",
        "    M = cv2.getRotationMatrix2D((int(w/2), int(h/2)), angle, 1)\n",
        "    img = cv2.warpAffine(img, M, (w, h))\n",
        "    return img\n"
      ],
      "execution_count": 6,
      "outputs": []
    },
    {
      "cell_type": "code",
      "metadata": {
        "id": "d_p8GZf0r-tC"
      },
      "source": [
        "def resize(img, width, height):\n",
        "  dim = (width, height)\n",
        "  resized = cv2.resize(img, dim, interpolation = cv2.INTER_AREA)\n",
        "  return resized\n",
        " "
      ],
      "execution_count": 7,
      "outputs": []
    },
    {
      "cell_type": "markdown",
      "metadata": {
        "id": "zf1yDTg1jNXH"
      },
      "source": [
        "## Augmentated data"
      ]
    },
    {
      "cell_type": "code",
      "metadata": {
        "colab": {
          "base_uri": "https://localhost:8080/"
        },
        "id": "D033hlWrjN5H",
        "outputId": "ee190890-3494-4201-8fdb-ffaf57b6efad"
      },
      "source": [
        "from google.colab import drive\n",
        "drive.mount('/content/drive')"
      ],
      "execution_count": 8,
      "outputs": [
        {
          "output_type": "stream",
          "name": "stdout",
          "text": [
            "Mounted at /content/drive\n"
          ]
        }
      ]
    },
    {
      "cell_type": "code",
      "metadata": {
        "id": "N0YB2cXr5NQZ"
      },
      "source": [
        "import os\n",
        "import os.path\n",
        "from os import path\n",
        "import shutil\n",
        "import ray\n",
        "import time"
      ],
      "execution_count": 9,
      "outputs": []
    },
    {
      "cell_type": "code",
      "source": [
        "num_workers = 4\n",
        "ray.init(num_cpus=num_workers, ignore_reinit_error=True)"
      ],
      "metadata": {
        "colab": {
          "base_uri": "https://localhost:8080/"
        },
        "id": "04ly4bFqBX2S",
        "outputId": "0e449b85-734e-454c-bc8a-32f2f82e2838"
      },
      "execution_count": 10,
      "outputs": [
        {
          "output_type": "execute_result",
          "data": {
            "text/plain": [
              "{'metrics_export_port': 62597,\n",
              " 'node_id': '00fe4c0bdccf51bb3d1d7c91fa8b444e1712c60cf6b035b812e7637b',\n",
              " 'node_ip_address': '172.28.0.2',\n",
              " 'object_store_address': '/tmp/ray/session_2021-12-09_02-29-40_331462_62/sockets/plasma_store',\n",
              " 'raylet_ip_address': '172.28.0.2',\n",
              " 'raylet_socket_name': '/tmp/ray/session_2021-12-09_02-29-40_331462_62/sockets/raylet',\n",
              " 'redis_address': '172.28.0.2:6379',\n",
              " 'session_dir': '/tmp/ray/session_2021-12-09_02-29-40_331462_62',\n",
              " 'webui_url': None}"
            ]
          },
          "metadata": {},
          "execution_count": 10
        }
      ]
    },
    {
      "cell_type": "code",
      "source": [
        "n_final = 1000\n",
        "\n",
        "base_folder = '/content/drive/MyDrive/BIG_DATA/RAW_FISH_DATASET/'\n",
        "final_folder = '/content/drive/MyDrive/BIG_DATA/OPENCV/'\n",
        "\n",
        "def cleanDirs():\n",
        "  if path.isdir(final_folder):\n",
        "    shutil.rmtree(final_folder)\n",
        "  os.mkdir(final_folder)\n",
        "\n",
        "species_names = next(os.walk(base_folder))[1]\n"
      ],
      "metadata": {
        "id": "PiCuXM6VCVhK"
      },
      "execution_count": 11,
      "outputs": []
    },
    {
      "cell_type": "code",
      "source": [
        "\n",
        "def aumentedBySpecies(specie):\n",
        "  #print(\"Processing specie:\", specie)\n",
        "  raw_folder = base_folder + specie + '/'\n",
        "  out_folder = final_folder + specie + '/'\n",
        "  os.mkdir(out_folder)\n",
        "\n",
        "  files = next(os.walk(raw_folder))[2]\n",
        "  proportion = n_final // len(files)\n",
        "  \n",
        "  for cont, img_name in enumerate(files):\n",
        "    f_name = os.path.splitext(img_name)[0]\n",
        "    img = cv2.imread(raw_folder + img_name)\n",
        "    img = resize(img, 590, 445)\n",
        "    for i in range(proportion):\n",
        "      if (i/2): img = horizontal_flip(img)\n",
        "      if (i%2): img = vertical_flip(img)\n",
        "      img = rotation(img, 30+i+cont)\n",
        "      cv2.imwrite(out_folder+f_name+'_'+str(i)+'.png',img)\n"
      ],
      "metadata": {
        "id": "GOVR7bQL4VGS"
      },
      "execution_count": 12,
      "outputs": []
    },
    {
      "cell_type": "code",
      "source": [
        "\n",
        "@ray.remote\n",
        "def aumentedBySpecies_ray(specie):\n",
        "  #print(\"Processing specie:\", specie)\n",
        "  raw_folder = base_folder + specie + '/'\n",
        "  out_folder = final_folder + specie + '/'\n",
        "  os.mkdir(out_folder)\n",
        "\n",
        "  files = next(os.walk(raw_folder))[2]\n",
        "  proportion = n_final // len(files)\n",
        "  \n",
        "  for cont, img_name in enumerate(files):\n",
        "    f_name = os.path.splitext(img_name)[0]\n",
        "    img = cv2.imread(raw_folder + img_name)\n",
        "    img = resize(img, 590, 445)\n",
        "    for i in range(proportion):\n",
        "      if (i/2): img = horizontal_flip(img)\n",
        "      if (i%2): img = vertical_flip(img)\n",
        "      img = rotation(img, 30+i+cont)\n",
        "      cv2.imwrite(out_folder+f_name+'_'+str(i)+'.png',img)\n"
      ],
      "metadata": {
        "id": "Q7pLZMssBCir"
      },
      "execution_count": 13,
      "outputs": []
    },
    {
      "cell_type": "code",
      "source": [
        "# Clear species directories\n",
        "cleanDirs()"
      ],
      "metadata": {
        "id": "WiN8QZksFx_E"
      },
      "execution_count": 34,
      "outputs": []
    },
    {
      "cell_type": "markdown",
      "source": [
        "### Without Ray"
      ],
      "metadata": {
        "id": "NxH-cg4OCAQU"
      }
    },
    {
      "cell_type": "code",
      "metadata": {
        "colab": {
          "base_uri": "https://localhost:8080/"
        },
        "id": "3BkoC1czkIY5",
        "outputId": "b315516f-d61b-4bad-b397-f950433edb20"
      },
      "source": [
        "print(\"Processing without Ray\\n\")\n",
        "cleanDirs()\n",
        "\n",
        "start = time.time()\n",
        "for specie in species_names:\n",
        "  aumentedBySpecies(specie)\n",
        "end = time.time()\n",
        "\n",
        "print(\"\\nElapsed time:\", end - start, \"(segs)\")\n"
      ],
      "execution_count": 14,
      "outputs": [
        {
          "output_type": "stream",
          "name": "stdout",
          "text": [
            "Processing without Ray\n",
            "\n",
            "\n",
            "Elapsed time: 622.0127532482147 (segs)\n"
          ]
        }
      ]
    },
    {
      "cell_type": "markdown",
      "source": [
        "### With Ray"
      ],
      "metadata": {
        "id": "CRkPj8pAA1sm"
      }
    },
    {
      "cell_type": "code",
      "source": [
        "print(\"Processing with Ray\\n\")\n",
        "cleanDirs()\n",
        "\n",
        "start = time.time()\n",
        "ray.get([aumentedBySpecies_ray.remote(specie) for specie in species_names])\n",
        "end = time.time()\n",
        "\n",
        "print(\"\\nElapsed time:\", end - start, \"(segs)\")\n"
      ],
      "metadata": {
        "colab": {
          "base_uri": "https://localhost:8080/"
        },
        "id": "FzAQuUJoGW8a",
        "outputId": "0cdbb11b-9c5a-4323-a071-bad12ee6e1af"
      },
      "execution_count": 15,
      "outputs": [
        {
          "output_type": "stream",
          "name": "stdout",
          "text": [
            "Processing with Ray\n",
            "\n",
            "\n",
            "Elapsed time: 235.04383206367493 (segs)\n"
          ]
        }
      ]
    },
    {
      "cell_type": "markdown",
      "metadata": {
        "id": "tqlzsS1AXzkw"
      },
      "source": [
        "# CNN Model"
      ]
    },
    {
      "cell_type": "markdown",
      "metadata": {
        "id": "z49bFllkX6yw"
      },
      "source": [
        "## Read data"
      ]
    },
    {
      "cell_type": "code",
      "metadata": {
        "id": "VQSqHHg57x0d"
      },
      "source": [
        "import numpy as np # linear algebra\n",
        "import pandas as pd\n",
        "from pathlib import Path"
      ],
      "execution_count": 43,
      "outputs": []
    },
    {
      "cell_type": "code",
      "metadata": {
        "id": "_7_przXe76fS"
      },
      "source": [
        "dataset_path = Path(r'/content/drive/MyDrive/BIG_DATA/OPENCV')\n",
        "\n",
        "file_path = list(dataset_path.glob(r'**/*.png'))\n",
        "\n",
        "# create labels from the folder name\n",
        "labels = list(map(lambda x: os.path.split(os.path.split(x)[0])[1], file_path))"
      ],
      "execution_count": 47,
      "outputs": []
    },
    {
      "cell_type": "code",
      "metadata": {
        "colab": {
          "base_uri": "https://localhost:8080/",
          "height": 206
        },
        "id": "wYMtB16G8KJQ",
        "outputId": "d7b8ec5b-8495-43f3-ecaf-80d04882eed6"
      },
      "source": [
        "file_path = pd.Series(file_path).astype(str)\n",
        "labels = pd.Series(labels)\n",
        "\n",
        "df = pd.concat([file_path, labels], axis=1)\n",
        "\n",
        "df.columns = ['image', 'label']\n",
        "\n",
        "df.head()"
      ],
      "execution_count": 48,
      "outputs": [
        {
          "output_type": "execute_result",
          "data": {
            "text/html": [
              "<div>\n",
              "<style scoped>\n",
              "    .dataframe tbody tr th:only-of-type {\n",
              "        vertical-align: middle;\n",
              "    }\n",
              "\n",
              "    .dataframe tbody tr th {\n",
              "        vertical-align: top;\n",
              "    }\n",
              "\n",
              "    .dataframe thead th {\n",
              "        text-align: right;\n",
              "    }\n",
              "</style>\n",
              "<table border=\"1\" class=\"dataframe\">\n",
              "  <thead>\n",
              "    <tr style=\"text-align: right;\">\n",
              "      <th></th>\n",
              "      <th>image</th>\n",
              "      <th>label</th>\n",
              "    </tr>\n",
              "  </thead>\n",
              "  <tbody>\n",
              "    <tr>\n",
              "      <th>0</th>\n",
              "      <td>/content/drive/MyDrive/BIG_DATA/OPENCV/Sea Bas...</td>\n",
              "      <td>Sea Bass</td>\n",
              "    </tr>\n",
              "    <tr>\n",
              "      <th>1</th>\n",
              "      <td>/content/drive/MyDrive/BIG_DATA/OPENCV/Sea Bas...</td>\n",
              "      <td>Sea Bass</td>\n",
              "    </tr>\n",
              "    <tr>\n",
              "      <th>2</th>\n",
              "      <td>/content/drive/MyDrive/BIG_DATA/OPENCV/Sea Bas...</td>\n",
              "      <td>Sea Bass</td>\n",
              "    </tr>\n",
              "    <tr>\n",
              "      <th>3</th>\n",
              "      <td>/content/drive/MyDrive/BIG_DATA/OPENCV/Sea Bas...</td>\n",
              "      <td>Sea Bass</td>\n",
              "    </tr>\n",
              "    <tr>\n",
              "      <th>4</th>\n",
              "      <td>/content/drive/MyDrive/BIG_DATA/OPENCV/Sea Bas...</td>\n",
              "      <td>Sea Bass</td>\n",
              "    </tr>\n",
              "  </tbody>\n",
              "</table>\n",
              "</div>"
            ],
            "text/plain": [
              "                                               image     label\n",
              "0  /content/drive/MyDrive/BIG_DATA/OPENCV/Sea Bas...  Sea Bass\n",
              "1  /content/drive/MyDrive/BIG_DATA/OPENCV/Sea Bas...  Sea Bass\n",
              "2  /content/drive/MyDrive/BIG_DATA/OPENCV/Sea Bas...  Sea Bass\n",
              "3  /content/drive/MyDrive/BIG_DATA/OPENCV/Sea Bas...  Sea Bass\n",
              "4  /content/drive/MyDrive/BIG_DATA/OPENCV/Sea Bas...  Sea Bass"
            ]
          },
          "metadata": {},
          "execution_count": 48
        }
      ]
    },
    {
      "cell_type": "code",
      "metadata": {
        "colab": {
          "base_uri": "https://localhost:8080/"
        },
        "id": "mMrR-Son8ZeD",
        "outputId": "798bfdf5-6f67-479d-ec41-b911b7085fe0"
      },
      "source": [
        "df.label.value_counts()"
      ],
      "execution_count": 49,
      "outputs": [
        {
          "output_type": "execute_result",
          "data": {
            "text/plain": [
              "Horse Mackerel        1000\n",
              "Trout                 1000\n",
              "Shrimp                1000\n",
              "Sea Bass              1000\n",
              "Red Sea Bream         1000\n",
              "Red Mullet            1000\n",
              "Gilt Head Bream       1000\n",
              "Black Sea Sprat       1000\n",
              "Striped Red Mullet    1000\n",
              "Name: label, dtype: int64"
            ]
          },
          "metadata": {},
          "execution_count": 49
        }
      ]
    },
    {
      "cell_type": "markdown",
      "metadata": {
        "id": "UcbzwcLo8qTb"
      },
      "source": [
        "## Create train, test and validation dataset"
      ]
    },
    {
      "cell_type": "code",
      "metadata": {
        "id": "kQk4e8vq8u55"
      },
      "source": [
        "from sklearn.model_selection import train_test_split"
      ],
      "execution_count": 50,
      "outputs": []
    },
    {
      "cell_type": "code",
      "metadata": {
        "id": "FwmZsx198wCI"
      },
      "source": [
        "x_train, x_test = train_test_split(df, test_size=0.3,random_state=30)\n",
        "x_train, x_val = train_test_split(x_train, test_size=0.2, random_state=30)"
      ],
      "execution_count": 51,
      "outputs": []
    },
    {
      "cell_type": "code",
      "metadata": {
        "colab": {
          "base_uri": "https://localhost:8080/"
        },
        "id": "W-z-Ijam8z-e",
        "outputId": "b67f000e-9f07-4fcd-bd2e-906c6f8617ce"
      },
      "source": [
        "print(\"Shape of training data\", x_train.shape)\n",
        "print(\"Shape of test data\", x_test.shape)\n",
        "print(\"Shape of validation data\", x_val.shape)"
      ],
      "execution_count": 52,
      "outputs": [
        {
          "output_type": "stream",
          "name": "stdout",
          "text": [
            "Shape of training data (5040, 2)\n",
            "Shape of test data (2700, 2)\n",
            "Shape of validation data (1260, 2)\n"
          ]
        }
      ]
    },
    {
      "cell_type": "code",
      "metadata": {
        "id": "lvhmlw8086nd"
      },
      "source": [
        "import tensorflow as tf\n",
        "from keras.preprocessing.image import ImageDataGenerator\n",
        "from keras.models import Sequential, Model\n",
        "from keras.layers import Dense, Flatten, Dropout, GlobalAveragePooling2D"
      ],
      "execution_count": 53,
      "outputs": []
    },
    {
      "cell_type": "code",
      "metadata": {
        "colab": {
          "base_uri": "https://localhost:8080/"
        },
        "id": "LM3b_K4t8_Jx",
        "outputId": "36f4e756-108f-4c76-be03-4ed401401f86"
      },
      "source": [
        "image_data_generator = ImageDataGenerator(rescale = 1./255,\n",
        "    rotation_range=40,\n",
        "      width_shift_range=0.2,\n",
        "      height_shift_range=0.2,\n",
        "      shear_range=0.2,\n",
        "      zoom_range=0.2,\n",
        "      horizontal_flip=True,\n",
        "      fill_mode='nearest')\n",
        "\n",
        "train = image_data_generator.flow_from_dataframe(dataframe=x_train, x_col='image', y_col='label', target_size=(200,200), color_mode='rgb', class_mode='categorical', shuffle=False)\n",
        "test = image_data_generator.flow_from_dataframe(dataframe=x_test, x_col='image', y_col='label', target_size=(200,200), color_mode='rgb', class_mode='categorical', shuffle=False)\n",
        "val = image_data_generator.flow_from_dataframe(dataframe=x_val, x_col='image', y_col='label', target_size=(200,200), color_mode='rgb', class_mode='categorical',shuffle=False)"
      ],
      "execution_count": 54,
      "outputs": [
        {
          "output_type": "stream",
          "name": "stdout",
          "text": [
            "Found 5040 validated image filenames belonging to 9 classes.\n",
            "Found 2700 validated image filenames belonging to 9 classes.\n",
            "Found 1260 validated image filenames belonging to 9 classes.\n"
          ]
        }
      ]
    },
    {
      "cell_type": "markdown",
      "metadata": {
        "id": "4lfihWIk9ScH"
      },
      "source": [
        "Define the model"
      ]
    },
    {
      "cell_type": "code",
      "metadata": {
        "colab": {
          "base_uri": "https://localhost:8080/"
        },
        "id": "481Hyy0e9NA5",
        "outputId": "add78e1e-06d2-4271-b6cb-d62b4805657f"
      },
      "source": [
        "input_shape = (200, 200, 3)\n",
        "\n",
        "\n",
        "model = tf.keras.models.Sequential([\n",
        "    tf.keras.layers.Conv2D(64, (3,3), activation='relu', input_shape=input_shape ),\n",
        "    tf.keras.layers.MaxPool2D(pool_size = (2,2)),\n",
        "    tf.keras.layers.Conv2D(64, (3,3), activation='relu'),\n",
        "    tf.keras.layers.MaxPool2D(pool_size = (2,2)),\n",
        "    tf.keras.layers.Conv2D(32, (3,3), activation='relu'),\n",
        "    tf.keras.layers.MaxPool2D(pool_size = (2,2)),\n",
        "    tf.keras.layers.Conv2D(32, (3,3), activation='relu'),\n",
        "    tf.keras.layers.MaxPool2D(pool_size = (2,2)),\n",
        "    tf.keras.layers.Flatten(),\n",
        "    tf.keras.layers.Dense(512, activation='relu'),\n",
        "    tf.keras.layers.Dense(128, activation='relu'),\n",
        "    tf.keras.layers.Dropout(0.2),\n",
        "    tf.keras.layers.Dense(128, activation='relu'),\n",
        "    tf.keras.layers.Dropout(0.2),\n",
        "    tf.keras.layers.Dense(9, activation='softmax')\n",
        "])\n",
        "\n",
        "model.summary()\n"
      ],
      "execution_count": 55,
      "outputs": [
        {
          "output_type": "stream",
          "name": "stdout",
          "text": [
            "Model: \"sequential\"\n",
            "_________________________________________________________________\n",
            " Layer (type)                Output Shape              Param #   \n",
            "=================================================================\n",
            " conv2d (Conv2D)             (None, 198, 198, 64)      1792      \n",
            "                                                                 \n",
            " max_pooling2d (MaxPooling2D  (None, 99, 99, 64)       0         \n",
            " )                                                               \n",
            "                                                                 \n",
            " conv2d_1 (Conv2D)           (None, 97, 97, 64)        36928     \n",
            "                                                                 \n",
            " max_pooling2d_1 (MaxPooling  (None, 48, 48, 64)       0         \n",
            " 2D)                                                             \n",
            "                                                                 \n",
            " conv2d_2 (Conv2D)           (None, 46, 46, 32)        18464     \n",
            "                                                                 \n",
            " max_pooling2d_2 (MaxPooling  (None, 23, 23, 32)       0         \n",
            " 2D)                                                             \n",
            "                                                                 \n",
            " conv2d_3 (Conv2D)           (None, 21, 21, 32)        9248      \n",
            "                                                                 \n",
            " max_pooling2d_3 (MaxPooling  (None, 10, 10, 32)       0         \n",
            " 2D)                                                             \n",
            "                                                                 \n",
            " flatten (Flatten)           (None, 3200)              0         \n",
            "                                                                 \n",
            " dense (Dense)               (None, 512)               1638912   \n",
            "                                                                 \n",
            " dense_1 (Dense)             (None, 128)               65664     \n",
            "                                                                 \n",
            " dropout (Dropout)           (None, 128)               0         \n",
            "                                                                 \n",
            " dense_2 (Dense)             (None, 128)               16512     \n",
            "                                                                 \n",
            " dropout_1 (Dropout)         (None, 128)               0         \n",
            "                                                                 \n",
            " dense_3 (Dense)             (None, 9)                 1161      \n",
            "                                                                 \n",
            "=================================================================\n",
            "Total params: 1,788,681\n",
            "Trainable params: 1,788,681\n",
            "Non-trainable params: 0\n",
            "_________________________________________________________________\n"
          ]
        }
      ]
    },
    {
      "cell_type": "code",
      "metadata": {
        "id": "tPSdTAw59oXK"
      },
      "source": [
        "from tensorflow.keras.optimizers import Adam"
      ],
      "execution_count": 56,
      "outputs": []
    },
    {
      "cell_type": "markdown",
      "metadata": {
        "id": "rq-bJjPt9rDN"
      },
      "source": [
        "## Train the model"
      ]
    },
    {
      "cell_type": "code",
      "metadata": {
        "colab": {
          "base_uri": "https://localhost:8080/"
        },
        "id": "aDCZv3lk9s9c",
        "outputId": "bca86a7e-aa07-464c-c64a-d31aeb9c9b7f"
      },
      "source": [
        "model.compile(optimizer=\"adam\", loss='categorical_crossentropy', metrics=[\"accuracy\"])\n",
        "\n",
        "callback = tf.keras.callbacks.EarlyStopping(monitor='accuracy', patience=4)\n",
        "start = time.time()\n",
        "history = model.fit(train, validation_data=val, epochs=20, callbacks=callback)\n",
        "end = time.time()\n",
        "print(\"\\nElapsed time:\", end - start, \"(segs)\")"
      ],
      "execution_count": 57,
      "outputs": [
        {
          "output_type": "stream",
          "name": "stdout",
          "text": [
            "Epoch 1/20\n",
            "158/158 [==============================] - 681s 4s/step - loss: 1.9125 - accuracy: 0.2159 - val_loss: 1.5782 - val_accuracy: 0.3111\n",
            "Epoch 2/20\n",
            "158/158 [==============================] - 665s 4s/step - loss: 1.6139 - accuracy: 0.3028 - val_loss: 1.5279 - val_accuracy: 0.3111\n",
            "Epoch 3/20\n",
            "158/158 [==============================] - 665s 4s/step - loss: 1.5272 - accuracy: 0.3292 - val_loss: 1.4325 - val_accuracy: 0.3929\n",
            "Epoch 4/20\n",
            "158/158 [==============================] - 673s 4s/step - loss: 1.4661 - accuracy: 0.3617 - val_loss: 1.3513 - val_accuracy: 0.4381\n",
            "Epoch 5/20\n",
            "158/158 [==============================] - 673s 4s/step - loss: 1.3099 - accuracy: 0.4508 - val_loss: 1.3934 - val_accuracy: 0.4167\n",
            "Epoch 6/20\n",
            "158/158 [==============================] - 675s 4s/step - loss: 1.1630 - accuracy: 0.5165 - val_loss: 1.0085 - val_accuracy: 0.5810\n",
            "Epoch 7/20\n",
            "158/158 [==============================] - 678s 4s/step - loss: 1.0442 - accuracy: 0.5625 - val_loss: 0.9214 - val_accuracy: 0.6381\n",
            "Epoch 8/20\n",
            "158/158 [==============================] - 705s 4s/step - loss: 0.9943 - accuracy: 0.5893 - val_loss: 1.4753 - val_accuracy: 0.3873\n",
            "Epoch 9/20\n",
            "158/158 [==============================] - 675s 4s/step - loss: 0.9582 - accuracy: 0.6121 - val_loss: 0.8060 - val_accuracy: 0.6817\n",
            "Epoch 10/20\n",
            "158/158 [==============================] - 673s 4s/step - loss: 0.8517 - accuracy: 0.6544 - val_loss: 0.7434 - val_accuracy: 0.6968\n",
            "Epoch 11/20\n",
            "158/158 [==============================] - 673s 4s/step - loss: 0.7948 - accuracy: 0.6853 - val_loss: 0.7084 - val_accuracy: 0.7103\n",
            "Epoch 12/20\n",
            "158/158 [==============================] - 675s 4s/step - loss: 0.6932 - accuracy: 0.7264 - val_loss: 0.6667 - val_accuracy: 0.7413\n",
            "Epoch 13/20\n",
            "158/158 [==============================] - 666s 4s/step - loss: 0.6776 - accuracy: 0.7411 - val_loss: 0.5637 - val_accuracy: 0.7762\n",
            "Epoch 14/20\n",
            "158/158 [==============================] - 677s 4s/step - loss: 0.5861 - accuracy: 0.7833 - val_loss: 0.6186 - val_accuracy: 0.7627\n",
            "Epoch 15/20\n",
            "158/158 [==============================] - 672s 4s/step - loss: 0.5063 - accuracy: 0.8077 - val_loss: 0.7908 - val_accuracy: 0.7333\n",
            "Epoch 16/20\n",
            "158/158 [==============================] - 677s 4s/step - loss: 0.5297 - accuracy: 0.8058 - val_loss: 0.4114 - val_accuracy: 0.8365\n",
            "Epoch 17/20\n",
            "158/158 [==============================] - 669s 4s/step - loss: 0.4808 - accuracy: 0.8294 - val_loss: 0.4814 - val_accuracy: 0.8262\n",
            "Epoch 18/20\n",
            "158/158 [==============================] - 669s 4s/step - loss: 0.4280 - accuracy: 0.8492 - val_loss: 0.3247 - val_accuracy: 0.8817\n",
            "Epoch 19/20\n",
            "158/158 [==============================] - 666s 4s/step - loss: 0.3754 - accuracy: 0.8637 - val_loss: 0.3123 - val_accuracy: 0.8802\n",
            "Epoch 20/20\n",
            "158/158 [==============================] - 663s 4s/step - loss: 0.3529 - accuracy: 0.8726 - val_loss: 0.3680 - val_accuracy: 0.8635\n",
            "\n",
            "Elapsed time: 13592.75177359581 (segs)\n"
          ]
        }
      ]
    },
    {
      "cell_type": "markdown",
      "metadata": {
        "id": "-bSwF9BHNBHQ"
      },
      "source": [
        "Tiempo: 1h\n",
        "(3658.069s)"
      ]
    },
    {
      "cell_type": "code",
      "metadata": {
        "id": "M2HZEqQPThCP"
      },
      "source": [
        "model.save('model-opencv.h5')"
      ],
      "execution_count": null,
      "outputs": []
    },
    {
      "cell_type": "markdown",
      "metadata": {
        "id": "K6kvp2PGTPiw"
      },
      "source": [
        "## Verify model's performance"
      ]
    },
    {
      "cell_type": "code",
      "metadata": {
        "id": "h5m2i5AkTpbN"
      },
      "source": [
        "accuracy = history.history['accuracy']\n",
        "val_accuracy  = history.history['val_accuracy']\n",
        "\n",
        "loss = history.history['loss']\n",
        "val_loss = history.history['val_loss']"
      ],
      "execution_count": 58,
      "outputs": []
    },
    {
      "cell_type": "code",
      "metadata": {
        "colab": {
          "base_uri": "https://localhost:8080/",
          "height": 311
        },
        "id": "RwO3_OpcTxOo",
        "outputId": "576dd08a-79c2-43bf-8cc2-f14a08624408"
      },
      "source": [
        "import matplotlib.pyplot as plt\n",
        "\n",
        "plt.figure(figsize=(15,10))\n",
        "\n",
        "plt.subplot(2, 2, 1)\n",
        "plt.plot(accuracy, label = \"Training accuracy\")\n",
        "plt.plot(val_accuracy, label=\"Validation accuracy\")\n",
        "plt.legend()\n",
        "plt.title(\"Training vs validation accuracy\")\n",
        "\n",
        "\n",
        "plt.subplot(2,2,2)\n",
        "plt.plot(loss, label = \"Training loss\")\n",
        "plt.plot(val_loss, label=\"Validation loss\")\n",
        "plt.legend()\n",
        "plt.title(\"Training vs validation loss\")\n",
        "\n",
        "plt.show()"
      ],
      "execution_count": 59,
      "outputs": [
        {
          "output_type": "display_data",
          "data": {
            "image/png": "[encoded data removed]",
            "text/plain": [
              "<Figure size 1080x720 with 2 Axes>"
            ]
          },
          "metadata": {
            "needs_background": "light"
          }
        }
      ]
    }
  ]
}