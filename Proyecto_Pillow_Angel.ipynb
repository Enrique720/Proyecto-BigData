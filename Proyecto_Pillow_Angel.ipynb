{
  "nbformat": 4,
  "nbformat_minor": 0,
  "metadata": {
    "colab": {
      "name": "Proyecto_Pillow_Angel.ipynb",
      "provenance": [],
      "authorship_tag": "ABX9TyPQr3T/4rv12MHm+vmSrH27",
      "include_colab_link": true
    },
    "kernelspec": {
      "name": "python3",
      "display_name": "Python 3"
    },
    "language_info": {
      "name": "python"
    }
  },
  "cells": [
    {
      "cell_type": "markdown",
      "metadata": {
        "id": "view-in-github",
        "colab_type": "text"
      },
      "source": [
        "<a href=\"https://colab.research.google.com/github/Enrique720/Proyecto-BigData/blob/main/Proyecto_Pillow_Angel.ipynb\" target=\"_parent\"><img src=\"https://colab.research.google.com/assets/colab-badge.svg\" alt=\"Open In Colab\"/></a>"
      ]
    },
    {
      "cell_type": "markdown",
      "metadata": {
        "id": "rUZJubrpv65G"
      },
      "source": [
        "## Preprocesamiento"
      ]
    },
    {
      "cell_type": "code",
      "metadata": {
        "id": "Y5g_c6EtpTcZ"
      },
      "source": [
        "import os\n",
        "import shutil\n",
        "from PIL import Image\n",
        "from numpy import asarray, remainder\n",
        "import time"
      ],
      "execution_count": 9,
      "outputs": []
    },
    {
      "cell_type": "code",
      "metadata": {
        "colab": {
          "base_uri": "https://localhost:8080/"
        },
        "id": "npF0Qqz0si1q",
        "outputId": "3c3def87-64d2-4483-f4da-e306a72c3894"
      },
      "source": [
        "from google.colab import drive\n",
        "drive.mount('/content/drive')"
      ],
      "execution_count": 2,
      "outputs": [
        {
          "output_type": "stream",
          "name": "stdout",
          "text": [
            "Mounted at /content/drive\n"
          ]
        }
      ]
    },
    {
      "cell_type": "code",
      "metadata": {
        "id": "Z6ewt0lftAVO"
      },
      "source": [
        "work_dir = '/content/drive/MyDrive/01BigData/BigDataProject'\n",
        "src_dataset_dir = 'RAW_FISH_DATASET'\n",
        "aug_dataset_dir = 'AUGMENTED DATASET/PILLOW'\n",
        "list_species = ['Black Sea Sprat', 'Gilt Head Bream', 'Horse Mackerel',\n",
        "                'Red Mullet', 'Red Sea Bream', 'Sea Bass', 'Shrimp', 'Striped Red Mullet', 'Trout']"
      ],
      "execution_count": 3,
      "outputs": []
    },
    {
      "cell_type": "code",
      "metadata": {
        "id": "y4lhH3lwshJY"
      },
      "source": [
        "def clean_create_workspace():\n",
        "    print(\"*** Clean_Create_Workspace ***\")\n",
        "    print(\"-- Delete previous directories --\")\n",
        "    for directory in list_species:\n",
        "        try:\n",
        "            dir_path = os.path.join(work_dir, aug_dataset_dir, directory)\n",
        "            shutil.rmtree(dir_path)\n",
        "            print(\"Directory successfully deleted:\", dir_path)\n",
        "        except OSError as e:\n",
        "            print(\"OS msg:\", e.strerror)\n",
        "\n",
        "    print(\"-- Create directories --\")\n",
        "    for directory in list_species:\n",
        "        dir_path = os.path.join(work_dir, aug_dataset_dir, directory)\n",
        "        os.mkdir(dir_path)\n",
        "        print(\"Directory successfully created:\", dir_path)"
      ],
      "execution_count": 4,
      "outputs": []
    },
    {
      "cell_type": "code",
      "metadata": {
        "id": "dFR4kP1RwI2T"
      },
      "source": [
        "# Helper function: usada para numerar los archivos aumentados\n",
        "# Input: un numero tipo int\n",
        "# Return: un numero tipo string\n",
        "def convert_num_string(num):\n",
        "    len_final_str = 5\n",
        "    num_str = str(num)\n",
        "    remainder = len_final_str - len(num_str)\n",
        "    ans = remainder * '0' + num_str  # Eg.  ans = '00012'\n",
        "    return ans"
      ],
      "execution_count": 5,
      "outputs": []
    },
    {
      "cell_type": "code",
      "metadata": {
        "id": "AUmig0DIwd4z"
      },
      "source": [
        "# Funcion que realiza augmentation de data: Resize(590, 445)px, rotation, flip\n",
        "# Input: recibe la lista de especies 'list_spacies' y un factor 'n'\n",
        "# Output: realiza un aumento de fotos de tamaño = #fotos_raw_data * n\n",
        "def augmentation_data(list_species, n):\n",
        "  print(\"*** Augmentation_Data ***\")\n",
        "  for specie in list_species:\n",
        "    src_dir = os.path.join(work_dir, src_dataset_dir, specie)\n",
        "    dest_dataset_dir = os.path.join(work_dir, aug_dataset_dir, specie)\n",
        "    num_file = 1\n",
        "    for filename in os.listdir(src_dir):\n",
        "      # load image\n",
        "      pic_path = src_dir + \"/\" + filename\n",
        "      print(\"\\nProcessing picture:\", pic_path)\n",
        "      image = Image.open(pic_path)\n",
        "      # Resize Image\n",
        "      #print('> Original size: %s %s' % (image.size))\n",
        "      image.thumbnail((590, 445))\n",
        "      #print('> Final size: %s %s' % (image.size))\n",
        "      # Por cada iteracion genera 2 transformaciones del archivo\n",
        "      num_iter = n + 1 if (n % 2 > 0) else n\n",
        "      num_iter = int(num_iter / 2)\n",
        "      for i in range(num_iter):\n",
        "        # Transformation #1: Flip image\n",
        "        img_transformed = image.transpose(Image.FLIP_LEFT_RIGHT)\n",
        "        # Save flipped image\n",
        "        format_file = filename.split('.')[1]\n",
        "        num_pic_file = convert_num_string(num_file)\n",
        "        dest_path_file = dest_dataset_dir + \"/\" + num_pic_file + \".\" + format_file\n",
        "        print(\"save file: \", dest_path_file)\n",
        "        img_transformed.save(dest_path_file)\n",
        "        # Transformation #2: rotation\n",
        "        img_transformed = img_transformed.rotate(25 * (i + 1))\n",
        "        # Save rotated image\n",
        "        num_file += 1\n",
        "        num_pic_file = convert_num_string(num_file)\n",
        "        dest_path_file = dest_dataset_dir + \"/\" + num_pic_file + \".\" + format_file\n",
        "        img_transformed.save(dest_path_file)\n",
        "        print(\"save file: \", dest_path_file)\n",
        "        num_file += 1"
      ],
      "execution_count": 30,
      "outputs": []
    },
    {
      "cell_type": "markdown",
      "metadata": {
        "id": "6Brk52YxyH4P"
      },
      "source": [
        "## Main Workflow Execution"
      ]
    },
    {
      "cell_type": "code",
      "metadata": {
        "colab": {
          "base_uri": "https://localhost:8080/"
        },
        "id": "RXpiby1tva1E",
        "outputId": "0092c08f-217a-4efa-8d5a-2bd4bdc76fd0"
      },
      "source": [
        "# Clean destination directory\n",
        "clean_create_workspace()"
      ],
      "execution_count": 28,
      "outputs": [
        {
          "output_type": "stream",
          "name": "stdout",
          "text": [
            "*** Clean_Create_Workspace ***\n",
            "-- Delete previous directories --\n",
            "Directory successfully deleted: /content/drive/MyDrive/01BigData/BigDataProject/AUGMENTED DATASET/PILLOW/Black Sea Sprat\n",
            "Directory successfully deleted: /content/drive/MyDrive/01BigData/BigDataProject/AUGMENTED DATASET/PILLOW/Gilt Head Bream\n",
            "Directory successfully deleted: /content/drive/MyDrive/01BigData/BigDataProject/AUGMENTED DATASET/PILLOW/Horse Mackerel\n",
            "Directory successfully deleted: /content/drive/MyDrive/01BigData/BigDataProject/AUGMENTED DATASET/PILLOW/Red Mullet\n",
            "Directory successfully deleted: /content/drive/MyDrive/01BigData/BigDataProject/AUGMENTED DATASET/PILLOW/Red Sea Bream\n",
            "Directory successfully deleted: /content/drive/MyDrive/01BigData/BigDataProject/AUGMENTED DATASET/PILLOW/Sea Bass\n",
            "Directory successfully deleted: /content/drive/MyDrive/01BigData/BigDataProject/AUGMENTED DATASET/PILLOW/Shrimp\n",
            "Directory successfully deleted: /content/drive/MyDrive/01BigData/BigDataProject/AUGMENTED DATASET/PILLOW/Striped Red Mullet\n",
            "Directory successfully deleted: /content/drive/MyDrive/01BigData/BigDataProject/AUGMENTED DATASET/PILLOW/Trout\n",
            "-- Create directories --\n",
            "Directory successfully created: /content/drive/MyDrive/01BigData/BigDataProject/AUGMENTED DATASET/PILLOW/Black Sea Sprat\n",
            "Directory successfully created: /content/drive/MyDrive/01BigData/BigDataProject/AUGMENTED DATASET/PILLOW/Gilt Head Bream\n",
            "Directory successfully created: /content/drive/MyDrive/01BigData/BigDataProject/AUGMENTED DATASET/PILLOW/Horse Mackerel\n",
            "Directory successfully created: /content/drive/MyDrive/01BigData/BigDataProject/AUGMENTED DATASET/PILLOW/Red Mullet\n",
            "Directory successfully created: /content/drive/MyDrive/01BigData/BigDataProject/AUGMENTED DATASET/PILLOW/Red Sea Bream\n",
            "Directory successfully created: /content/drive/MyDrive/01BigData/BigDataProject/AUGMENTED DATASET/PILLOW/Sea Bass\n",
            "Directory successfully created: /content/drive/MyDrive/01BigData/BigDataProject/AUGMENTED DATASET/PILLOW/Shrimp\n",
            "Directory successfully created: /content/drive/MyDrive/01BigData/BigDataProject/AUGMENTED DATASET/PILLOW/Striped Red Mullet\n",
            "Directory successfully created: /content/drive/MyDrive/01BigData/BigDataProject/AUGMENTED DATASET/PILLOW/Trout\n"
          ]
        }
      ]
    },
    {
      "cell_type": "code",
      "metadata": {
        "id": "p6WE3VgKwHQ5"
      },
      "source": [
        "# Execute Augmentation\n",
        "list_species_test = ['Black Sea Sprat', 'Gilt Head Bream', 'Horse Mackerel', 'Red Mullet', 'Red Sea Bream', 'Sea Bass', 'Shrimp', 'Striped Red Mullet', 'Trout']\n",
        "# Duplica el tamaño del dataset original para la lista de especies\n",
        "n = 10\n",
        "start = time.time()\n",
        "augmentation_data(list_species_test, n)  \n",
        "end = time.time()\n",
        "print(\"Elapsed time:\", end - start, \"(segs)\")"
      ],
      "execution_count": null,
      "outputs": []
    },
    {
      "cell_type": "markdown",
      "metadata": {
        "id": "sDHJSliyyTP-"
      },
      "source": [
        "## Procesamiento"
      ]
    },
    {
      "cell_type": "code",
      "metadata": {
        "id": "N895HYyjyGkm"
      },
      "source": [
        "from pathlib import Path\n",
        "import numpy as np \n",
        "import pandas as pd"
      ],
      "execution_count": 15,
      "outputs": []
    },
    {
      "cell_type": "code",
      "metadata": {
        "id": "82BvqT97yg4a"
      },
      "source": [
        "# Load Data\n",
        "dataset_path = Path(r'/content/drive/MyDrive/01BigData/BigDataProject/AUGMENTED DATASET/PILLOW')\n",
        "file_path = list(dataset_path.glob(r'**/*.*'))\n",
        "\n",
        "# Create labels from source folder\n",
        "labels = list(map(lambda x: os.path.split(os.path.split(x)[0])[1], file_path))"
      ],
      "execution_count": 31,
      "outputs": []
    },
    {
      "cell_type": "code",
      "metadata": {
        "colab": {
          "base_uri": "https://localhost:8080/",
          "height": 206
        },
        "id": "fbqBI6PAzFnn",
        "outputId": "29b632c6-2857-4501-86f5-927bbe14d014"
      },
      "source": [
        "file_path = pd.Series(file_path).astype(str)\n",
        "labels = pd.Series(labels)\n",
        "\n",
        "df = pd.concat([file_path, labels], axis=1)\n",
        "\n",
        "df.columns = ['image', 'label']\n",
        "\n",
        "df.head()"
      ],
      "execution_count": 32,
      "outputs": [
        {
          "output_type": "execute_result",
          "data": {
            "text/html": [
              "<div>\n",
              "<style scoped>\n",
              "    .dataframe tbody tr th:only-of-type {\n",
              "        vertical-align: middle;\n",
              "    }\n",
              "\n",
              "    .dataframe tbody tr th {\n",
              "        vertical-align: top;\n",
              "    }\n",
              "\n",
              "    .dataframe thead th {\n",
              "        text-align: right;\n",
              "    }\n",
              "</style>\n",
              "<table border=\"1\" class=\"dataframe\">\n",
              "  <thead>\n",
              "    <tr style=\"text-align: right;\">\n",
              "      <th></th>\n",
              "      <th>image</th>\n",
              "      <th>label</th>\n",
              "    </tr>\n",
              "  </thead>\n",
              "  <tbody>\n",
              "    <tr>\n",
              "      <th>0</th>\n",
              "      <td>/content/drive/MyDrive/01BigData/BigDataProjec...</td>\n",
              "      <td>Black Sea Sprat</td>\n",
              "    </tr>\n",
              "    <tr>\n",
              "      <th>1</th>\n",
              "      <td>/content/drive/MyDrive/01BigData/BigDataProjec...</td>\n",
              "      <td>Black Sea Sprat</td>\n",
              "    </tr>\n",
              "    <tr>\n",
              "      <th>2</th>\n",
              "      <td>/content/drive/MyDrive/01BigData/BigDataProjec...</td>\n",
              "      <td>Black Sea Sprat</td>\n",
              "    </tr>\n",
              "    <tr>\n",
              "      <th>3</th>\n",
              "      <td>/content/drive/MyDrive/01BigData/BigDataProjec...</td>\n",
              "      <td>Black Sea Sprat</td>\n",
              "    </tr>\n",
              "    <tr>\n",
              "      <th>4</th>\n",
              "      <td>/content/drive/MyDrive/01BigData/BigDataProjec...</td>\n",
              "      <td>Black Sea Sprat</td>\n",
              "    </tr>\n",
              "  </tbody>\n",
              "</table>\n",
              "</div>"
            ],
            "text/plain": [
              "                                               image            label\n",
              "0  /content/drive/MyDrive/01BigData/BigDataProjec...  Black Sea Sprat\n",
              "1  /content/drive/MyDrive/01BigData/BigDataProjec...  Black Sea Sprat\n",
              "2  /content/drive/MyDrive/01BigData/BigDataProjec...  Black Sea Sprat\n",
              "3  /content/drive/MyDrive/01BigData/BigDataProjec...  Black Sea Sprat\n",
              "4  /content/drive/MyDrive/01BigData/BigDataProjec...  Black Sea Sprat"
            ]
          },
          "metadata": {},
          "execution_count": 32
        }
      ]
    },
    {
      "cell_type": "code",
      "metadata": {
        "colab": {
          "base_uri": "https://localhost:8080/"
        },
        "id": "1uNs14uLzWsD",
        "outputId": "a52887f3-90bb-4021-f5ca-b42e8798b3dc"
      },
      "source": [
        "# Show class images\n",
        "df.label.value_counts()"
      ],
      "execution_count": 33,
      "outputs": [
        {
          "output_type": "execute_result",
          "data": {
            "text/plain": [
              "Horse Mackerel        500\n",
              "Black Sea Sprat       500\n",
              "Red Mullet            500\n",
              "Trout                 500\n",
              "Shrimp                500\n",
              "Striped Red Mullet    500\n",
              "Sea Bass              500\n",
              "Red Sea Bream         500\n",
              "Gilt Head Bream       500\n",
              "Name: label, dtype: int64"
            ]
          },
          "metadata": {},
          "execution_count": 33
        }
      ]
    },
    {
      "cell_type": "code",
      "metadata": {
        "id": "FYaNzjwNzsxL"
      },
      "source": [
        "# Create train, test, validation dataset\n",
        "from sklearn.model_selection import train_test_split"
      ],
      "execution_count": 37,
      "outputs": []
    },
    {
      "cell_type": "code",
      "metadata": {
        "id": "1gnMoHCKz_cB"
      },
      "source": [
        "x_train, x_test = train_test_split(df, test_size=0.3,random_state=30)\n",
        "x_train, x_val = train_test_split(x_train, test_size=0.2, random_state=30)"
      ],
      "execution_count": 38,
      "outputs": []
    },
    {
      "cell_type": "code",
      "metadata": {
        "colab": {
          "base_uri": "https://localhost:8080/"
        },
        "id": "x678IKb20GYJ",
        "outputId": "425e684a-b968-41bc-e01b-34a269a8ba3c"
      },
      "source": [
        "print(\"Shape training data\", x_train.shape)\n",
        "print(\"Shape test data\", x_test.shape)\n",
        "print(\"Shape validation data\", x_val.shape)"
      ],
      "execution_count": 39,
      "outputs": [
        {
          "output_type": "stream",
          "name": "stdout",
          "text": [
            "Shape training data (2520, 2)\n",
            "Shape test data (1350, 2)\n",
            "Shape validation data (630, 2)\n"
          ]
        }
      ]
    },
    {
      "cell_type": "code",
      "metadata": {
        "id": "ysJ95BLd0Q8N"
      },
      "source": [
        "import tensorflow as tf\n",
        "from keras.preprocessing.image import ImageDataGenerator\n",
        "from keras.models import Sequential, Model\n",
        "from keras.layers import Dense, Flatten, Dropout, GlobalAveragePooling2D"
      ],
      "execution_count": 43,
      "outputs": []
    },
    {
      "cell_type": "code",
      "metadata": {
        "colab": {
          "base_uri": "https://localhost:8080/"
        },
        "id": "ZKv9ecIW0XHt",
        "outputId": "334aa79a-d6fd-49db-8b8b-d3bbb614cb10"
      },
      "source": [
        "image_data_generator = ImageDataGenerator(rescale = 1./255,\n",
        "    rotation_range=40,\n",
        "      width_shift_range=0.2,\n",
        "      height_shift_range=0.2,\n",
        "      shear_range=0.2,\n",
        "      zoom_range=0.2,\n",
        "      horizontal_flip=True,\n",
        "      fill_mode='nearest')\n",
        "\n",
        "train = image_data_generator.flow_from_dataframe(dataframe=x_train, x_col='image', y_col='label', target_size=(200,200), color_mode='rgb', class_mode='categorical', shuffle=False)\n",
        "test = image_data_generator.flow_from_dataframe(dataframe=x_test, x_col='image', y_col='label', target_size=(200,200), color_mode='rgb', class_mode='categorical', shuffle=False)\n",
        "val = image_data_generator.flow_from_dataframe(dataframe=x_val, x_col='image', y_col='label', target_size=(200,200), color_mode='rgb', class_mode='categorical',shuffle=False)"
      ],
      "execution_count": 44,
      "outputs": [
        {
          "output_type": "stream",
          "name": "stdout",
          "text": [
            "Found 2520 validated image filenames belonging to 9 classes.\n",
            "Found 1350 validated image filenames belonging to 9 classes.\n",
            "Found 630 validated image filenames belonging to 9 classes.\n"
          ]
        }
      ]
    },
    {
      "cell_type": "code",
      "metadata": {
        "id": "zdSPVIuN0kTD"
      },
      "source": [
        "# Model definition\n",
        "input_shape = (200, 200, 3)"
      ],
      "execution_count": 45,
      "outputs": []
    },
    {
      "cell_type": "code",
      "metadata": {
        "colab": {
          "base_uri": "https://localhost:8080/"
        },
        "id": "mFEJEU1u0zW6",
        "outputId": "aff79a84-0ca5-42ca-92a7-9813b3ef3f06"
      },
      "source": [
        "model = tf.keras.models.Sequential([\n",
        "    tf.keras.layers.Conv2D(64, (3,3), activation='relu', input_shape=input_shape ),\n",
        "    tf.keras.layers.MaxPool2D(pool_size = (2,2)),\n",
        "    tf.keras.layers.Conv2D(64, (3,3), activation='relu'),\n",
        "    tf.keras.layers.MaxPool2D(pool_size = (2,2)),\n",
        "    tf.keras.layers.Conv2D(32, (3,3), activation='relu'),\n",
        "    tf.keras.layers.MaxPool2D(pool_size = (2,2)),\n",
        "    tf.keras.layers.Conv2D(32, (3,3), activation='relu'),\n",
        "    tf.keras.layers.MaxPool2D(pool_size = (2,2)),\n",
        "    tf.keras.layers.Flatten(),\n",
        "    tf.keras.layers.Dense(512, activation='relu'),\n",
        "    tf.keras.layers.Dense(128, activation='relu'),\n",
        "    tf.keras.layers.Dropout(0.2),\n",
        "    tf.keras.layers.Dense(128, activation='relu'),\n",
        "    tf.keras.layers.Dropout(0.2),\n",
        "    tf.keras.layers.Dense(9, activation='softmax')\n",
        "])\n",
        "\n",
        "model.summary()"
      ],
      "execution_count": 49,
      "outputs": [
        {
          "output_type": "stream",
          "name": "stdout",
          "text": [
            "Model: \"sequential_3\"\n",
            "_________________________________________________________________\n",
            " Layer (type)                Output Shape              Param #   \n",
            "=================================================================\n",
            " conv2d_12 (Conv2D)          (None, 198, 198, 64)      1792      \n",
            "                                                                 \n",
            " max_pooling2d_12 (MaxPoolin  (None, 99, 99, 64)       0         \n",
            " g2D)                                                            \n",
            "                                                                 \n",
            " conv2d_13 (Conv2D)          (None, 97, 97, 64)        36928     \n",
            "                                                                 \n",
            " max_pooling2d_13 (MaxPoolin  (None, 48, 48, 64)       0         \n",
            " g2D)                                                            \n",
            "                                                                 \n",
            " conv2d_14 (Conv2D)          (None, 46, 46, 32)        18464     \n",
            "                                                                 \n",
            " max_pooling2d_14 (MaxPoolin  (None, 23, 23, 32)       0         \n",
            " g2D)                                                            \n",
            "                                                                 \n",
            " conv2d_15 (Conv2D)          (None, 21, 21, 32)        9248      \n",
            "                                                                 \n",
            " max_pooling2d_15 (MaxPoolin  (None, 10, 10, 32)       0         \n",
            " g2D)                                                            \n",
            "                                                                 \n",
            " flatten_3 (Flatten)         (None, 3200)              0         \n",
            "                                                                 \n",
            " dense_12 (Dense)            (None, 512)               1638912   \n",
            "                                                                 \n",
            " dense_13 (Dense)            (None, 128)               65664     \n",
            "                                                                 \n",
            " dropout_6 (Dropout)         (None, 128)               0         \n",
            "                                                                 \n",
            " dense_14 (Dense)            (None, 128)               16512     \n",
            "                                                                 \n",
            " dropout_7 (Dropout)         (None, 128)               0         \n",
            "                                                                 \n",
            " dense_15 (Dense)            (None, 9)                 1161      \n",
            "                                                                 \n",
            "=================================================================\n",
            "Total params: 1,788,681\n",
            "Trainable params: 1,788,681\n",
            "Non-trainable params: 0\n",
            "_________________________________________________________________\n"
          ]
        }
      ]
    },
    {
      "cell_type": "code",
      "metadata": {
        "id": "lgnKZINP03TH"
      },
      "source": [
        "from tensorflow.keras.optimizers import Adam"
      ],
      "execution_count": 48,
      "outputs": []
    },
    {
      "cell_type": "code",
      "metadata": {
        "colab": {
          "base_uri": "https://localhost:8080/"
        },
        "id": "_1KyAevW07jY",
        "outputId": "723f42df-ef94-4350-e417-2119989f9ff3"
      },
      "source": [
        "# Training model\n",
        "model.compile(optimizer=\"adam\", loss='categorical_crossentropy', metrics=[\"accuracy\"])\n",
        "callback = tf.keras.callbacks.EarlyStopping(monitor='accuracy', patience=4)\n",
        "start = time.time()\n",
        "history = model.fit(train, validation_data=val, epochs=10, callbacks=callback)\n",
        "end = time.time()\n",
        "print(\"Elapsed time:\", end - start, \"(segs)\")"
      ],
      "execution_count": 50,
      "outputs": [
        {
          "output_type": "stream",
          "name": "stdout",
          "text": [
            "Epoch 1/10\n",
            "79/79 [==============================] - 312s 4s/step - loss: 2.1639 - accuracy: 0.1369 - val_loss: 2.0117 - val_accuracy: 0.1921\n",
            "Epoch 2/10\n",
            "79/79 [==============================] - 309s 4s/step - loss: 1.9475 - accuracy: 0.2254 - val_loss: 1.7733 - val_accuracy: 0.2667\n",
            "Epoch 3/10\n",
            "79/79 [==============================] - 313s 4s/step - loss: 1.7127 - accuracy: 0.2968 - val_loss: 1.6442 - val_accuracy: 0.3571\n",
            "Epoch 4/10\n",
            "79/79 [==============================] - 304s 4s/step - loss: 1.5698 - accuracy: 0.3627 - val_loss: 1.5722 - val_accuracy: 0.3730\n",
            "Epoch 5/10\n",
            "79/79 [==============================] - 303s 4s/step - loss: 1.3614 - accuracy: 0.4484 - val_loss: 1.2236 - val_accuracy: 0.5222\n",
            "Epoch 6/10\n",
            "79/79 [==============================] - 302s 4s/step - loss: 1.2149 - accuracy: 0.5123 - val_loss: 1.0612 - val_accuracy: 0.5635\n",
            "Epoch 7/10\n",
            "79/79 [==============================] - 307s 4s/step - loss: 1.2199 - accuracy: 0.5099 - val_loss: 1.0249 - val_accuracy: 0.5905\n",
            "Epoch 8/10\n",
            "79/79 [==============================] - 307s 4s/step - loss: 1.0222 - accuracy: 0.5940 - val_loss: 0.9384 - val_accuracy: 0.6095\n",
            "Epoch 9/10\n",
            "79/79 [==============================] - 306s 4s/step - loss: 0.9361 - accuracy: 0.6183 - val_loss: 0.9529 - val_accuracy: 0.6048\n",
            "Epoch 10/10\n",
            "79/79 [==============================] - 302s 4s/step - loss: 0.8951 - accuracy: 0.6476 - val_loss: 0.8017 - val_accuracy: 0.6857\n",
            "Elapsed time: 3137.1309218406677 (segs)\n"
          ]
        }
      ]
    },
    {
      "cell_type": "code",
      "metadata": {
        "id": "7We7uhvtXpBu"
      },
      "source": [
        "# Save model\n",
        "model.save('/content/drive/MyDrive/01BigData/BigDataProject/model-pillow-500.h5')"
      ],
      "execution_count": 51,
      "outputs": []
    },
    {
      "cell_type": "code",
      "metadata": {
        "id": "29zHVy1rYUs9"
      },
      "source": [
        "# Verify model performance \n",
        "accuracy = history.history['accuracy']\n",
        "val_accuracy  = history.history['val_accuracy']\n",
        "\n",
        "loss = history.history['loss']\n",
        "val_loss = history.history['val_loss']"
      ],
      "execution_count": 52,
      "outputs": []
    },
    {
      "cell_type": "code",
      "metadata": {
        "colab": {
          "base_uri": "https://localhost:8080/",
          "height": 311
        },
        "id": "_WR59nOUYZxj",
        "outputId": "ebe1bd43-bf86-4044-8d5c-7c7b5a0e8368"
      },
      "source": [
        "import matplotlib.pyplot as plt\n",
        "\n",
        "plt.figure(figsize=(15,10))\n",
        "\n",
        "plt.subplot(2, 2, 1)\n",
        "plt.plot(accuracy, label = \"Training accuracy\")\n",
        "plt.plot(val_accuracy, label=\"Validation accuracy\")\n",
        "plt.legend()\n",
        "plt.title(\"Training vs validation accuracy\")\n",
        "\n",
        "plt.subplot(2,2,2)\n",
        "plt.plot(loss, label = \"Training loss\")\n",
        "plt.plot(val_loss, label=\"Validation loss\")\n",
        "plt.legend()\n",
        "plt.title(\"Training vs validation loss\")\n",
        "\n",
        "plt.show()"
      ],
      "execution_count": 54,
      "outputs": [
        {
          "output_type": "display_data",
          "data": {
            "image/png": "[encoded data removed]",
            "text/plain": [
              "<Figure size 1080x720 with 2 Axes>"
            ]
          },
          "metadata": {
            "needs_background": "light"
          }
        }
      ]
    }
  ]
}