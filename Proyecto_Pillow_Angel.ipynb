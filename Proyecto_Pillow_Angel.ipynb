{
  "nbformat": 4,
  "nbformat_minor": 0,
  "metadata": {
    "colab": {
      "name": "Proyecto_Pillow_Angel.ipynb",
      "provenance": [],
      "authorship_tag": "ABX9TyNP/03qMACSlJbGSjRUgpfi",
      "include_colab_link": true
    },
    "kernelspec": {
      "name": "python3",
      "display_name": "Python 3"
    },
    "language_info": {
      "name": "python"
    },
    "accelerator": "GPU"
  },
  "cells": [
    {
      "cell_type": "markdown",
      "metadata": {
        "id": "view-in-github",
        "colab_type": "text"
      },
      "source": [
        "<a href=\"https://colab.research.google.com/github/Enrique720/Proyecto-BigData/blob/main/Proyecto_Pillow_Angel.ipynb\" target=\"_parent\"><img src=\"https://colab.research.google.com/assets/colab-badge.svg\" alt=\"Open In Colab\"/></a>"
      ]
    },
    {
      "cell_type": "markdown",
      "metadata": {
        "id": "rUZJubrpv65G"
      },
      "source": [
        "## Preprocesamiento"
      ]
    },
    {
      "cell_type": "code",
      "metadata": {
        "id": "2FTiAEJZ6S36"
      },
      "source": [
        "!pip install ray"
      ],
      "execution_count": null,
      "outputs": []
    },
    {
      "cell_type": "code",
      "metadata": {
        "id": "Y5g_c6EtpTcZ"
      },
      "source": [
        "import os\n",
        "import shutil\n",
        "from PIL import Image\n",
        "from numpy import asarray, remainder\n",
        "import time\n",
        "import ray"
      ],
      "execution_count": 3,
      "outputs": []
    },
    {
      "cell_type": "code",
      "metadata": {
        "colab": {
          "base_uri": "https://localhost:8080/"
        },
        "id": "npF0Qqz0si1q",
        "outputId": "f2479a5e-898c-42f4-8d74-24a2296b122e"
      },
      "source": [
        "from google.colab import drive\n",
        "drive.mount('/content/drive')"
      ],
      "execution_count": 4,
      "outputs": [
        {
          "output_type": "stream",
          "name": "stdout",
          "text": [
            "Mounted at /content/drive\n"
          ]
        }
      ]
    },
    {
      "cell_type": "code",
      "metadata": {
        "colab": {
          "base_uri": "https://localhost:8080/"
        },
        "id": "Aldm1Ynx7gaD",
        "outputId": "5f77584b-4e38-4674-bbaf-9f7d8be5c860"
      },
      "source": [
        "num_workers = 4\n",
        "ray.init(num_cpus=num_workers, ignore_reinit_error=True)"
      ],
      "execution_count": null,
      "outputs": [
        {
          "output_type": "execute_result",
          "data": {
            "text/plain": [
              "{'metrics_export_port': 61497,\n",
              " 'node_id': '3872d4ac3f604b23aef044ad46ddd5751ed82ca3686b1674ef7b8e0e',\n",
              " 'node_ip_address': '172.28.0.2',\n",
              " 'object_store_address': '/tmp/ray/session_2021-12-08_01-27-32_818031_60/sockets/plasma_store',\n",
              " 'raylet_ip_address': '172.28.0.2',\n",
              " 'raylet_socket_name': '/tmp/ray/session_2021-12-08_01-27-32_818031_60/sockets/raylet',\n",
              " 'redis_address': '172.28.0.2:6379',\n",
              " 'session_dir': '/tmp/ray/session_2021-12-08_01-27-32_818031_60',\n",
              " 'webui_url': None}"
            ]
          },
          "metadata": {},
          "execution_count": 4
        }
      ]
    },
    {
      "cell_type": "code",
      "metadata": {
        "id": "Z6ewt0lftAVO"
      },
      "source": [
        "work_dir = '/content/drive/MyDrive/01BigData/BigDataProject'\n",
        "src_dataset_dir = 'RAW_FISH_DATASET'\n",
        "aug_dataset_dir = 'AUGMENTED DATASET/PILLOW'\n",
        "list_species = ['Black Sea Sprat', 'Gilt Head Bream', 'Horse Mackerel',\n",
        "                'Red Mullet', 'Red Sea Bream', 'Sea Bass', 'Shrimp', 'Striped Red Mullet', 'Trout']"
      ],
      "execution_count": 5,
      "outputs": []
    },
    {
      "cell_type": "code",
      "metadata": {
        "id": "y4lhH3lwshJY"
      },
      "source": [
        "def clean_create_workspace():\n",
        "    print(\"*** Clean_Create_Workspace ***\")\n",
        "    print(\"-- Delete previous directories --\")\n",
        "    for directory in list_species:\n",
        "        try:\n",
        "            dir_path = os.path.join(work_dir, aug_dataset_dir, directory)\n",
        "            shutil.rmtree(dir_path)\n",
        "            print(\"Directory successfully deleted:\", dir_path)\n",
        "        except OSError as e:\n",
        "            print(\"OS msg:\", e.strerror)\n",
        "\n",
        "    print(\"-- Create directories --\")\n",
        "    for directory in list_species:\n",
        "        dir_path = os.path.join(work_dir, aug_dataset_dir, directory)\n",
        "        os.mkdir(dir_path)\n",
        "        print(\"Directory successfully created:\", dir_path)"
      ],
      "execution_count": 6,
      "outputs": []
    },
    {
      "cell_type": "code",
      "metadata": {
        "id": "dFR4kP1RwI2T"
      },
      "source": [
        "# Helper function: usada para numerar los archivos aumentados\n",
        "# Input: un numero tipo int\n",
        "# Return: un numero tipo string\n",
        "def convert_num_string(num):\n",
        "    len_final_str = 5\n",
        "    num_str = str(num)\n",
        "    remainder = len_final_str - len(num_str)\n",
        "    ans = remainder * '0' + num_str  # Eg.  ans = '00012'\n",
        "    return ans"
      ],
      "execution_count": 7,
      "outputs": []
    },
    {
      "cell_type": "code",
      "metadata": {
        "id": "YsZrrnX67OFi"
      },
      "source": [
        "# Funcion que realiza augmentation de data: Resize(590, 445)px, rotation, flip\n",
        "# Input: recibe la lista de especies 'list_spacies' y un factor 'n'\n",
        "# Output: realiza un aumento de fotos de tamaño = #fotos_raw_data * n\n",
        "def augmentation_data(list_species, n):\n",
        "  print(\"*** Augmentation_Data ***\")\n",
        "  for specie in list_species:\n",
        "    print(\"\\nProcessing specie:\", specie)\n",
        "    src_dir = os.path.join(work_dir, src_dataset_dir, specie)\n",
        "    dest_dataset_dir = os.path.join(work_dir, aug_dataset_dir, specie)\n",
        "    num_file = 1\n",
        "    for filename in os.listdir(src_dir):\n",
        "      # load image\n",
        "      pic_path = src_dir + \"/\" + filename\n",
        "      #print(\"\\nProcessing picture:\", pic_path)\n",
        "      image = Image.open(pic_path)\n",
        "      # Resize Image\n",
        "      #print('> Original size: %s %s' % (image.size))\n",
        "      image.thumbnail((590, 445))\n",
        "      #print('> Final size: %s %s' % (image.size))\n",
        "      # Por cada iteracion genera 2 transformaciones del archivo\n",
        "      num_iter = n + 1 if (n % 2 > 0) else n\n",
        "      num_iter = int(num_iter / 2)\n",
        "      for i in range(num_iter):\n",
        "        # Transformation #1: Flip image\n",
        "        img_transformed = image.transpose(Image.FLIP_LEFT_RIGHT)\n",
        "        # Save flipped image\n",
        "        format_file = filename.split('.')[1]\n",
        "        num_pic_file = convert_num_string(num_file)\n",
        "        dest_path_file = dest_dataset_dir + \"/\" + num_pic_file + \".\" + format_file\n",
        "        #print(\"save file: \", dest_path_file)\n",
        "        img_transformed.save(dest_path_file)\n",
        "        # Transformation #2: rotation\n",
        "        img_transformed = img_transformed.rotate(25 * (i + 1))\n",
        "        # Save rotated image\n",
        "        num_file += 1\n",
        "        num_pic_file = convert_num_string(num_file)\n",
        "        dest_path_file = dest_dataset_dir + \"/\" + num_pic_file + \".\" + format_file\n",
        "        img_transformed.save(dest_path_file)\n",
        "        #print(\"save file: \", dest_path_file)\n",
        "        num_file += 1"
      ],
      "execution_count": 8,
      "outputs": []
    },
    {
      "cell_type": "code",
      "metadata": {
        "id": "AUmig0DIwd4z"
      },
      "source": [
        "# Funcion que realiza augmentation de data: Resize(590, 445)px, rotation, flip\n",
        "# Input: recibe la lista de especies 'list_spacies' y un factor 'n'\n",
        "# Output: realiza un aumento de fotos de tamaño = #fotos_raw_data * n\n",
        "@ray.remote\n",
        "def augmentation_data_ray(list_species, n):\n",
        "  print(\"*** Augmentation_Data ***\")\n",
        "  for specie in list_species:\n",
        "    print(\"\\nProcessing specie:\", specie)\n",
        "    src_dir = os.path.join(work_dir, src_dataset_dir, specie)\n",
        "    dest_dataset_dir = os.path.join(work_dir, aug_dataset_dir, specie)\n",
        "    num_file = 1\n",
        "    for filename in os.listdir(src_dir):\n",
        "      # load image\n",
        "      pic_path = src_dir + \"/\" + filename\n",
        "      #print(\"\\nProcessing picture:\", pic_path)\n",
        "      image = Image.open(pic_path)\n",
        "      # Resize Image\n",
        "      #print('> Original size: %s %s' % (image.size))\n",
        "      image.thumbnail((590, 445))\n",
        "      #print('> Final size: %s %s' % (image.size))\n",
        "      # Por cada iteracion genera 2 transformaciones del archivo\n",
        "      num_iter = n + 1 if (n % 2 > 0) else n\n",
        "      num_iter = int(num_iter / 2)\n",
        "      for i in range(num_iter):\n",
        "        # Transformation #1: Flip image\n",
        "        img_transformed = image.transpose(Image.FLIP_LEFT_RIGHT)\n",
        "        # Save flipped image\n",
        "        format_file = filename.split('.')[1]\n",
        "        num_pic_file = convert_num_string(num_file)\n",
        "        dest_path_file = dest_dataset_dir + \"/\" + num_pic_file + \".\" + format_file\n",
        "        #print(\"save file: \", dest_path_file)\n",
        "        img_transformed.save(dest_path_file)\n",
        "        # Transformation #2: rotation\n",
        "        img_transformed = img_transformed.rotate(25 * (i + 1))\n",
        "        # Save rotated image\n",
        "        num_file += 1\n",
        "        num_pic_file = convert_num_string(num_file)\n",
        "        dest_path_file = dest_dataset_dir + \"/\" + num_pic_file + \".\" + format_file\n",
        "        img_transformed.save(dest_path_file)\n",
        "        #print(\"save file: \", dest_path_file)\n",
        "        num_file += 1"
      ],
      "execution_count": null,
      "outputs": []
    },
    {
      "cell_type": "markdown",
      "metadata": {
        "id": "6Brk52YxyH4P"
      },
      "source": [
        "## Main Workflow Execution"
      ]
    },
    {
      "cell_type": "code",
      "metadata": {
        "colab": {
          "base_uri": "https://localhost:8080/"
        },
        "id": "RXpiby1tva1E",
        "outputId": "f117e9ed-e0cd-4d16-d305-4e3a5039350d"
      },
      "source": [
        "# Clean destination directory\n",
        "clean_create_workspace()"
      ],
      "execution_count": null,
      "outputs": [
        {
          "output_type": "stream",
          "name": "stdout",
          "text": [
            "*** Clean_Create_Workspace ***\n",
            "-- Delete previous directories --\n",
            "Directory successfully deleted: /content/drive/MyDrive/01BigData/BigDataProject/AUGMENTED DATASET/PILLOW/Black Sea Sprat\n",
            "Directory successfully deleted: /content/drive/MyDrive/01BigData/BigDataProject/AUGMENTED DATASET/PILLOW/Gilt Head Bream\n",
            "Directory successfully deleted: /content/drive/MyDrive/01BigData/BigDataProject/AUGMENTED DATASET/PILLOW/Horse Mackerel\n",
            "Directory successfully deleted: /content/drive/MyDrive/01BigData/BigDataProject/AUGMENTED DATASET/PILLOW/Red Mullet\n",
            "Directory successfully deleted: /content/drive/MyDrive/01BigData/BigDataProject/AUGMENTED DATASET/PILLOW/Red Sea Bream\n",
            "Directory successfully deleted: /content/drive/MyDrive/01BigData/BigDataProject/AUGMENTED DATASET/PILLOW/Sea Bass\n",
            "Directory successfully deleted: /content/drive/MyDrive/01BigData/BigDataProject/AUGMENTED DATASET/PILLOW/Shrimp\n",
            "Directory successfully deleted: /content/drive/MyDrive/01BigData/BigDataProject/AUGMENTED DATASET/PILLOW/Striped Red Mullet\n",
            "Directory successfully deleted: /content/drive/MyDrive/01BigData/BigDataProject/AUGMENTED DATASET/PILLOW/Trout\n",
            "-- Create directories --\n",
            "Directory successfully created: /content/drive/MyDrive/01BigData/BigDataProject/AUGMENTED DATASET/PILLOW/Black Sea Sprat\n",
            "Directory successfully created: /content/drive/MyDrive/01BigData/BigDataProject/AUGMENTED DATASET/PILLOW/Gilt Head Bream\n",
            "Directory successfully created: /content/drive/MyDrive/01BigData/BigDataProject/AUGMENTED DATASET/PILLOW/Horse Mackerel\n",
            "Directory successfully created: /content/drive/MyDrive/01BigData/BigDataProject/AUGMENTED DATASET/PILLOW/Red Mullet\n",
            "Directory successfully created: /content/drive/MyDrive/01BigData/BigDataProject/AUGMENTED DATASET/PILLOW/Red Sea Bream\n",
            "Directory successfully created: /content/drive/MyDrive/01BigData/BigDataProject/AUGMENTED DATASET/PILLOW/Sea Bass\n",
            "Directory successfully created: /content/drive/MyDrive/01BigData/BigDataProject/AUGMENTED DATASET/PILLOW/Shrimp\n",
            "Directory successfully created: /content/drive/MyDrive/01BigData/BigDataProject/AUGMENTED DATASET/PILLOW/Striped Red Mullet\n",
            "Directory successfully created: /content/drive/MyDrive/01BigData/BigDataProject/AUGMENTED DATASET/PILLOW/Trout\n"
          ]
        }
      ]
    },
    {
      "cell_type": "code",
      "metadata": {
        "id": "p6WE3VgKwHQ5",
        "colab": {
          "base_uri": "https://localhost:8080/"
        },
        "outputId": "62ccb7ac-cb60-4665-9286-db8bd898a689"
      },
      "source": [
        "# Execute Augmentation\n",
        "list_species_test = ['Black Sea Sprat', 'Gilt Head Bream', 'Horse Mackerel', 'Red Mullet', 'Red Sea Bream', 'Sea Bass', 'Shrimp', 'Striped Red Mullet', 'Trout']\n",
        "#list_species_test = ['Black Sea Sprat', 'Gilt Head Bream', 'Horse Mackerel']\n",
        "# Multiplica el tamaño del dataset original para la lista de especies\n",
        "n = 20\n",
        "start = time.time()\n",
        "augmentation_data(list_species_test, n)  \n",
        "end = time.time()\n",
        "print(\"\\nElapsed time:\", end - start, \"(segs)\")"
      ],
      "execution_count": null,
      "outputs": [
        {
          "output_type": "stream",
          "name": "stdout",
          "text": [
            "*** Augmentation_Data ***\n",
            "\n",
            "Processing specie: Black Sea Sprat\n",
            "\n",
            "Processing specie: Gilt Head Bream\n",
            "\n",
            "Processing specie: Horse Mackerel\n",
            "\n",
            "Processing specie: Red Mullet\n",
            "\n",
            "Processing specie: Red Sea Bream\n",
            "\n",
            "Processing specie: Sea Bass\n",
            "\n",
            "Processing specie: Shrimp\n",
            "\n",
            "Processing specie: Striped Red Mullet\n",
            "\n",
            "Processing specie: Trout\n",
            "\n",
            "Elapsed time: 925.17125415802 (segs)\n"
          ]
        }
      ]
    },
    {
      "cell_type": "code",
      "metadata": {
        "colab": {
          "base_uri": "https://localhost:8080/"
        },
        "id": "mq-MakqU8h8W",
        "outputId": "f869a9b1-fc8c-4980-9bc3-3bbfebfe754b"
      },
      "source": [
        "# RAY Execute Augmentation\n",
        "list_species_test = ['Black Sea Sprat', 'Gilt Head Bream', 'Horse Mackerel', 'Red Mullet', 'Red Sea Bream', 'Sea Bass', 'Shrimp', 'Striped Red Mullet', 'Trout']\n",
        "#list_species_test = ['Black Sea Sprat', 'Gilt Head Bream', 'Horse Mackerel']\n",
        "# 'n' Multiplica el tamaño del dataset original para la lista de especies\n",
        "n = 20\n",
        "start = time.time()\n",
        "ray.get([augmentation_data_ray.remote([list_specie], n) for list_specie in list_species_test])\n",
        "end = time.time()\n",
        "print(\"Elapsed time:\", end - start, \"(segs)\")"
      ],
      "execution_count": null,
      "outputs": [
        {
          "output_type": "stream",
          "name": "stdout",
          "text": [
            "\u001b[2m\u001b[36m(augmentation_data_ray pid=373)\u001b[0m *** Augmentation_Data ***\n",
            "\u001b[2m\u001b[36m(augmentation_data_ray pid=373)\u001b[0m \n",
            "\u001b[2m\u001b[36m(augmentation_data_ray pid=373)\u001b[0m Processing specie: Horse Mackerel\n",
            "\u001b[2m\u001b[36m(augmentation_data_ray pid=374)\u001b[0m *** Augmentation_Data ***\n",
            "\u001b[2m\u001b[36m(augmentation_data_ray pid=374)\u001b[0m \n",
            "\u001b[2m\u001b[36m(augmentation_data_ray pid=374)\u001b[0m Processing specie: Black Sea Sprat\n",
            "\u001b[2m\u001b[36m(augmentation_data_ray pid=539)\u001b[0m *** Augmentation_Data ***\n",
            "\u001b[2m\u001b[36m(augmentation_data_ray pid=539)\u001b[0m \n",
            "\u001b[2m\u001b[36m(augmentation_data_ray pid=539)\u001b[0m Processing specie: Gilt Head Bream\n",
            "\u001b[2m\u001b[36m(augmentation_data_ray pid=588)\u001b[0m *** Augmentation_Data ***\n",
            "\u001b[2m\u001b[36m(augmentation_data_ray pid=588)\u001b[0m \n",
            "\u001b[2m\u001b[36m(augmentation_data_ray pid=588)\u001b[0m Processing specie: Red Mullet\n",
            "\u001b[2m\u001b[36m(augmentation_data_ray pid=539)\u001b[0m *** Augmentation_Data ***\n",
            "\u001b[2m\u001b[36m(augmentation_data_ray pid=539)\u001b[0m \n",
            "\u001b[2m\u001b[36m(augmentation_data_ray pid=539)\u001b[0m Processing specie: Red Sea Bream\n",
            "\u001b[2m\u001b[36m(augmentation_data_ray pid=539)\u001b[0m *** Augmentation_Data ***\n",
            "\u001b[2m\u001b[36m(augmentation_data_ray pid=539)\u001b[0m \n",
            "\u001b[2m\u001b[36m(augmentation_data_ray pid=539)\u001b[0m Processing specie: Sea Bass\n",
            "\u001b[2m\u001b[36m(augmentation_data_ray pid=539)\u001b[0m *** Augmentation_Data ***\n",
            "\u001b[2m\u001b[36m(augmentation_data_ray pid=539)\u001b[0m \n",
            "\u001b[2m\u001b[36m(augmentation_data_ray pid=539)\u001b[0m Processing specie: Shrimp\n",
            "\u001b[2m\u001b[36m(augmentation_data_ray pid=373)\u001b[0m *** Augmentation_Data ***\n",
            "\u001b[2m\u001b[36m(augmentation_data_ray pid=373)\u001b[0m \n",
            "\u001b[2m\u001b[36m(augmentation_data_ray pid=373)\u001b[0m Processing specie: Striped Red Mullet\n",
            "\u001b[2m\u001b[36m(augmentation_data_ray pid=588)\u001b[0m *** Augmentation_Data ***\n",
            "\u001b[2m\u001b[36m(augmentation_data_ray pid=588)\u001b[0m \n",
            "\u001b[2m\u001b[36m(augmentation_data_ray pid=588)\u001b[0m Processing specie: Trout\n",
            "Elapsed time: 611.6000981330872 (segs)\n"
          ]
        }
      ]
    },
    {
      "cell_type": "markdown",
      "metadata": {
        "id": "sDHJSliyyTP-"
      },
      "source": [
        "## Procesamiento"
      ]
    },
    {
      "cell_type": "code",
      "metadata": {
        "id": "N895HYyjyGkm"
      },
      "source": [
        "from pathlib import Path\n",
        "import numpy as np \n",
        "import pandas as pd"
      ],
      "execution_count": 9,
      "outputs": []
    },
    {
      "cell_type": "code",
      "metadata": {
        "id": "82BvqT97yg4a"
      },
      "source": [
        "# Load Data\n",
        "dataset_path = Path(r'/content/drive/MyDrive/01BigData/BigDataProject/AUGMENTED DATASET/PILLOW')\n",
        "file_path = list(dataset_path.glob(r'**/*.*'))\n",
        "\n",
        "# Create labels from source folder\n",
        "labels = list(map(lambda x: os.path.split(os.path.split(x)[0])[1], file_path))"
      ],
      "execution_count": 10,
      "outputs": []
    },
    {
      "cell_type": "code",
      "metadata": {
        "colab": {
          "base_uri": "https://localhost:8080/",
          "height": 206
        },
        "id": "fbqBI6PAzFnn",
        "outputId": "d0a41f68-90ae-46a7-eb08-45d680cf5568"
      },
      "source": [
        "file_path = pd.Series(file_path).astype(str)\n",
        "labels = pd.Series(labels)\n",
        "\n",
        "df = pd.concat([file_path, labels], axis=1)\n",
        "\n",
        "df.columns = ['image', 'label']\n",
        "\n",
        "df.head()"
      ],
      "execution_count": 11,
      "outputs": [
        {
          "output_type": "execute_result",
          "data": {
            "text/html": [
              "<div>\n",
              "<style scoped>\n",
              "    .dataframe tbody tr th:only-of-type {\n",
              "        vertical-align: middle;\n",
              "    }\n",
              "\n",
              "    .dataframe tbody tr th {\n",
              "        vertical-align: top;\n",
              "    }\n",
              "\n",
              "    .dataframe thead th {\n",
              "        text-align: right;\n",
              "    }\n",
              "</style>\n",
              "<table border=\"1\" class=\"dataframe\">\n",
              "  <thead>\n",
              "    <tr style=\"text-align: right;\">\n",
              "      <th></th>\n",
              "      <th>image</th>\n",
              "      <th>label</th>\n",
              "    </tr>\n",
              "  </thead>\n",
              "  <tbody>\n",
              "    <tr>\n",
              "      <th>0</th>\n",
              "      <td>/content/drive/MyDrive/01BigData/BigDataProjec...</td>\n",
              "      <td>Black Sea Sprat</td>\n",
              "    </tr>\n",
              "    <tr>\n",
              "      <th>1</th>\n",
              "      <td>/content/drive/MyDrive/01BigData/BigDataProjec...</td>\n",
              "      <td>Black Sea Sprat</td>\n",
              "    </tr>\n",
              "    <tr>\n",
              "      <th>2</th>\n",
              "      <td>/content/drive/MyDrive/01BigData/BigDataProjec...</td>\n",
              "      <td>Black Sea Sprat</td>\n",
              "    </tr>\n",
              "    <tr>\n",
              "      <th>3</th>\n",
              "      <td>/content/drive/MyDrive/01BigData/BigDataProjec...</td>\n",
              "      <td>Black Sea Sprat</td>\n",
              "    </tr>\n",
              "    <tr>\n",
              "      <th>4</th>\n",
              "      <td>/content/drive/MyDrive/01BigData/BigDataProjec...</td>\n",
              "      <td>Black Sea Sprat</td>\n",
              "    </tr>\n",
              "  </tbody>\n",
              "</table>\n",
              "</div>"
            ],
            "text/plain": [
              "                                               image            label\n",
              "0  /content/drive/MyDrive/01BigData/BigDataProjec...  Black Sea Sprat\n",
              "1  /content/drive/MyDrive/01BigData/BigDataProjec...  Black Sea Sprat\n",
              "2  /content/drive/MyDrive/01BigData/BigDataProjec...  Black Sea Sprat\n",
              "3  /content/drive/MyDrive/01BigData/BigDataProjec...  Black Sea Sprat\n",
              "4  /content/drive/MyDrive/01BigData/BigDataProjec...  Black Sea Sprat"
            ]
          },
          "metadata": {},
          "execution_count": 11
        }
      ]
    },
    {
      "cell_type": "code",
      "metadata": {
        "colab": {
          "base_uri": "https://localhost:8080/"
        },
        "id": "1uNs14uLzWsD",
        "outputId": "f0d516b4-bbf2-4d0a-91c5-aeec077abcd3"
      },
      "source": [
        "# Show class images\n",
        "df.label.value_counts()"
      ],
      "execution_count": 12,
      "outputs": [
        {
          "output_type": "execute_result",
          "data": {
            "text/plain": [
              "Red Sea Bream         1000\n",
              "Black Sea Sprat       1000\n",
              "Sea Bass              1000\n",
              "Horse Mackerel        1000\n",
              "Striped Red Mullet    1000\n",
              "Shrimp                1000\n",
              "Gilt Head Bream       1000\n",
              "Trout                 1000\n",
              "Red Mullet            1000\n",
              "Name: label, dtype: int64"
            ]
          },
          "metadata": {},
          "execution_count": 12
        }
      ]
    },
    {
      "cell_type": "code",
      "metadata": {
        "id": "FYaNzjwNzsxL"
      },
      "source": [
        "# Create train, test, validation dataset\n",
        "from sklearn.model_selection import train_test_split"
      ],
      "execution_count": 13,
      "outputs": []
    },
    {
      "cell_type": "code",
      "metadata": {
        "id": "1gnMoHCKz_cB"
      },
      "source": [
        "x_train, x_test = train_test_split(df, test_size=0.3,random_state=30)\n",
        "x_train, x_val = train_test_split(x_train, test_size=0.2, random_state=30)"
      ],
      "execution_count": 14,
      "outputs": []
    },
    {
      "cell_type": "code",
      "metadata": {
        "colab": {
          "base_uri": "https://localhost:8080/"
        },
        "id": "x678IKb20GYJ",
        "outputId": "cba4ed8d-90d4-483b-9db1-8710d7770c0d"
      },
      "source": [
        "print(\"Shape training data\", x_train.shape)\n",
        "print(\"Shape test data\", x_test.shape)\n",
        "print(\"Shape validation data\", x_val.shape)"
      ],
      "execution_count": 15,
      "outputs": [
        {
          "output_type": "stream",
          "name": "stdout",
          "text": [
            "Shape training data (5040, 2)\n",
            "Shape test data (2700, 2)\n",
            "Shape validation data (1260, 2)\n"
          ]
        }
      ]
    },
    {
      "cell_type": "code",
      "metadata": {
        "id": "ysJ95BLd0Q8N"
      },
      "source": [
        "import tensorflow as tf\n",
        "from keras.preprocessing.image import ImageDataGenerator\n",
        "from keras.models import Sequential, Model\n",
        "from keras.layers import Dense, Flatten, Dropout, GlobalAveragePooling2D"
      ],
      "execution_count": 16,
      "outputs": []
    },
    {
      "cell_type": "code",
      "metadata": {
        "colab": {
          "base_uri": "https://localhost:8080/"
        },
        "id": "ZKv9ecIW0XHt",
        "outputId": "fed6cd70-e5ac-4a5a-e6f9-1e306f8a6fae"
      },
      "source": [
        "image_data_generator = ImageDataGenerator(rescale = 1./255,\n",
        "    rotation_range=40,\n",
        "      width_shift_range=0.2,\n",
        "      height_shift_range=0.2,\n",
        "      shear_range=0.2,\n",
        "      zoom_range=0.2,\n",
        "      horizontal_flip=True,\n",
        "      fill_mode='nearest')\n",
        "\n",
        "train = image_data_generator.flow_from_dataframe(dataframe=x_train, x_col='image', y_col='label', target_size=(200,200), color_mode='rgb', class_mode='categorical', shuffle=False)\n",
        "test = image_data_generator.flow_from_dataframe(dataframe=x_test, x_col='image', y_col='label', target_size=(200,200), color_mode='rgb', class_mode='categorical', shuffle=False)\n",
        "val = image_data_generator.flow_from_dataframe(dataframe=x_val, x_col='image', y_col='label', target_size=(200,200), color_mode='rgb', class_mode='categorical',shuffle=False)"
      ],
      "execution_count": 17,
      "outputs": [
        {
          "output_type": "stream",
          "name": "stdout",
          "text": [
            "Found 5040 validated image filenames belonging to 9 classes.\n",
            "Found 2700 validated image filenames belonging to 9 classes.\n",
            "Found 1260 validated image filenames belonging to 9 classes.\n"
          ]
        }
      ]
    },
    {
      "cell_type": "code",
      "metadata": {
        "id": "zdSPVIuN0kTD"
      },
      "source": [
        "# Model definition\n",
        "input_shape = (200, 200, 3)"
      ],
      "execution_count": 18,
      "outputs": []
    },
    {
      "cell_type": "code",
      "metadata": {
        "colab": {
          "base_uri": "https://localhost:8080/"
        },
        "id": "mFEJEU1u0zW6",
        "outputId": "eb6bf618-bea6-4f34-dea7-3ce5cd08cacc"
      },
      "source": [
        "model = tf.keras.models.Sequential([\n",
        "    tf.keras.layers.Conv2D(64, (3,3), activation='relu', input_shape=input_shape ),\n",
        "    tf.keras.layers.MaxPool2D(pool_size = (2,2)),\n",
        "    tf.keras.layers.Conv2D(64, (3,3), activation='relu'),\n",
        "    tf.keras.layers.MaxPool2D(pool_size = (2,2)),\n",
        "    tf.keras.layers.Conv2D(32, (3,3), activation='relu'),\n",
        "    tf.keras.layers.MaxPool2D(pool_size = (2,2)),\n",
        "    tf.keras.layers.Conv2D(32, (3,3), activation='relu'),\n",
        "    tf.keras.layers.MaxPool2D(pool_size = (2,2)),\n",
        "    tf.keras.layers.Flatten(),\n",
        "    tf.keras.layers.Dense(512, activation='relu'),\n",
        "    tf.keras.layers.Dense(128, activation='relu'),\n",
        "    tf.keras.layers.Dropout(0.2),\n",
        "    tf.keras.layers.Dense(128, activation='relu'),\n",
        "    tf.keras.layers.Dropout(0.2),\n",
        "    tf.keras.layers.Dense(9, activation='softmax')\n",
        "])\n",
        "\n",
        "model.summary()"
      ],
      "execution_count": 19,
      "outputs": [
        {
          "output_type": "stream",
          "name": "stdout",
          "text": [
            "Model: \"sequential\"\n",
            "_________________________________________________________________\n",
            " Layer (type)                Output Shape              Param #   \n",
            "=================================================================\n",
            " conv2d (Conv2D)             (None, 198, 198, 64)      1792      \n",
            "                                                                 \n",
            " max_pooling2d (MaxPooling2D  (None, 99, 99, 64)       0         \n",
            " )                                                               \n",
            "                                                                 \n",
            " conv2d_1 (Conv2D)           (None, 97, 97, 64)        36928     \n",
            "                                                                 \n",
            " max_pooling2d_1 (MaxPooling  (None, 48, 48, 64)       0         \n",
            " 2D)                                                             \n",
            "                                                                 \n",
            " conv2d_2 (Conv2D)           (None, 46, 46, 32)        18464     \n",
            "                                                                 \n",
            " max_pooling2d_2 (MaxPooling  (None, 23, 23, 32)       0         \n",
            " 2D)                                                             \n",
            "                                                                 \n",
            " conv2d_3 (Conv2D)           (None, 21, 21, 32)        9248      \n",
            "                                                                 \n",
            " max_pooling2d_3 (MaxPooling  (None, 10, 10, 32)       0         \n",
            " 2D)                                                             \n",
            "                                                                 \n",
            " flatten (Flatten)           (None, 3200)              0         \n",
            "                                                                 \n",
            " dense (Dense)               (None, 512)               1638912   \n",
            "                                                                 \n",
            " dense_1 (Dense)             (None, 128)               65664     \n",
            "                                                                 \n",
            " dropout (Dropout)           (None, 128)               0         \n",
            "                                                                 \n",
            " dense_2 (Dense)             (None, 128)               16512     \n",
            "                                                                 \n",
            " dropout_1 (Dropout)         (None, 128)               0         \n",
            "                                                                 \n",
            " dense_3 (Dense)             (None, 9)                 1161      \n",
            "                                                                 \n",
            "=================================================================\n",
            "Total params: 1,788,681\n",
            "Trainable params: 1,788,681\n",
            "Non-trainable params: 0\n",
            "_________________________________________________________________\n"
          ]
        }
      ]
    },
    {
      "cell_type": "code",
      "metadata": {
        "id": "lgnKZINP03TH"
      },
      "source": [
        "from tensorflow.keras.optimizers import Adam"
      ],
      "execution_count": 20,
      "outputs": []
    },
    {
      "cell_type": "code",
      "metadata": {
        "colab": {
          "base_uri": "https://localhost:8080/"
        },
        "id": "_1KyAevW07jY",
        "outputId": "1439aa7b-047c-414b-c1c8-eda3649afa1d"
      },
      "source": [
        "# Training model\n",
        "model.compile(optimizer=\"adam\", loss='categorical_crossentropy', metrics=[\"accuracy\"])\n",
        "callback = tf.keras.callbacks.EarlyStopping(monitor='accuracy', patience=4)\n",
        "start = time.time()\n",
        "history = model.fit(train, validation_data=val, epochs=20, callbacks=callback)\n",
        "end = time.time()\n",
        "print(\"Elapsed time:\", end - start, \"(segs)\")"
      ],
      "execution_count": 21,
      "outputs": [
        {
          "output_type": "stream",
          "name": "stdout",
          "text": [
            "Epoch 1/20\n",
            "158/158 [==============================] - 1356s 8s/step - loss: 2.1009 - accuracy: 0.1649 - val_loss: 1.8100 - val_accuracy: 0.2508\n",
            "Epoch 2/20\n",
            "158/158 [==============================] - 140s 886ms/step - loss: 1.6452 - accuracy: 0.3127 - val_loss: 1.6558 - val_accuracy: 0.3341\n",
            "Epoch 3/20\n",
            "158/158 [==============================] - 142s 896ms/step - loss: 1.3467 - accuracy: 0.4512 - val_loss: 1.1442 - val_accuracy: 0.5444\n",
            "Epoch 4/20\n",
            "158/158 [==============================] - 140s 887ms/step - loss: 1.0749 - accuracy: 0.5734 - val_loss: 0.8446 - val_accuracy: 0.6675\n",
            "Epoch 5/20\n",
            "158/158 [==============================] - 139s 881ms/step - loss: 0.9196 - accuracy: 0.6452 - val_loss: 0.7229 - val_accuracy: 0.7127\n",
            "Epoch 6/20\n",
            "158/158 [==============================] - 140s 889ms/step - loss: 0.7276 - accuracy: 0.7175 - val_loss: 0.6844 - val_accuracy: 0.7198\n",
            "Epoch 7/20\n",
            "158/158 [==============================] - 140s 889ms/step - loss: 0.6119 - accuracy: 0.7712 - val_loss: 0.4503 - val_accuracy: 0.8254\n",
            "Epoch 8/20\n",
            "158/158 [==============================] - 141s 891ms/step - loss: 0.4900 - accuracy: 0.8155 - val_loss: 0.4472 - val_accuracy: 0.8310\n",
            "Epoch 9/20\n",
            "158/158 [==============================] - 139s 882ms/step - loss: 0.4450 - accuracy: 0.8345 - val_loss: 0.6156 - val_accuracy: 0.7579\n",
            "Epoch 10/20\n",
            "158/158 [==============================] - 140s 884ms/step - loss: 0.4195 - accuracy: 0.8532 - val_loss: 0.3930 - val_accuracy: 0.8413\n",
            "Epoch 11/20\n",
            "158/158 [==============================] - 141s 891ms/step - loss: 0.4174 - accuracy: 0.8464 - val_loss: 0.3743 - val_accuracy: 0.8540\n",
            "Epoch 12/20\n",
            "158/158 [==============================] - 141s 890ms/step - loss: 0.3842 - accuracy: 0.8552 - val_loss: 0.3569 - val_accuracy: 0.8579\n",
            "Epoch 13/20\n",
            "158/158 [==============================] - 141s 895ms/step - loss: 0.3503 - accuracy: 0.8690 - val_loss: 0.3090 - val_accuracy: 0.8817\n",
            "Epoch 14/20\n",
            "158/158 [==============================] - 142s 897ms/step - loss: 0.3221 - accuracy: 0.8784 - val_loss: 0.2385 - val_accuracy: 0.9087\n",
            "Epoch 15/20\n",
            "158/158 [==============================] - 141s 896ms/step - loss: 0.2954 - accuracy: 0.8937 - val_loss: 0.2777 - val_accuracy: 0.8968\n",
            "Epoch 16/20\n",
            "158/158 [==============================] - 142s 899ms/step - loss: 0.2991 - accuracy: 0.8923 - val_loss: 0.3236 - val_accuracy: 0.8722\n",
            "Epoch 17/20\n",
            "158/158 [==============================] - 139s 882ms/step - loss: 0.2672 - accuracy: 0.9010 - val_loss: 0.3600 - val_accuracy: 0.8556\n",
            "Epoch 18/20\n",
            "158/158 [==============================] - 141s 890ms/step - loss: 0.2739 - accuracy: 0.9026 - val_loss: 0.2340 - val_accuracy: 0.9103\n",
            "Epoch 19/20\n",
            "158/158 [==============================] - 139s 881ms/step - loss: 0.2399 - accuracy: 0.9109 - val_loss: 0.2043 - val_accuracy: 0.9222\n",
            "Epoch 20/20\n",
            "158/158 [==============================] - 139s 879ms/step - loss: 0.2287 - accuracy: 0.9185 - val_loss: 0.1793 - val_accuracy: 0.9357\n",
            "Elapsed time: 4034.459448814392 (segs)\n"
          ]
        }
      ]
    },
    {
      "cell_type": "code",
      "metadata": {
        "id": "7We7uhvtXpBu"
      },
      "source": [
        "# Save model\n",
        "model.save('/content/drive/MyDrive/01BigData/BigDataProject/model-pillow-1000-200-200-20epochs.h5')"
      ],
      "execution_count": 22,
      "outputs": []
    },
    {
      "cell_type": "code",
      "metadata": {
        "id": "29zHVy1rYUs9"
      },
      "source": [
        "# Verify model performance \n",
        "accuracy = history.history['accuracy']\n",
        "val_accuracy  = history.history['val_accuracy']\n",
        "\n",
        "loss = history.history['loss']\n",
        "val_loss = history.history['val_loss']"
      ],
      "execution_count": 23,
      "outputs": []
    },
    {
      "cell_type": "code",
      "metadata": {
        "colab": {
          "base_uri": "https://localhost:8080/",
          "height": 311
        },
        "id": "_WR59nOUYZxj",
        "outputId": "df8a9487-478d-41f9-b7c2-92bdbc2c6ba2"
      },
      "source": [
        "import matplotlib.pyplot as plt\n",
        "\n",
        "plt.figure(figsize=(15,10))\n",
        "\n",
        "plt.subplot(2, 2, 1)\n",
        "plt.plot(accuracy, label = \"Training accuracy\")\n",
        "plt.plot(val_accuracy, label=\"Validation accuracy\")\n",
        "plt.legend()\n",
        "plt.title(\"Training vs validation accuracy\")\n",
        "\n",
        "plt.subplot(2,2,2)\n",
        "plt.plot(loss, label = \"Training loss\")\n",
        "plt.plot(val_loss, label=\"Validation loss\")\n",
        "plt.legend()\n",
        "plt.title(\"Training vs validation loss\")\n",
        "\n",
        "plt.show()"
      ],
      "execution_count": 24,
      "outputs": [
        {
          "output_type": "display_data",
          "data": {
            "image/png": "[encoded data removed]",
            "text/plain": [
              "<Figure size 1080x720 with 2 Axes>"
            ]
          },
          "metadata": {
            "needs_background": "light"
          }
        }
      ]
    },
    {
      "cell_type": "code",
      "source": [
        "test_accuracy = model.evaluate(test)[1]"
      ],
      "metadata": {
        "id": "WYDlF2nYMBWu",
        "colab": {
          "base_uri": "https://localhost:8080/"
        },
        "outputId": "ff15ae5e-630f-4f4b-d3f3-a303d5ff763d"
      },
      "execution_count": 25,
      "outputs": [
        {
          "output_type": "stream",
          "name": "stdout",
          "text": [
            "85/85 [==============================] - 666s 8s/step - loss: 0.2040 - accuracy: 0.9256\n"
          ]
        }
      ]
    }
  ]
}