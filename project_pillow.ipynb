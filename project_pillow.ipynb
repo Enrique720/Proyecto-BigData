{
  "nbformat": 4,
  "nbformat_minor": 0,
  "metadata": {
    "colab": {
      "name": "project_pillow.ipynb",
      "provenance": []
    },
    "kernelspec": {
      "name": "python3",
      "display_name": "Python 3"
    },
    "language_info": {
      "name": "python"
    }
  },
  "cells": [
    {
      "cell_type": "markdown",
      "metadata": {
        "id": "rUZJubrpv65G"
      },
      "source": [
        "## Preprocesamiento"
      ]
    },
    {
      "cell_type": "code",
      "metadata": {
        "id": "Y5g_c6EtpTcZ"
      },
      "source": [
        "import os\n",
        "import shutil\n",
        "from PIL import Image\n",
        "from numpy import asarray, remainder"
      ],
      "execution_count": 1,
      "outputs": []
    },
    {
      "cell_type": "code",
      "metadata": {
        "colab": {
          "base_uri": "https://localhost:8080/"
        },
        "id": "npF0Qqz0si1q",
        "outputId": "74e28cb4-efbf-40c6-9867-7bacc2053023"
      },
      "source": [
        "from google.colab import drive\n",
        "drive.mount('/content/drive')"
      ],
      "execution_count": 2,
      "outputs": [
        {
          "output_type": "stream",
          "name": "stdout",
          "text": [
            "Mounted at /content/drive\n"
          ]
        }
      ]
    },
    {
      "cell_type": "code",
      "metadata": {
        "id": "Z6ewt0lftAVO"
      },
      "source": [
        "work_dir = '/content/drive/MyDrive/01BigData/BigDataProject'\n",
        "src_dataset_dir = 'test_dataset'\n",
        "aug_dataset_dir = 'test_augmented_dataset/pillow'\n",
        "list_species = ['Black Sea Sprat', 'Gilt Head Bream', 'Horse Mackerel',\n",
        "                'Red Mullet', 'Red Sea Bream', 'Sea Bass', 'Shrimp', 'Striped Red Mullet', 'Trout']"
      ],
      "execution_count": 12,
      "outputs": []
    },
    {
      "cell_type": "code",
      "metadata": {
        "id": "y4lhH3lwshJY"
      },
      "source": [
        "def clean_create_workspace():\n",
        "    print(\"*** Clean_Create_Workspace ***\")\n",
        "    print(\"-- Delete previous directories --\")\n",
        "    for directory in list_species:\n",
        "        try:\n",
        "            dir_path = os.path.join(work_dir, aug_dataset_dir, directory)\n",
        "            shutil.rmtree(dir_path)\n",
        "            print(\"Directory successfully deleted:\", dir_path)\n",
        "        except OSError as e:\n",
        "            print(\"OS msg:\", e.strerror)\n",
        "\n",
        "    print(\"-- Create directories --\")\n",
        "    for directory in list_species:\n",
        "        dir_path = os.path.join(work_dir, aug_dataset_dir, directory)\n",
        "        os.mkdir(dir_path)\n",
        "        print(\"Directory successfully created:\", dir_path)"
      ],
      "execution_count": 4,
      "outputs": []
    },
    {
      "cell_type": "code",
      "metadata": {
        "id": "dFR4kP1RwI2T"
      },
      "source": [
        "# Helper function: usada para numerar los archivos aumentados\n",
        "# Input: un numero tipo int\n",
        "# Return: un numero tipo string\n",
        "def convert_num_string(num):\n",
        "    len_final_str = 5\n",
        "    num_str = str(num)\n",
        "    remainder = len_final_str - len(num_str)\n",
        "    ans = remainder * '0' + num_str  # Eg.  ans = '00012'\n",
        "    return ans"
      ],
      "execution_count": 9,
      "outputs": []
    },
    {
      "cell_type": "code",
      "metadata": {
        "id": "AUmig0DIwd4z"
      },
      "source": [
        "# Funcion que realiza augmentation de data: Resize(590, 445)px, rotation, flip\n",
        "# Input: recibe la lista de especies 'list_spacies' y un factor 'n'\n",
        "# Output: realiza un aumento de fotos de tamaño = #fotos_raw_data * n\n",
        "def augmentation_data(list_species, n):\n",
        "  print(\"*** Augmentation_Data ***\")\n",
        "  for specie in list_species:\n",
        "    src_dir = os.path.join(work_dir, src_dataset_dir, specie)\n",
        "    dest_dataset_dir = os.path.join(work_dir, aug_dataset_dir, specie)\n",
        "    num_file = 1\n",
        "    for filename in os.listdir(src_dir):\n",
        "      # load image\n",
        "      pic_path = src_dir + \"/\" + filename\n",
        "      print(\"\\nProcessing picture:\", pic_path)\n",
        "      image = Image.open(pic_path)\n",
        "      # Resize Image\n",
        "      print('> Original size: %s %s' % (image.size))\n",
        "      image.thumbnail((590, 445))\n",
        "      print('> Final size: %s %s' % (image.size))\n",
        "      # Por cada iteracion genera 2 transformaciones del archivo\n",
        "      num_iter = n + 1 if (n % 2 > 0) else n\n",
        "      num_iter = int(num_iter / 2)\n",
        "      for i in range(num_iter):\n",
        "        # Transformation #1: Flip image\n",
        "        img_transformed = image.transpose(Image.FLIP_LEFT_RIGHT)\n",
        "        # Save flipped image\n",
        "        format_file = filename.split('.')[1]\n",
        "        num_pic_file = convert_num_string(num_file)\n",
        "        dest_path_file = dest_dataset_dir + \"/\" + num_pic_file + \".\" + format_file\n",
        "        print(\"save file: \", dest_path_file)\n",
        "        img_transformed.save(dest_path_file)\n",
        "        # Transformation #2: rotation\n",
        "        img_transformed = img_transformed.rotate(25 * (i + 1))\n",
        "        # Save rotated image\n",
        "        num_file += 1\n",
        "        num_pic_file = convert_num_string(num_file)\n",
        "        dest_path_file = dest_dataset_dir + \"/\" + num_pic_file + \".\" + format_file\n",
        "        img_transformed.save(dest_path_file)\n",
        "        print(\"save file: \", dest_path_file)\n",
        "        num_file += 1"
      ],
      "execution_count": 10,
      "outputs": []
    },
    {
      "cell_type": "markdown",
      "metadata": {
        "id": "6Brk52YxyH4P"
      },
      "source": [
        "## Main Workflow Execution"
      ]
    },
    {
      "cell_type": "code",
      "metadata": {
        "colab": {
          "base_uri": "https://localhost:8080/"
        },
        "id": "RXpiby1tva1E",
        "outputId": "58fb5912-a682-4222-ac03-14f441373359"
      },
      "source": [
        "# Clean destination directory\n",
        "clean_create_workspace()"
      ],
      "execution_count": 15,
      "outputs": [
        {
          "output_type": "stream",
          "name": "stdout",
          "text": [
            "*** Clean_Create_Workspace ***\n",
            "-- Delete previous directories --\n",
            "Directory successfully deleted: /content/drive/MyDrive/01BigData/BigDataProject/test_augmented_dataset/pillow/Black Sea Sprat\n",
            "Directory successfully deleted: /content/drive/MyDrive/01BigData/BigDataProject/test_augmented_dataset/pillow/Gilt Head Bream\n",
            "Directory successfully deleted: /content/drive/MyDrive/01BigData/BigDataProject/test_augmented_dataset/pillow/Horse Mackerel\n",
            "Directory successfully deleted: /content/drive/MyDrive/01BigData/BigDataProject/test_augmented_dataset/pillow/Red Mullet\n",
            "Directory successfully deleted: /content/drive/MyDrive/01BigData/BigDataProject/test_augmented_dataset/pillow/Red Sea Bream\n",
            "Directory successfully deleted: /content/drive/MyDrive/01BigData/BigDataProject/test_augmented_dataset/pillow/Sea Bass\n",
            "Directory successfully deleted: /content/drive/MyDrive/01BigData/BigDataProject/test_augmented_dataset/pillow/Shrimp\n",
            "Directory successfully deleted: /content/drive/MyDrive/01BigData/BigDataProject/test_augmented_dataset/pillow/Striped Red Mullet\n",
            "Directory successfully deleted: /content/drive/MyDrive/01BigData/BigDataProject/test_augmented_dataset/pillow/Trout\n",
            "-- Create directories --\n",
            "Directory successfully created: /content/drive/MyDrive/01BigData/BigDataProject/test_augmented_dataset/pillow/Black Sea Sprat\n",
            "Directory successfully created: /content/drive/MyDrive/01BigData/BigDataProject/test_augmented_dataset/pillow/Gilt Head Bream\n",
            "Directory successfully created: /content/drive/MyDrive/01BigData/BigDataProject/test_augmented_dataset/pillow/Horse Mackerel\n",
            "Directory successfully created: /content/drive/MyDrive/01BigData/BigDataProject/test_augmented_dataset/pillow/Red Mullet\n",
            "Directory successfully created: /content/drive/MyDrive/01BigData/BigDataProject/test_augmented_dataset/pillow/Red Sea Bream\n",
            "Directory successfully created: /content/drive/MyDrive/01BigData/BigDataProject/test_augmented_dataset/pillow/Sea Bass\n",
            "Directory successfully created: /content/drive/MyDrive/01BigData/BigDataProject/test_augmented_dataset/pillow/Shrimp\n",
            "Directory successfully created: /content/drive/MyDrive/01BigData/BigDataProject/test_augmented_dataset/pillow/Striped Red Mullet\n",
            "Directory successfully created: /content/drive/MyDrive/01BigData/BigDataProject/test_augmented_dataset/pillow/Trout\n"
          ]
        }
      ]
    },
    {
      "cell_type": "code",
      "metadata": {
        "colab": {
          "base_uri": "https://localhost:8080/"
        },
        "id": "p6WE3VgKwHQ5",
        "outputId": "7225606c-bcc8-44c7-907d-c3bd4d621581"
      },
      "source": [
        "# Execute Augmentation\n",
        "list_species_test = ['Black Sea Sprat', 'Gilt Head Bream', 'Horse Mackerel']\n",
        "# Duplica el tamaño del dataset original para la lista de especies\n",
        "n = 4\n",
        "augmentation_data(list_species_test, n)  "
      ],
      "execution_count": 16,
      "outputs": [
        {
          "output_type": "stream",
          "name": "stdout",
          "text": [
            "*** Augmentation_Data ***\n",
            "\n",
            "Processing picture: /content/drive/MyDrive/01BigData/BigDataProject/test_dataset/Black Sea Sprat/00001.png\n",
            "> Original size: 1024 768\n",
            "> Final size: 590 443\n",
            "save file:  /content/drive/MyDrive/01BigData/BigDataProject/test_augmented_dataset/pillow/Black Sea Sprat/00001.png\n",
            "save file:  /content/drive/MyDrive/01BigData/BigDataProject/test_augmented_dataset/pillow/Black Sea Sprat/00002.png\n",
            "save file:  /content/drive/MyDrive/01BigData/BigDataProject/test_augmented_dataset/pillow/Black Sea Sprat/00003.png\n",
            "save file:  /content/drive/MyDrive/01BigData/BigDataProject/test_augmented_dataset/pillow/Black Sea Sprat/00004.png\n",
            "\n",
            "Processing picture: /content/drive/MyDrive/01BigData/BigDataProject/test_dataset/Black Sea Sprat/00002.png\n",
            "> Original size: 1024 768\n",
            "> Final size: 590 443\n",
            "save file:  /content/drive/MyDrive/01BigData/BigDataProject/test_augmented_dataset/pillow/Black Sea Sprat/00005.png\n",
            "save file:  /content/drive/MyDrive/01BigData/BigDataProject/test_augmented_dataset/pillow/Black Sea Sprat/00006.png\n",
            "save file:  /content/drive/MyDrive/01BigData/BigDataProject/test_augmented_dataset/pillow/Black Sea Sprat/00007.png\n",
            "save file:  /content/drive/MyDrive/01BigData/BigDataProject/test_augmented_dataset/pillow/Black Sea Sprat/00008.png\n",
            "\n",
            "Processing picture: /content/drive/MyDrive/01BigData/BigDataProject/test_dataset/Gilt Head Bream/1.jpeg\n",
            "> Original size: 2832 2128\n",
            "> Final size: 590 443\n",
            "save file:  /content/drive/MyDrive/01BigData/BigDataProject/test_augmented_dataset/pillow/Gilt Head Bream/00001.jpeg\n",
            "save file:  /content/drive/MyDrive/01BigData/BigDataProject/test_augmented_dataset/pillow/Gilt Head Bream/00002.jpeg\n",
            "save file:  /content/drive/MyDrive/01BigData/BigDataProject/test_augmented_dataset/pillow/Gilt Head Bream/00003.jpeg\n",
            "save file:  /content/drive/MyDrive/01BigData/BigDataProject/test_augmented_dataset/pillow/Gilt Head Bream/00004.jpeg\n",
            "\n",
            "Processing picture: /content/drive/MyDrive/01BigData/BigDataProject/test_dataset/Gilt Head Bream/2.jpeg\n",
            "> Original size: 2832 2128\n",
            "> Final size: 590 443\n",
            "save file:  /content/drive/MyDrive/01BigData/BigDataProject/test_augmented_dataset/pillow/Gilt Head Bream/00005.jpeg\n",
            "save file:  /content/drive/MyDrive/01BigData/BigDataProject/test_augmented_dataset/pillow/Gilt Head Bream/00006.jpeg\n",
            "save file:  /content/drive/MyDrive/01BigData/BigDataProject/test_augmented_dataset/pillow/Gilt Head Bream/00007.jpeg\n",
            "save file:  /content/drive/MyDrive/01BigData/BigDataProject/test_augmented_dataset/pillow/Gilt Head Bream/00008.jpeg\n",
            "\n",
            "Processing picture: /content/drive/MyDrive/01BigData/BigDataProject/test_dataset/Horse Mackerel/00001.png\n",
            "> Original size: 2832 2128\n",
            "> Final size: 590 443\n",
            "save file:  /content/drive/MyDrive/01BigData/BigDataProject/test_augmented_dataset/pillow/Horse Mackerel/00001.png\n",
            "save file:  /content/drive/MyDrive/01BigData/BigDataProject/test_augmented_dataset/pillow/Horse Mackerel/00002.png\n",
            "save file:  /content/drive/MyDrive/01BigData/BigDataProject/test_augmented_dataset/pillow/Horse Mackerel/00003.png\n",
            "save file:  /content/drive/MyDrive/01BigData/BigDataProject/test_augmented_dataset/pillow/Horse Mackerel/00004.png\n",
            "\n",
            "Processing picture: /content/drive/MyDrive/01BigData/BigDataProject/test_dataset/Horse Mackerel/00002.png\n",
            "> Original size: 2832 2128\n",
            "> Final size: 590 443\n",
            "save file:  /content/drive/MyDrive/01BigData/BigDataProject/test_augmented_dataset/pillow/Horse Mackerel/00005.png\n",
            "save file:  /content/drive/MyDrive/01BigData/BigDataProject/test_augmented_dataset/pillow/Horse Mackerel/00006.png\n",
            "save file:  /content/drive/MyDrive/01BigData/BigDataProject/test_augmented_dataset/pillow/Horse Mackerel/00007.png\n",
            "save file:  /content/drive/MyDrive/01BigData/BigDataProject/test_augmented_dataset/pillow/Horse Mackerel/00008.png\n"
          ]
        }
      ]
    }
  ]
}