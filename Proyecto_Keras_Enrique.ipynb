{
  "nbformat": 4,
  "nbformat_minor": 0,
  "metadata": {
    "colab": {
      "name": "Proyecto_ENRIQUE.ipynb",
      "provenance": [],
      "include_colab_link": true
    },
    "kernelspec": {
      "name": "python3",
      "display_name": "Python 3"
    },
    "language_info": {
      "name": "python"
    },
    "accelerator": "GPU"
  },
  "cells": [
    {
      "cell_type": "markdown",
      "metadata": {
        "id": "view-in-github",
        "colab_type": "text"
      },
      "source": [
        "<a href=\"https://colab.research.google.com/github/Enrique720/Proyecto-BigData/blob/main/Proyecto_ENRIQUE.ipynb\" target=\"_parent\"><img src=\"https://colab.research.google.com/assets/colab-badge.svg\" alt=\"Open In Colab\"/></a>"
      ]
    },
    {
      "cell_type": "markdown",
      "metadata": {
        "id": "7tAMhU_OPUtz"
      },
      "source": [
        "##Preprocesamiento -- keras \n",
        "\n"
      ]
    },
    {
      "cell_type": "code",
      "metadata": {
        "colab": {
          "base_uri": "https://localhost:8080/"
        },
        "id": "v-7uRrt5PS61",
        "outputId": "81e37636-dd9a-4fd5-a1f7-c080592cc0d2"
      },
      "source": [
        "from google.colab import drive\n",
        "drive.mount('/content/drive')"
      ],
      "execution_count": 2,
      "outputs": [
        {
          "output_type": "stream",
          "name": "stdout",
          "text": [
            "Mounted at /content/drive\n"
          ]
        }
      ]
    },
    {
      "cell_type": "code",
      "metadata": {
        "id": "86Qvihs4PtQ-"
      },
      "source": [
        "from pathlib import Path\n",
        "import os\n",
        "import pandas as pd\n",
        "\n",
        "path = '/content/drive/MyDrive/Colab Notebooks/BigData/BigDataProject/RAW_FISH_DATASET' #URL Enrique\n",
        "\n",
        "dataset_path = Path(path)\n",
        "\n",
        "file_path = list(dataset_path.glob(r'**/*.png'))\n",
        "file_path_jpg = list(dataset_path.glob(r'**/*.JPG'))\n",
        "\n",
        "file_path = [*file_path, *file_path_jpg]\n",
        "\n",
        "# create labels from the folder name\n",
        "labels = list(map(lambda x: os.path.split(os.path.split(x)[0])[1], file_path))"
      ],
      "execution_count": 8,
      "outputs": []
    },
    {
      "cell_type": "code",
      "metadata": {
        "colab": {
          "base_uri": "https://localhost:8080/",
          "height": 204
        },
        "id": "I7EHn9oHdUMc",
        "outputId": "3f665c4b-5cf9-4d64-c647-913028efcb36"
      },
      "source": [
        "file_path = pd.Series(file_path).astype(str)\n",
        "labels = pd.Series(labels)\n",
        "\n",
        "df = pd.concat([file_path, labels], axis=1)\n",
        "\n",
        "df.columns = ['image', 'label']\n",
        "\n",
        "df.head()"
      ],
      "execution_count": 19,
      "outputs": [
        {
          "output_type": "execute_result",
          "data": {
            "text/html": [
              "<div>\n",
              "<style scoped>\n",
              "    .dataframe tbody tr th:only-of-type {\n",
              "        vertical-align: middle;\n",
              "    }\n",
              "\n",
              "    .dataframe tbody tr th {\n",
              "        vertical-align: top;\n",
              "    }\n",
              "\n",
              "    .dataframe thead th {\n",
              "        text-align: right;\n",
              "    }\n",
              "</style>\n",
              "<table border=\"1\" class=\"dataframe\">\n",
              "  <thead>\n",
              "    <tr style=\"text-align: right;\">\n",
              "      <th></th>\n",
              "      <th>image</th>\n",
              "      <th>label</th>\n",
              "    </tr>\n",
              "  </thead>\n",
              "  <tbody>\n",
              "    <tr>\n",
              "      <th>0</th>\n",
              "      <td>/content/drive/MyDrive/Colab Notebooks/BigData...</td>\n",
              "      <td>Horse Mackerel</td>\n",
              "    </tr>\n",
              "    <tr>\n",
              "      <th>1</th>\n",
              "      <td>/content/drive/MyDrive/Colab Notebooks/BigData...</td>\n",
              "      <td>Horse Mackerel</td>\n",
              "    </tr>\n",
              "    <tr>\n",
              "      <th>2</th>\n",
              "      <td>/content/drive/MyDrive/Colab Notebooks/BigData...</td>\n",
              "      <td>Horse Mackerel</td>\n",
              "    </tr>\n",
              "    <tr>\n",
              "      <th>3</th>\n",
              "      <td>/content/drive/MyDrive/Colab Notebooks/BigData...</td>\n",
              "      <td>Horse Mackerel</td>\n",
              "    </tr>\n",
              "    <tr>\n",
              "      <th>4</th>\n",
              "      <td>/content/drive/MyDrive/Colab Notebooks/BigData...</td>\n",
              "      <td>Horse Mackerel</td>\n",
              "    </tr>\n",
              "  </tbody>\n",
              "</table>\n",
              "</div>"
            ],
            "text/plain": [
              "                                               image           label\n",
              "0  /content/drive/MyDrive/Colab Notebooks/BigData...  Horse Mackerel\n",
              "1  /content/drive/MyDrive/Colab Notebooks/BigData...  Horse Mackerel\n",
              "2  /content/drive/MyDrive/Colab Notebooks/BigData...  Horse Mackerel\n",
              "3  /content/drive/MyDrive/Colab Notebooks/BigData...  Horse Mackerel\n",
              "4  /content/drive/MyDrive/Colab Notebooks/BigData...  Horse Mackerel"
            ]
          },
          "metadata": {},
          "execution_count": 19
        }
      ]
    },
    {
      "cell_type": "code",
      "metadata": {
        "colab": {
          "base_uri": "https://localhost:8080/"
        },
        "id": "Gm7Rua1hprPT",
        "outputId": "bfc484b9-4793-43dd-f997-7ed95deef3bc"
      },
      "source": [
        "df_1 = df[df['label'] == 'Horse Mackerel']\n",
        "df_2 = df[df['label'] == 'Gilt Head Bream']\n",
        "df_3 = df[df['label'] == 'Red Mullet']\n",
        "df_4 = df[df['label'] == 'Black Sea Sprat']\n",
        "df_5 = df[df['label'] == 'Striped Red Mullet']\n",
        "df_6 = df[df['label'] == 'Trout']\n",
        "df_7 = df[df['label'] == 'Shrimp']\n",
        "df_8 = df[df['label'] == 'Sea Bass']\n",
        "df_9 = df[df['label'] == 'Red Sea Bream']\n",
        "names= ['Horse Mackerel','Gilt Head Bream','Red Mullet','Black Sea Sprat','Striped Red Mullet','Trout','Shrimp','Sea Bass','Red Sea Bream']\n",
        "dataframes = [df_1, df_2, df_3, df_4, df_5, df_6, df_7, df_8, df_9]"
      ],
      "execution_count": 20,
      "outputs": [
        {
          "output_type": "stream",
          "name": "stdout",
          "text": [
            "['Horse Mackerel' 'Gilt Head Bream' 'Red Mullet' 'Black Sea Sprat'\n",
            " 'Striped Red Mullet' 'Trout' 'Shrimp' 'Sea Bass' 'Red Sea Bream']\n"
          ]
        }
      ]
    },
    {
      "cell_type": "code",
      "metadata": {
        "id": "auf5Z_-4fHVh"
      },
      "source": [
        "from numpy import expand_dims\n",
        "from keras.preprocessing.image import load_img\n",
        "from keras.preprocessing.image import img_to_array\n",
        "from keras.preprocessing.image import ImageDataGenerator\n",
        "from matplotlib import pyplot"
      ],
      "execution_count": 7,
      "outputs": []
    },
    {
      "cell_type": "code",
      "metadata": {
        "colab": {
          "base_uri": "https://localhost:8080/"
        },
        "id": "GJMxCKwubiTZ",
        "outputId": "dbdd777d-6afc-42c9-d4e7-1916e2d0651a"
      },
      "source": [
        "type(file_path[0])"
      ],
      "execution_count": 15,
      "outputs": [
        {
          "output_type": "execute_result",
          "data": {
            "text/plain": [
              "str"
            ]
          },
          "metadata": {},
          "execution_count": 15
        }
      ]
    },
    {
      "cell_type": "code",
      "metadata": {
        "id": "tjI0DsGvWrWS"
      },
      "source": [
        "datagen = ImageDataGenerator(rescale = 1./255,\n",
        "      rotation_range=40,\n",
        "      width_shift_range=0.2,\n",
        "      height_shift_range=0.2,\n",
        "      shear_range=0.2,\n",
        "      zoom_range=0.2,\n",
        "      horizontal_flip=True,\n",
        "      fill_mode='nearest')"
      ],
      "execution_count": 22,
      "outputs": []
    },
    {
      "cell_type": "code",
      "metadata": {
        "colab": {
          "base_uri": "https://localhost:8080/"
        },
        "id": "21fwZ7PbuWfB",
        "outputId": "ce1efefa-baa5-4036-ae7f-2619adc4a787"
      },
      "source": [
        "for dataframe_, name in zip(dataframes, names):\n",
        "  s_path = \"/content/drive/MyDrive/Colab Notebooks/BigData/BigDataProject/AUGMENTED DATASET/KERAS/\" + name + \"/\"\n",
        "  print(s_path)\n",
        "  i = 0\n",
        "  for batch in datagen.flow_from_dataframe(dataframe=dataframe_, x_col=\"image\", y_col=\"label\", target_size=(445,590) #(590,445) \n",
        "   , save_to_dir=s_path, batch_size=25):\n",
        "    i += 1\n",
        "    if i == 40:\n",
        "      break"
      ],
      "execution_count": 23,
      "outputs": [
        {
          "output_type": "stream",
          "name": "stdout",
          "text": [
            "/content/drive/MyDrive/Colab Notebooks/BigData/BigDataProject/AUGMENTED DATASET/KERAS/Horse Mackerel/\n",
            "Found 50 validated image filenames belonging to 1 classes.\n",
            "/content/drive/MyDrive/Colab Notebooks/BigData/BigDataProject/AUGMENTED DATASET/KERAS/Gilt Head Bream/\n",
            "Found 50 validated image filenames belonging to 1 classes.\n",
            "/content/drive/MyDrive/Colab Notebooks/BigData/BigDataProject/AUGMENTED DATASET/KERAS/Red Mullet/\n",
            "Found 50 validated image filenames belonging to 1 classes.\n",
            "/content/drive/MyDrive/Colab Notebooks/BigData/BigDataProject/AUGMENTED DATASET/KERAS/Black Sea Sprat/\n",
            "Found 50 validated image filenames belonging to 1 classes.\n",
            "/content/drive/MyDrive/Colab Notebooks/BigData/BigDataProject/AUGMENTED DATASET/KERAS/Striped Red Mullet/\n",
            "Found 50 validated image filenames belonging to 1 classes.\n",
            "/content/drive/MyDrive/Colab Notebooks/BigData/BigDataProject/AUGMENTED DATASET/KERAS/Trout/\n",
            "Found 30 validated image filenames belonging to 1 classes.\n",
            "/content/drive/MyDrive/Colab Notebooks/BigData/BigDataProject/AUGMENTED DATASET/KERAS/Shrimp/\n",
            "Found 50 validated image filenames belonging to 1 classes.\n",
            "/content/drive/MyDrive/Colab Notebooks/BigData/BigDataProject/AUGMENTED DATASET/KERAS/Sea Bass/\n",
            "Found 50 validated image filenames belonging to 1 classes.\n",
            "/content/drive/MyDrive/Colab Notebooks/BigData/BigDataProject/AUGMENTED DATASET/KERAS/Red Sea Bream/\n",
            "Found 49 validated image filenames belonging to 1 classes.\n"
          ]
        }
      ]
    },
    {
      "cell_type": "markdown",
      "metadata": {
        "id": "5P2KJEotCbR0"
      },
      "source": [
        "#Model Training"
      ]
    },
    {
      "cell_type": "code",
      "metadata": {
        "id": "s0GCPTJxBEDa"
      },
      "source": [
        "from sklearn.model_selection import train_test_split\n"
      ],
      "execution_count": 3,
      "outputs": []
    },
    {
      "cell_type": "code",
      "metadata": {
        "id": "3sqoitX_9y7P"
      },
      "source": [
        "input_shape = (445, 590, 3) # 200, 200, 3"
      ],
      "execution_count": 4,
      "outputs": []
    },
    {
      "cell_type": "markdown",
      "metadata": {
        "id": "wDFWCo3M-zY5"
      },
      "source": [
        "#### Read Data Augmented:"
      ]
    },
    {
      "cell_type": "code",
      "metadata": {
        "colab": {
          "base_uri": "https://localhost:8080/",
          "height": 204
        },
        "id": "DGPLww13_bAd",
        "outputId": "a0f02503-71b1-4e92-cbc1-49ed0d209fd3"
      },
      "source": [
        "dataset_path = Path(r'/content/drive/MyDrive/Colab Notebooks/BigData/BigDataProject/AUGMENTED DATASET/KERAS')\n",
        "\n",
        "file_path = list(dataset_path.glob(r'**/*.png'))\n",
        "\n",
        "# create labels from the folder name\n",
        "labels = list(map(lambda x: os.path.split(os.path.split(x)[0])[1], file_path))\n",
        "file_path = pd.Series(file_path).astype(str)\n",
        "labels = pd.Series(labels)\n",
        "\n",
        "df = pd.concat([file_path, labels], axis=1)\n",
        "\n",
        "df.columns = ['image', 'label']\n",
        "\n",
        "df.head()"
      ],
      "execution_count": 9,
      "outputs": [
        {
          "output_type": "execute_result",
          "data": {
            "text/html": [
              "<div>\n",
              "<style scoped>\n",
              "    .dataframe tbody tr th:only-of-type {\n",
              "        vertical-align: middle;\n",
              "    }\n",
              "\n",
              "    .dataframe tbody tr th {\n",
              "        vertical-align: top;\n",
              "    }\n",
              "\n",
              "    .dataframe thead th {\n",
              "        text-align: right;\n",
              "    }\n",
              "</style>\n",
              "<table border=\"1\" class=\"dataframe\">\n",
              "  <thead>\n",
              "    <tr style=\"text-align: right;\">\n",
              "      <th></th>\n",
              "      <th>image</th>\n",
              "      <th>label</th>\n",
              "    </tr>\n",
              "  </thead>\n",
              "  <tbody>\n",
              "    <tr>\n",
              "      <th>0</th>\n",
              "      <td>/content/drive/MyDrive/Colab Notebooks/BigData...</td>\n",
              "      <td>Horse Mackerel</td>\n",
              "    </tr>\n",
              "    <tr>\n",
              "      <th>1</th>\n",
              "      <td>/content/drive/MyDrive/Colab Notebooks/BigData...</td>\n",
              "      <td>Horse Mackerel</td>\n",
              "    </tr>\n",
              "    <tr>\n",
              "      <th>2</th>\n",
              "      <td>/content/drive/MyDrive/Colab Notebooks/BigData...</td>\n",
              "      <td>Horse Mackerel</td>\n",
              "    </tr>\n",
              "    <tr>\n",
              "      <th>3</th>\n",
              "      <td>/content/drive/MyDrive/Colab Notebooks/BigData...</td>\n",
              "      <td>Horse Mackerel</td>\n",
              "    </tr>\n",
              "    <tr>\n",
              "      <th>4</th>\n",
              "      <td>/content/drive/MyDrive/Colab Notebooks/BigData...</td>\n",
              "      <td>Horse Mackerel</td>\n",
              "    </tr>\n",
              "  </tbody>\n",
              "</table>\n",
              "</div>"
            ],
            "text/plain": [
              "                                               image           label\n",
              "0  /content/drive/MyDrive/Colab Notebooks/BigData...  Horse Mackerel\n",
              "1  /content/drive/MyDrive/Colab Notebooks/BigData...  Horse Mackerel\n",
              "2  /content/drive/MyDrive/Colab Notebooks/BigData...  Horse Mackerel\n",
              "3  /content/drive/MyDrive/Colab Notebooks/BigData...  Horse Mackerel\n",
              "4  /content/drive/MyDrive/Colab Notebooks/BigData...  Horse Mackerel"
            ]
          },
          "metadata": {},
          "execution_count": 9
        }
      ]
    },
    {
      "cell_type": "code",
      "metadata": {
        "id": "ZCXbFkmnBAEK"
      },
      "source": [
        "x_train, x_test = train_test_split(df, test_size=0.3,random_state=30)\n"
      ],
      "execution_count": 10,
      "outputs": []
    },
    {
      "cell_type": "code",
      "metadata": {
        "colab": {
          "base_uri": "https://localhost:8080/"
        },
        "id": "f0tnHrxuBLCV",
        "outputId": "922ad7f0-a5a0-4104-9a14-7152d91601f7"
      },
      "source": [
        "print(\"Shape of training data\", x_train.shape)\n",
        "print(\"Shape of test data\", x_test.shape)\n"
      ],
      "execution_count": 11,
      "outputs": [
        {
          "output_type": "stream",
          "name": "stdout",
          "text": [
            "Shape of training data (2702, 2)\n",
            "Shape of test data (1159, 2)\n"
          ]
        }
      ]
    },
    {
      "cell_type": "code",
      "metadata": {
        "id": "yZtNp0ja-lRE"
      },
      "source": [
        "import tensorflow as tf\n",
        "from keras.preprocessing.image import ImageDataGenerator\n",
        "from keras.models import Sequential, Model\n",
        "from keras.layers import Dense, Flatten, Dropout, GlobalAveragePooling2D"
      ],
      "execution_count": 12,
      "outputs": []
    },
    {
      "cell_type": "code",
      "metadata": {
        "colab": {
          "base_uri": "https://localhost:8080/"
        },
        "id": "JvaD2h8Olrvv",
        "outputId": "ef838dce-a49d-4218-d6b8-d23256215bed"
      },
      "source": [
        "image_data_generator = ImageDataGenerator(rescale = 1./255,\n",
        "    rotation_range=40,\n",
        "      width_shift_range=0.2,\n",
        "      height_shift_range=0.2,\n",
        "      shear_range=0.2,\n",
        "      zoom_range=0.2,\n",
        "      horizontal_flip=True,\n",
        "      fill_mode='nearest')\n",
        "\n",
        "train = image_data_generator.flow_from_dataframe(dataframe=x_train, x_col='image', y_col='label', target_size=(445, 590), color_mode='rgb', class_mode='categorical', shuffle=False)\n",
        "test = image_data_generator.flow_from_dataframe(dataframe=x_test, x_col='image', y_col='label', target_size=(445, 590), color_mode='rgb', class_mode='categorical', shuffle=False)\n",
        "#val = image_data_generator.flow_from_dataframe(dataframe=x_val, x_col='image', y_col='label', target_size=(200,200), color_mode='rgb', class_mode='categorical',shuffle=False)"
      ],
      "execution_count": 13,
      "outputs": [
        {
          "output_type": "stream",
          "name": "stdout",
          "text": [
            "Found 2702 validated image filenames belonging to 9 classes.\n",
            "Found 1159 validated image filenames belonging to 9 classes.\n"
          ]
        }
      ]
    },
    {
      "cell_type": "code",
      "metadata": {
        "colab": {
          "base_uri": "https://localhost:8080/"
        },
        "id": "9COqBsAS-LXp",
        "outputId": "ffef78a2-0513-4077-eaee-9ae66bc47b8c"
      },
      "source": [
        "model = tf.keras.models.Sequential([\n",
        "    tf.keras.layers.Conv2D(64, (3,3), activation='relu', input_shape=input_shape ),\n",
        "    tf.keras.layers.MaxPool2D(pool_size = (2,2)),\n",
        "    tf.keras.layers.Conv2D(64, (3,3), activation='relu'),\n",
        "    tf.keras.layers.MaxPool2D(pool_size = (2,2)),\n",
        "    tf.keras.layers.Conv2D(32, (3,3), activation='relu'),\n",
        "    tf.keras.layers.MaxPool2D(pool_size = (2,2)),\n",
        "    tf.keras.layers.Conv2D(32, (3,3), activation='relu'),\n",
        "    tf.keras.layers.MaxPool2D(pool_size = (2,2)),\n",
        "    tf.keras.layers.Flatten(),\n",
        "    tf.keras.layers.Dense(512, activation='relu'),\n",
        "    tf.keras.layers.Dense(128, activation='relu'),\n",
        "    tf.keras.layers.Dropout(0.2),\n",
        "    tf.keras.layers.Dense(128, activation='relu'),\n",
        "    tf.keras.layers.Dropout(0.2),\n",
        "    tf.keras.layers.Dense(9, activation='softmax')\n",
        "])\n",
        "\n",
        "model.summary()"
      ],
      "execution_count": 14,
      "outputs": [
        {
          "output_type": "stream",
          "name": "stdout",
          "text": [
            "Model: \"sequential\"\n",
            "_________________________________________________________________\n",
            " Layer (type)                Output Shape              Param #   \n",
            "=================================================================\n",
            " conv2d (Conv2D)             (None, 443, 588, 64)      1792      \n",
            "                                                                 \n",
            " max_pooling2d (MaxPooling2D  (None, 221, 294, 64)     0         \n",
            " )                                                               \n",
            "                                                                 \n",
            " conv2d_1 (Conv2D)           (None, 219, 292, 64)      36928     \n",
            "                                                                 \n",
            " max_pooling2d_1 (MaxPooling  (None, 109, 146, 64)     0         \n",
            " 2D)                                                             \n",
            "                                                                 \n",
            " conv2d_2 (Conv2D)           (None, 107, 144, 32)      18464     \n",
            "                                                                 \n",
            " max_pooling2d_2 (MaxPooling  (None, 53, 72, 32)       0         \n",
            " 2D)                                                             \n",
            "                                                                 \n",
            " conv2d_3 (Conv2D)           (None, 51, 70, 32)        9248      \n",
            "                                                                 \n",
            " max_pooling2d_3 (MaxPooling  (None, 25, 35, 32)       0         \n",
            " 2D)                                                             \n",
            "                                                                 \n",
            " flatten (Flatten)           (None, 28000)             0         \n",
            "                                                                 \n",
            " dense (Dense)               (None, 512)               14336512  \n",
            "                                                                 \n",
            " dense_1 (Dense)             (None, 128)               65664     \n",
            "                                                                 \n",
            " dropout (Dropout)           (None, 128)               0         \n",
            "                                                                 \n",
            " dense_2 (Dense)             (None, 128)               16512     \n",
            "                                                                 \n",
            " dropout_1 (Dropout)         (None, 128)               0         \n",
            "                                                                 \n",
            " dense_3 (Dense)             (None, 9)                 1161      \n",
            "                                                                 \n",
            "=================================================================\n",
            "Total params: 14,486,281\n",
            "Trainable params: 14,486,281\n",
            "Non-trainable params: 0\n",
            "_________________________________________________________________\n"
          ]
        }
      ]
    },
    {
      "cell_type": "code",
      "metadata": {
        "id": "bdydueh9iClV"
      },
      "source": [
        "from tensorflow.keras.optimizers import Adam\n"
      ],
      "execution_count": 15,
      "outputs": []
    },
    {
      "cell_type": "code",
      "metadata": {
        "colab": {
          "base_uri": "https://localhost:8080/"
        },
        "id": "YsEV56Syf5fk",
        "outputId": "71d1d49e-573b-4f15-f485-7a1eb5635c31"
      },
      "source": [
        "model.compile(optimizer=\"adam\", loss='categorical_crossentropy', metrics=[\"accuracy\"])\n",
        "\n",
        "callback = tf.keras.callbacks.EarlyStopping(monitor='accuracy', patience=4)\n",
        "\n",
        "history = model.fit(train, validation_data=val, epochs=20, callbacks=callback)"
      ],
      "execution_count": 17,
      "outputs": [
        {
          "output_type": "stream",
          "name": "stdout",
          "text": [
            "Epoch 1/20\n",
            "85/85 [==============================] - 1362s 16s/step - loss: 2.1690 - accuracy: 0.1310\n",
            "Epoch 2/20\n",
            "85/85 [==============================] - 205s 2s/step - loss: 1.8135 - accuracy: 0.2924\n",
            "Epoch 3/20\n",
            "85/85 [==============================] - 213s 3s/step - loss: 1.4772 - accuracy: 0.4256\n",
            "Epoch 4/20\n",
            "85/85 [==============================] - 214s 3s/step - loss: 1.3345 - accuracy: 0.4804\n",
            "Epoch 5/20\n",
            "85/85 [==============================] - 213s 3s/step - loss: 1.3187 - accuracy: 0.5019\n",
            "Epoch 6/20\n",
            "85/85 [==============================] - 217s 3s/step - loss: 1.1223 - accuracy: 0.5581\n",
            "Epoch 7/20\n",
            "85/85 [==============================] - 213s 3s/step - loss: 1.1097 - accuracy: 0.5740\n",
            "Epoch 8/20\n",
            "85/85 [==============================] - 214s 3s/step - loss: 1.0016 - accuracy: 0.6144\n",
            "Epoch 9/20\n",
            "85/85 [==============================] - 213s 3s/step - loss: 0.9176 - accuracy: 0.6458\n",
            "Epoch 10/20\n",
            "85/85 [==============================] - 207s 2s/step - loss: 0.8834 - accuracy: 0.6647\n",
            "Epoch 11/20\n",
            "85/85 [==============================] - 208s 2s/step - loss: 0.8150 - accuracy: 0.6902\n",
            "Epoch 12/20\n",
            "85/85 [==============================] - 208s 2s/step - loss: 0.8160 - accuracy: 0.6943\n",
            "Epoch 13/20\n",
            "85/85 [==============================] - 205s 2s/step - loss: 0.6800 - accuracy: 0.7502\n",
            "Epoch 14/20\n",
            "85/85 [==============================] - 204s 2s/step - loss: 0.6402 - accuracy: 0.7528\n",
            "Epoch 15/20\n",
            "85/85 [==============================] - 203s 2s/step - loss: 0.6117 - accuracy: 0.7772\n",
            "Epoch 16/20\n",
            "85/85 [==============================] - 205s 2s/step - loss: 0.6140 - accuracy: 0.7683\n",
            "Epoch 17/20\n",
            "85/85 [==============================] - 204s 2s/step - loss: 0.5797 - accuracy: 0.7887\n",
            "Epoch 18/20\n",
            "85/85 [==============================] - 203s 2s/step - loss: 0.5808 - accuracy: 0.7968\n",
            "Epoch 19/20\n",
            "85/85 [==============================] - 202s 2s/step - loss: 0.5044 - accuracy: 0.8209\n",
            "Epoch 20/20\n",
            "85/85 [==============================] - 204s 2s/step - loss: 0.4061 - accuracy: 0.8571\n"
          ]
        }
      ]
    },
    {
      "cell_type": "code",
      "metadata": {
        "id": "gjNeqr8O9Afi"
      },
      "source": [
        "model.save('/content/drive/MyDrive/Colab Notebooks/BigData/BigDataProject/AUGMENTED DATASET/KERAS/model-1.h5')\n"
      ],
      "execution_count": 18,
      "outputs": []
    },
    {
      "cell_type": "code",
      "metadata": {
        "id": "Y5ClEsE89qBK"
      },
      "source": [
        "accuracy = history.history['accuracy']\n",
        "loss = history.history['loss']"
      ],
      "execution_count": 31,
      "outputs": []
    },
    {
      "cell_type": "code",
      "metadata": {
        "colab": {
          "base_uri": "https://localhost:8080/",
          "height": 325
        },
        "id": "vM8U1rgC9vQs",
        "outputId": "fdaa0c99-3588-4be7-b9c9-c3210c35d16d"
      },
      "source": [
        "import matplotlib.pyplot as plt\n",
        "\n",
        "plt.figure(figsize=(15,10))\n",
        "\n",
        "plt.subplot(2, 2, 1)\n",
        "plt.plot(accuracy, label = \"Training accuracy\")\n",
        "plt.xlabel(\"epochs\")\n",
        "plt.ylabel(\"Accuracy\")\n",
        "plt.legend()\n",
        "plt.title(\"Training accuracy\")\n",
        "\n",
        "\n",
        "plt.subplot(2,2,2)\n",
        "plt.plot(loss, label = \"Training loss\")\n",
        "plt.xlabel(\"epochs\")\n",
        "plt.ylabel(\"Loss\")\n",
        "plt.legend()\n",
        "plt.title(\"Training loss\")\n",
        "\n",
        "plt.show()"
      ],
      "execution_count": 30,
      "outputs": [
        {
          "output_type": "display_data",
          "data": {
            "image/png": "[encoded data removed]",
            "text/plain": [
              "<Figure size 1080x720 with 2 Axes>"
            ]
          },
          "metadata": {
            "needs_background": "light"
          }
        }
      ]
    },
    {
      "cell_type": "code",
      "metadata": {
        "colab": {
          "base_uri": "https://localhost:8080/"
        },
        "id": "y8OY9PrpODnw",
        "outputId": "49612315-b7a5-4135-f78d-9c75ad102d95"
      },
      "source": [
        "test_accuracy = model.evaluate(test)[1]"
      ],
      "execution_count": 32,
      "outputs": [
        {
          "output_type": "stream",
          "name": "stdout",
          "text": [
            "37/37 [==============================] - 653s 18s/step - loss: 0.4214 - accuracy: 0.8430\n"
          ]
        }
      ]
    }
  ]
}